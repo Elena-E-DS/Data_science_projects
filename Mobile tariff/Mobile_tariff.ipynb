{
  "cells": [
    {
      "cell_type": "markdown",
      "metadata": {
        "id": "voI0v7pVhTgP"
      },
      "source": [
        "# Рекомендация тарифов"
      ]
    },
    {
      "cell_type": "markdown",
      "metadata": {
        "id": "8pcgM52ThTgQ"
      },
      "source": [
        "В нашем распоряжении данные о поведении клиентов, которые уже перешли на новые тарифы  «Смарт» или «Ультра». Нужно построить модель для задачи классификации, которая выберет подходящий тариф. Предобработка данных не понадобится.\n",
        "\n",
        "*Примечание: значение accuracy должно превышать 0.75.*\n",
        "\n",
        "Описание данных:   \n",
        "Каждый объект в наборе данных — это информация о поведении одного пользователя за месяц. Известно:   \n",
        "- сalls — количество звонков,\n",
        "- minutes — суммарная длительность звонков в минутах,\n",
        "- messages — количество sms-сообщений,\n",
        "- mb_used — израсходованный интернет-трафик в Мб,\n",
        "- is_ultra — каким тарифом пользовался в течение месяца («Ультра» — 1, «Смарт» — 0)."
      ]
    },
    {
      "cell_type": "markdown",
      "metadata": {
        "id": "rixabluVhTgQ"
      },
      "source": [
        "## Знакомство с данными"
      ]
    },
    {
      "cell_type": "code",
      "source": [
        "%%capture\n",
        "!pip install scikit-plot"
      ],
      "metadata": {
        "id": "wQ02TMnmWEM4"
      },
      "execution_count": 1,
      "outputs": []
    },
    {
      "cell_type": "code",
      "execution_count": null,
      "metadata": {
        "id": "1C8aR3EjhTgR"
      },
      "outputs": [],
      "source": [
        "import matplotlib.pyplot as plt\n",
        "import pandas as pd\n",
        "import warnings\n",
        "\n",
        "from joblib import dump\n",
        "\n",
        "import scikitplot as skplt\n",
        "\n",
        "from sklearn.dummy import DummyClassifier\n",
        "from sklearn.ensemble import RandomForestClassifier\n",
        "from sklearn.linear_model import LogisticRegression\n",
        "from sklearn.metrics import accuracy_score\n",
        "from sklearn.metrics import confusion_matrix, ConfusionMatrixDisplay\n",
        "from sklearn.model_selection import GridSearchCV\n",
        "from sklearn.model_selection import RandomizedSearchCV\n",
        "from sklearn.model_selection import train_test_split\n",
        "from sklearn.tree import DecisionTreeClassifier\n",
        "\n",
        "warnings.filterwarnings(\"ignore\")"
      ]
    },
    {
      "cell_type": "code",
      "source": [
        "data = pd.read_csv('/datasets/users_behavior.csv')\n",
        "\n",
        "data.head(10)"
      ],
      "metadata": {
        "colab": {
          "base_uri": "https://localhost:8080/",
          "height": 363
        },
        "id": "GP_cyRMZig73",
        "outputId": "a8b2bd59-e8e9-428f-964e-de5b25cdc813"
      },
      "execution_count": null,
      "outputs": [
        {
          "output_type": "execute_result",
          "data": {
            "text/plain": [
              "   calls  minutes  messages   mb_used  is_ultra\n",
              "0   40.0   311.90      83.0  19915.42         0\n",
              "1   85.0   516.75      56.0  22696.96         0\n",
              "2   77.0   467.66      86.0  21060.45         0\n",
              "3  106.0   745.53      81.0   8437.39         1\n",
              "4   66.0   418.74       1.0  14502.75         0\n",
              "5   58.0   344.56      21.0  15823.37         0\n",
              "6   57.0   431.64      20.0   3738.90         1\n",
              "7   15.0   132.40       6.0  21911.60         0\n",
              "8    7.0    43.39       3.0   2538.67         1\n",
              "9   90.0   665.41      38.0  17358.61         0"
            ],
            "text/html": [
              "\n",
              "  <div id=\"df-29e00a6a-2a1f-4833-b7f3-6e7af4a3c81a\" class=\"colab-df-container\">\n",
              "    <div>\n",
              "<style scoped>\n",
              "    .dataframe tbody tr th:only-of-type {\n",
              "        vertical-align: middle;\n",
              "    }\n",
              "\n",
              "    .dataframe tbody tr th {\n",
              "        vertical-align: top;\n",
              "    }\n",
              "\n",
              "    .dataframe thead th {\n",
              "        text-align: right;\n",
              "    }\n",
              "</style>\n",
              "<table border=\"1\" class=\"dataframe\">\n",
              "  <thead>\n",
              "    <tr style=\"text-align: right;\">\n",
              "      <th></th>\n",
              "      <th>calls</th>\n",
              "      <th>minutes</th>\n",
              "      <th>messages</th>\n",
              "      <th>mb_used</th>\n",
              "      <th>is_ultra</th>\n",
              "    </tr>\n",
              "  </thead>\n",
              "  <tbody>\n",
              "    <tr>\n",
              "      <th>0</th>\n",
              "      <td>40.0</td>\n",
              "      <td>311.90</td>\n",
              "      <td>83.0</td>\n",
              "      <td>19915.42</td>\n",
              "      <td>0</td>\n",
              "    </tr>\n",
              "    <tr>\n",
              "      <th>1</th>\n",
              "      <td>85.0</td>\n",
              "      <td>516.75</td>\n",
              "      <td>56.0</td>\n",
              "      <td>22696.96</td>\n",
              "      <td>0</td>\n",
              "    </tr>\n",
              "    <tr>\n",
              "      <th>2</th>\n",
              "      <td>77.0</td>\n",
              "      <td>467.66</td>\n",
              "      <td>86.0</td>\n",
              "      <td>21060.45</td>\n",
              "      <td>0</td>\n",
              "    </tr>\n",
              "    <tr>\n",
              "      <th>3</th>\n",
              "      <td>106.0</td>\n",
              "      <td>745.53</td>\n",
              "      <td>81.0</td>\n",
              "      <td>8437.39</td>\n",
              "      <td>1</td>\n",
              "    </tr>\n",
              "    <tr>\n",
              "      <th>4</th>\n",
              "      <td>66.0</td>\n",
              "      <td>418.74</td>\n",
              "      <td>1.0</td>\n",
              "      <td>14502.75</td>\n",
              "      <td>0</td>\n",
              "    </tr>\n",
              "    <tr>\n",
              "      <th>5</th>\n",
              "      <td>58.0</td>\n",
              "      <td>344.56</td>\n",
              "      <td>21.0</td>\n",
              "      <td>15823.37</td>\n",
              "      <td>0</td>\n",
              "    </tr>\n",
              "    <tr>\n",
              "      <th>6</th>\n",
              "      <td>57.0</td>\n",
              "      <td>431.64</td>\n",
              "      <td>20.0</td>\n",
              "      <td>3738.90</td>\n",
              "      <td>1</td>\n",
              "    </tr>\n",
              "    <tr>\n",
              "      <th>7</th>\n",
              "      <td>15.0</td>\n",
              "      <td>132.40</td>\n",
              "      <td>6.0</td>\n",
              "      <td>21911.60</td>\n",
              "      <td>0</td>\n",
              "    </tr>\n",
              "    <tr>\n",
              "      <th>8</th>\n",
              "      <td>7.0</td>\n",
              "      <td>43.39</td>\n",
              "      <td>3.0</td>\n",
              "      <td>2538.67</td>\n",
              "      <td>1</td>\n",
              "    </tr>\n",
              "    <tr>\n",
              "      <th>9</th>\n",
              "      <td>90.0</td>\n",
              "      <td>665.41</td>\n",
              "      <td>38.0</td>\n",
              "      <td>17358.61</td>\n",
              "      <td>0</td>\n",
              "    </tr>\n",
              "  </tbody>\n",
              "</table>\n",
              "</div>\n",
              "    <div class=\"colab-df-buttons\">\n",
              "\n",
              "  <div class=\"colab-df-container\">\n",
              "    <button class=\"colab-df-convert\" onclick=\"convertToInteractive('df-29e00a6a-2a1f-4833-b7f3-6e7af4a3c81a')\"\n",
              "            title=\"Convert this dataframe to an interactive table.\"\n",
              "            style=\"display:none;\">\n",
              "\n",
              "  <svg xmlns=\"http://www.w3.org/2000/svg\" height=\"24px\" viewBox=\"0 -960 960 960\">\n",
              "    <path d=\"M120-120v-720h720v720H120Zm60-500h600v-160H180v160Zm220 220h160v-160H400v160Zm0 220h160v-160H400v160ZM180-400h160v-160H180v160Zm440 0h160v-160H620v160ZM180-180h160v-160H180v160Zm440 0h160v-160H620v160Z\"/>\n",
              "  </svg>\n",
              "    </button>\n",
              "\n",
              "  <style>\n",
              "    .colab-df-container {\n",
              "      display:flex;\n",
              "      gap: 12px;\n",
              "    }\n",
              "\n",
              "    .colab-df-convert {\n",
              "      background-color: #E8F0FE;\n",
              "      border: none;\n",
              "      border-radius: 50%;\n",
              "      cursor: pointer;\n",
              "      display: none;\n",
              "      fill: #1967D2;\n",
              "      height: 32px;\n",
              "      padding: 0 0 0 0;\n",
              "      width: 32px;\n",
              "    }\n",
              "\n",
              "    .colab-df-convert:hover {\n",
              "      background-color: #E2EBFA;\n",
              "      box-shadow: 0px 1px 2px rgba(60, 64, 67, 0.3), 0px 1px 3px 1px rgba(60, 64, 67, 0.15);\n",
              "      fill: #174EA6;\n",
              "    }\n",
              "\n",
              "    .colab-df-buttons div {\n",
              "      margin-bottom: 4px;\n",
              "    }\n",
              "\n",
              "    [theme=dark] .colab-df-convert {\n",
              "      background-color: #3B4455;\n",
              "      fill: #D2E3FC;\n",
              "    }\n",
              "\n",
              "    [theme=dark] .colab-df-convert:hover {\n",
              "      background-color: #434B5C;\n",
              "      box-shadow: 0px 1px 3px 1px rgba(0, 0, 0, 0.15);\n",
              "      filter: drop-shadow(0px 1px 2px rgba(0, 0, 0, 0.3));\n",
              "      fill: #FFFFFF;\n",
              "    }\n",
              "  </style>\n",
              "\n",
              "    <script>\n",
              "      const buttonEl =\n",
              "        document.querySelector('#df-29e00a6a-2a1f-4833-b7f3-6e7af4a3c81a button.colab-df-convert');\n",
              "      buttonEl.style.display =\n",
              "        google.colab.kernel.accessAllowed ? 'block' : 'none';\n",
              "\n",
              "      async function convertToInteractive(key) {\n",
              "        const element = document.querySelector('#df-29e00a6a-2a1f-4833-b7f3-6e7af4a3c81a');\n",
              "        const dataTable =\n",
              "          await google.colab.kernel.invokeFunction('convertToInteractive',\n",
              "                                                    [key], {});\n",
              "        if (!dataTable) return;\n",
              "\n",
              "        const docLinkHtml = 'Like what you see? Visit the ' +\n",
              "          '<a target=\"_blank\" href=https://colab.research.google.com/notebooks/data_table.ipynb>data table notebook</a>'\n",
              "          + ' to learn more about interactive tables.';\n",
              "        element.innerHTML = '';\n",
              "        dataTable['output_type'] = 'display_data';\n",
              "        await google.colab.output.renderOutput(dataTable, element);\n",
              "        const docLink = document.createElement('div');\n",
              "        docLink.innerHTML = docLinkHtml;\n",
              "        element.appendChild(docLink);\n",
              "      }\n",
              "    </script>\n",
              "  </div>\n",
              "\n",
              "\n",
              "<div id=\"df-ed542bea-195b-49d2-a09e-0270cd3d0d2c\">\n",
              "  <button class=\"colab-df-quickchart\" onclick=\"quickchart('df-ed542bea-195b-49d2-a09e-0270cd3d0d2c')\"\n",
              "            title=\"Suggest charts.\"\n",
              "            style=\"display:none;\">\n",
              "\n",
              "<svg xmlns=\"http://www.w3.org/2000/svg\" height=\"24px\"viewBox=\"0 0 24 24\"\n",
              "     width=\"24px\">\n",
              "    <g>\n",
              "        <path d=\"M19 3H5c-1.1 0-2 .9-2 2v14c0 1.1.9 2 2 2h14c1.1 0 2-.9 2-2V5c0-1.1-.9-2-2-2zM9 17H7v-7h2v7zm4 0h-2V7h2v10zm4 0h-2v-4h2v4z\"/>\n",
              "    </g>\n",
              "</svg>\n",
              "  </button>\n",
              "\n",
              "<style>\n",
              "  .colab-df-quickchart {\n",
              "      --bg-color: #E8F0FE;\n",
              "      --fill-color: #1967D2;\n",
              "      --hover-bg-color: #E2EBFA;\n",
              "      --hover-fill-color: #174EA6;\n",
              "      --disabled-fill-color: #AAA;\n",
              "      --disabled-bg-color: #DDD;\n",
              "  }\n",
              "\n",
              "  [theme=dark] .colab-df-quickchart {\n",
              "      --bg-color: #3B4455;\n",
              "      --fill-color: #D2E3FC;\n",
              "      --hover-bg-color: #434B5C;\n",
              "      --hover-fill-color: #FFFFFF;\n",
              "      --disabled-bg-color: #3B4455;\n",
              "      --disabled-fill-color: #666;\n",
              "  }\n",
              "\n",
              "  .colab-df-quickchart {\n",
              "    background-color: var(--bg-color);\n",
              "    border: none;\n",
              "    border-radius: 50%;\n",
              "    cursor: pointer;\n",
              "    display: none;\n",
              "    fill: var(--fill-color);\n",
              "    height: 32px;\n",
              "    padding: 0;\n",
              "    width: 32px;\n",
              "  }\n",
              "\n",
              "  .colab-df-quickchart:hover {\n",
              "    background-color: var(--hover-bg-color);\n",
              "    box-shadow: 0 1px 2px rgba(60, 64, 67, 0.3), 0 1px 3px 1px rgba(60, 64, 67, 0.15);\n",
              "    fill: var(--button-hover-fill-color);\n",
              "  }\n",
              "\n",
              "  .colab-df-quickchart-complete:disabled,\n",
              "  .colab-df-quickchart-complete:disabled:hover {\n",
              "    background-color: var(--disabled-bg-color);\n",
              "    fill: var(--disabled-fill-color);\n",
              "    box-shadow: none;\n",
              "  }\n",
              "\n",
              "  .colab-df-spinner {\n",
              "    border: 2px solid var(--fill-color);\n",
              "    border-color: transparent;\n",
              "    border-bottom-color: var(--fill-color);\n",
              "    animation:\n",
              "      spin 1s steps(1) infinite;\n",
              "  }\n",
              "\n",
              "  @keyframes spin {\n",
              "    0% {\n",
              "      border-color: transparent;\n",
              "      border-bottom-color: var(--fill-color);\n",
              "      border-left-color: var(--fill-color);\n",
              "    }\n",
              "    20% {\n",
              "      border-color: transparent;\n",
              "      border-left-color: var(--fill-color);\n",
              "      border-top-color: var(--fill-color);\n",
              "    }\n",
              "    30% {\n",
              "      border-color: transparent;\n",
              "      border-left-color: var(--fill-color);\n",
              "      border-top-color: var(--fill-color);\n",
              "      border-right-color: var(--fill-color);\n",
              "    }\n",
              "    40% {\n",
              "      border-color: transparent;\n",
              "      border-right-color: var(--fill-color);\n",
              "      border-top-color: var(--fill-color);\n",
              "    }\n",
              "    60% {\n",
              "      border-color: transparent;\n",
              "      border-right-color: var(--fill-color);\n",
              "    }\n",
              "    80% {\n",
              "      border-color: transparent;\n",
              "      border-right-color: var(--fill-color);\n",
              "      border-bottom-color: var(--fill-color);\n",
              "    }\n",
              "    90% {\n",
              "      border-color: transparent;\n",
              "      border-bottom-color: var(--fill-color);\n",
              "    }\n",
              "  }\n",
              "</style>\n",
              "\n",
              "  <script>\n",
              "    async function quickchart(key) {\n",
              "      const quickchartButtonEl =\n",
              "        document.querySelector('#' + key + ' button');\n",
              "      quickchartButtonEl.disabled = true;  // To prevent multiple clicks.\n",
              "      quickchartButtonEl.classList.add('colab-df-spinner');\n",
              "      try {\n",
              "        const charts = await google.colab.kernel.invokeFunction(\n",
              "            'suggestCharts', [key], {});\n",
              "      } catch (error) {\n",
              "        console.error('Error during call to suggestCharts:', error);\n",
              "      }\n",
              "      quickchartButtonEl.classList.remove('colab-df-spinner');\n",
              "      quickchartButtonEl.classList.add('colab-df-quickchart-complete');\n",
              "    }\n",
              "    (() => {\n",
              "      let quickchartButtonEl =\n",
              "        document.querySelector('#df-ed542bea-195b-49d2-a09e-0270cd3d0d2c button');\n",
              "      quickchartButtonEl.style.display =\n",
              "        google.colab.kernel.accessAllowed ? 'block' : 'none';\n",
              "    })();\n",
              "  </script>\n",
              "</div>\n",
              "    </div>\n",
              "  </div>\n"
            ]
          },
          "metadata": {},
          "execution_count": 3
        }
      ]
    },
    {
      "cell_type": "code",
      "execution_count": null,
      "metadata": {
        "colab": {
          "base_uri": "https://localhost:8080/"
        },
        "id": "X-jh0eOChTgW",
        "outputId": "2fca51db-a7ae-4bbc-e30d-9a6e9cd93bb1"
      },
      "outputs": [
        {
          "output_type": "stream",
          "name": "stdout",
          "text": [
            "<class 'pandas.core.frame.DataFrame'>\n",
            "RangeIndex: 3214 entries, 0 to 3213\n",
            "Data columns (total 5 columns):\n",
            " #   Column    Non-Null Count  Dtype  \n",
            "---  ------    --------------  -----  \n",
            " 0   calls     3214 non-null   float64\n",
            " 1   minutes   3214 non-null   float64\n",
            " 2   messages  3214 non-null   float64\n",
            " 3   mb_used   3214 non-null   float64\n",
            " 4   is_ultra  3214 non-null   int64  \n",
            "dtypes: float64(4), int64(1)\n",
            "memory usage: 125.7 KB\n"
          ]
        }
      ],
      "source": [
        "data.info()"
      ]
    },
    {
      "cell_type": "code",
      "execution_count": null,
      "metadata": {
        "colab": {
          "base_uri": "https://localhost:8080/",
          "height": 300
        },
        "id": "d6R46rcmhTgW",
        "outputId": "b1515240-c82f-4f0b-95eb-e60a9bc92c10"
      },
      "outputs": [
        {
          "output_type": "execute_result",
          "data": {
            "text/plain": [
              "             calls      minutes     messages       mb_used     is_ultra\n",
              "count  3214.000000  3214.000000  3214.000000   3214.000000  3214.000000\n",
              "mean     63.038892   438.208787    38.281269  17207.673836     0.306472\n",
              "std      33.236368   234.569872    36.148326   7570.968246     0.461100\n",
              "min       0.000000     0.000000     0.000000      0.000000     0.000000\n",
              "25%      40.000000   274.575000     9.000000  12491.902500     0.000000\n",
              "50%      62.000000   430.600000    30.000000  16943.235000     0.000000\n",
              "75%      82.000000   571.927500    57.000000  21424.700000     1.000000\n",
              "max     244.000000  1632.060000   224.000000  49745.730000     1.000000"
            ],
            "text/html": [
              "\n",
              "  <div id=\"df-66bbdc3e-fcad-4f64-878b-0b1e86e79298\" class=\"colab-df-container\">\n",
              "    <div>\n",
              "<style scoped>\n",
              "    .dataframe tbody tr th:only-of-type {\n",
              "        vertical-align: middle;\n",
              "    }\n",
              "\n",
              "    .dataframe tbody tr th {\n",
              "        vertical-align: top;\n",
              "    }\n",
              "\n",
              "    .dataframe thead th {\n",
              "        text-align: right;\n",
              "    }\n",
              "</style>\n",
              "<table border=\"1\" class=\"dataframe\">\n",
              "  <thead>\n",
              "    <tr style=\"text-align: right;\">\n",
              "      <th></th>\n",
              "      <th>calls</th>\n",
              "      <th>minutes</th>\n",
              "      <th>messages</th>\n",
              "      <th>mb_used</th>\n",
              "      <th>is_ultra</th>\n",
              "    </tr>\n",
              "  </thead>\n",
              "  <tbody>\n",
              "    <tr>\n",
              "      <th>count</th>\n",
              "      <td>3214.000000</td>\n",
              "      <td>3214.000000</td>\n",
              "      <td>3214.000000</td>\n",
              "      <td>3214.000000</td>\n",
              "      <td>3214.000000</td>\n",
              "    </tr>\n",
              "    <tr>\n",
              "      <th>mean</th>\n",
              "      <td>63.038892</td>\n",
              "      <td>438.208787</td>\n",
              "      <td>38.281269</td>\n",
              "      <td>17207.673836</td>\n",
              "      <td>0.306472</td>\n",
              "    </tr>\n",
              "    <tr>\n",
              "      <th>std</th>\n",
              "      <td>33.236368</td>\n",
              "      <td>234.569872</td>\n",
              "      <td>36.148326</td>\n",
              "      <td>7570.968246</td>\n",
              "      <td>0.461100</td>\n",
              "    </tr>\n",
              "    <tr>\n",
              "      <th>min</th>\n",
              "      <td>0.000000</td>\n",
              "      <td>0.000000</td>\n",
              "      <td>0.000000</td>\n",
              "      <td>0.000000</td>\n",
              "      <td>0.000000</td>\n",
              "    </tr>\n",
              "    <tr>\n",
              "      <th>25%</th>\n",
              "      <td>40.000000</td>\n",
              "      <td>274.575000</td>\n",
              "      <td>9.000000</td>\n",
              "      <td>12491.902500</td>\n",
              "      <td>0.000000</td>\n",
              "    </tr>\n",
              "    <tr>\n",
              "      <th>50%</th>\n",
              "      <td>62.000000</td>\n",
              "      <td>430.600000</td>\n",
              "      <td>30.000000</td>\n",
              "      <td>16943.235000</td>\n",
              "      <td>0.000000</td>\n",
              "    </tr>\n",
              "    <tr>\n",
              "      <th>75%</th>\n",
              "      <td>82.000000</td>\n",
              "      <td>571.927500</td>\n",
              "      <td>57.000000</td>\n",
              "      <td>21424.700000</td>\n",
              "      <td>1.000000</td>\n",
              "    </tr>\n",
              "    <tr>\n",
              "      <th>max</th>\n",
              "      <td>244.000000</td>\n",
              "      <td>1632.060000</td>\n",
              "      <td>224.000000</td>\n",
              "      <td>49745.730000</td>\n",
              "      <td>1.000000</td>\n",
              "    </tr>\n",
              "  </tbody>\n",
              "</table>\n",
              "</div>\n",
              "    <div class=\"colab-df-buttons\">\n",
              "\n",
              "  <div class=\"colab-df-container\">\n",
              "    <button class=\"colab-df-convert\" onclick=\"convertToInteractive('df-66bbdc3e-fcad-4f64-878b-0b1e86e79298')\"\n",
              "            title=\"Convert this dataframe to an interactive table.\"\n",
              "            style=\"display:none;\">\n",
              "\n",
              "  <svg xmlns=\"http://www.w3.org/2000/svg\" height=\"24px\" viewBox=\"0 -960 960 960\">\n",
              "    <path d=\"M120-120v-720h720v720H120Zm60-500h600v-160H180v160Zm220 220h160v-160H400v160Zm0 220h160v-160H400v160ZM180-400h160v-160H180v160Zm440 0h160v-160H620v160ZM180-180h160v-160H180v160Zm440 0h160v-160H620v160Z\"/>\n",
              "  </svg>\n",
              "    </button>\n",
              "\n",
              "  <style>\n",
              "    .colab-df-container {\n",
              "      display:flex;\n",
              "      gap: 12px;\n",
              "    }\n",
              "\n",
              "    .colab-df-convert {\n",
              "      background-color: #E8F0FE;\n",
              "      border: none;\n",
              "      border-radius: 50%;\n",
              "      cursor: pointer;\n",
              "      display: none;\n",
              "      fill: #1967D2;\n",
              "      height: 32px;\n",
              "      padding: 0 0 0 0;\n",
              "      width: 32px;\n",
              "    }\n",
              "\n",
              "    .colab-df-convert:hover {\n",
              "      background-color: #E2EBFA;\n",
              "      box-shadow: 0px 1px 2px rgba(60, 64, 67, 0.3), 0px 1px 3px 1px rgba(60, 64, 67, 0.15);\n",
              "      fill: #174EA6;\n",
              "    }\n",
              "\n",
              "    .colab-df-buttons div {\n",
              "      margin-bottom: 4px;\n",
              "    }\n",
              "\n",
              "    [theme=dark] .colab-df-convert {\n",
              "      background-color: #3B4455;\n",
              "      fill: #D2E3FC;\n",
              "    }\n",
              "\n",
              "    [theme=dark] .colab-df-convert:hover {\n",
              "      background-color: #434B5C;\n",
              "      box-shadow: 0px 1px 3px 1px rgba(0, 0, 0, 0.15);\n",
              "      filter: drop-shadow(0px 1px 2px rgba(0, 0, 0, 0.3));\n",
              "      fill: #FFFFFF;\n",
              "    }\n",
              "  </style>\n",
              "\n",
              "    <script>\n",
              "      const buttonEl =\n",
              "        document.querySelector('#df-66bbdc3e-fcad-4f64-878b-0b1e86e79298 button.colab-df-convert');\n",
              "      buttonEl.style.display =\n",
              "        google.colab.kernel.accessAllowed ? 'block' : 'none';\n",
              "\n",
              "      async function convertToInteractive(key) {\n",
              "        const element = document.querySelector('#df-66bbdc3e-fcad-4f64-878b-0b1e86e79298');\n",
              "        const dataTable =\n",
              "          await google.colab.kernel.invokeFunction('convertToInteractive',\n",
              "                                                    [key], {});\n",
              "        if (!dataTable) return;\n",
              "\n",
              "        const docLinkHtml = 'Like what you see? Visit the ' +\n",
              "          '<a target=\"_blank\" href=https://colab.research.google.com/notebooks/data_table.ipynb>data table notebook</a>'\n",
              "          + ' to learn more about interactive tables.';\n",
              "        element.innerHTML = '';\n",
              "        dataTable['output_type'] = 'display_data';\n",
              "        await google.colab.output.renderOutput(dataTable, element);\n",
              "        const docLink = document.createElement('div');\n",
              "        docLink.innerHTML = docLinkHtml;\n",
              "        element.appendChild(docLink);\n",
              "      }\n",
              "    </script>\n",
              "  </div>\n",
              "\n",
              "\n",
              "<div id=\"df-d2a059f5-5835-47b0-aa10-256f6cb5952f\">\n",
              "  <button class=\"colab-df-quickchart\" onclick=\"quickchart('df-d2a059f5-5835-47b0-aa10-256f6cb5952f')\"\n",
              "            title=\"Suggest charts.\"\n",
              "            style=\"display:none;\">\n",
              "\n",
              "<svg xmlns=\"http://www.w3.org/2000/svg\" height=\"24px\"viewBox=\"0 0 24 24\"\n",
              "     width=\"24px\">\n",
              "    <g>\n",
              "        <path d=\"M19 3H5c-1.1 0-2 .9-2 2v14c0 1.1.9 2 2 2h14c1.1 0 2-.9 2-2V5c0-1.1-.9-2-2-2zM9 17H7v-7h2v7zm4 0h-2V7h2v10zm4 0h-2v-4h2v4z\"/>\n",
              "    </g>\n",
              "</svg>\n",
              "  </button>\n",
              "\n",
              "<style>\n",
              "  .colab-df-quickchart {\n",
              "      --bg-color: #E8F0FE;\n",
              "      --fill-color: #1967D2;\n",
              "      --hover-bg-color: #E2EBFA;\n",
              "      --hover-fill-color: #174EA6;\n",
              "      --disabled-fill-color: #AAA;\n",
              "      --disabled-bg-color: #DDD;\n",
              "  }\n",
              "\n",
              "  [theme=dark] .colab-df-quickchart {\n",
              "      --bg-color: #3B4455;\n",
              "      --fill-color: #D2E3FC;\n",
              "      --hover-bg-color: #434B5C;\n",
              "      --hover-fill-color: #FFFFFF;\n",
              "      --disabled-bg-color: #3B4455;\n",
              "      --disabled-fill-color: #666;\n",
              "  }\n",
              "\n",
              "  .colab-df-quickchart {\n",
              "    background-color: var(--bg-color);\n",
              "    border: none;\n",
              "    border-radius: 50%;\n",
              "    cursor: pointer;\n",
              "    display: none;\n",
              "    fill: var(--fill-color);\n",
              "    height: 32px;\n",
              "    padding: 0;\n",
              "    width: 32px;\n",
              "  }\n",
              "\n",
              "  .colab-df-quickchart:hover {\n",
              "    background-color: var(--hover-bg-color);\n",
              "    box-shadow: 0 1px 2px rgba(60, 64, 67, 0.3), 0 1px 3px 1px rgba(60, 64, 67, 0.15);\n",
              "    fill: var(--button-hover-fill-color);\n",
              "  }\n",
              "\n",
              "  .colab-df-quickchart-complete:disabled,\n",
              "  .colab-df-quickchart-complete:disabled:hover {\n",
              "    background-color: var(--disabled-bg-color);\n",
              "    fill: var(--disabled-fill-color);\n",
              "    box-shadow: none;\n",
              "  }\n",
              "\n",
              "  .colab-df-spinner {\n",
              "    border: 2px solid var(--fill-color);\n",
              "    border-color: transparent;\n",
              "    border-bottom-color: var(--fill-color);\n",
              "    animation:\n",
              "      spin 1s steps(1) infinite;\n",
              "  }\n",
              "\n",
              "  @keyframes spin {\n",
              "    0% {\n",
              "      border-color: transparent;\n",
              "      border-bottom-color: var(--fill-color);\n",
              "      border-left-color: var(--fill-color);\n",
              "    }\n",
              "    20% {\n",
              "      border-color: transparent;\n",
              "      border-left-color: var(--fill-color);\n",
              "      border-top-color: var(--fill-color);\n",
              "    }\n",
              "    30% {\n",
              "      border-color: transparent;\n",
              "      border-left-color: var(--fill-color);\n",
              "      border-top-color: var(--fill-color);\n",
              "      border-right-color: var(--fill-color);\n",
              "    }\n",
              "    40% {\n",
              "      border-color: transparent;\n",
              "      border-right-color: var(--fill-color);\n",
              "      border-top-color: var(--fill-color);\n",
              "    }\n",
              "    60% {\n",
              "      border-color: transparent;\n",
              "      border-right-color: var(--fill-color);\n",
              "    }\n",
              "    80% {\n",
              "      border-color: transparent;\n",
              "      border-right-color: var(--fill-color);\n",
              "      border-bottom-color: var(--fill-color);\n",
              "    }\n",
              "    90% {\n",
              "      border-color: transparent;\n",
              "      border-bottom-color: var(--fill-color);\n",
              "    }\n",
              "  }\n",
              "</style>\n",
              "\n",
              "  <script>\n",
              "    async function quickchart(key) {\n",
              "      const quickchartButtonEl =\n",
              "        document.querySelector('#' + key + ' button');\n",
              "      quickchartButtonEl.disabled = true;  // To prevent multiple clicks.\n",
              "      quickchartButtonEl.classList.add('colab-df-spinner');\n",
              "      try {\n",
              "        const charts = await google.colab.kernel.invokeFunction(\n",
              "            'suggestCharts', [key], {});\n",
              "      } catch (error) {\n",
              "        console.error('Error during call to suggestCharts:', error);\n",
              "      }\n",
              "      quickchartButtonEl.classList.remove('colab-df-spinner');\n",
              "      quickchartButtonEl.classList.add('colab-df-quickchart-complete');\n",
              "    }\n",
              "    (() => {\n",
              "      let quickchartButtonEl =\n",
              "        document.querySelector('#df-d2a059f5-5835-47b0-aa10-256f6cb5952f button');\n",
              "      quickchartButtonEl.style.display =\n",
              "        google.colab.kernel.accessAllowed ? 'block' : 'none';\n",
              "    })();\n",
              "  </script>\n",
              "</div>\n",
              "    </div>\n",
              "  </div>\n"
            ]
          },
          "metadata": {},
          "execution_count": 5
        }
      ],
      "source": [
        "data.describe()"
      ]
    },
    {
      "cell_type": "code",
      "execution_count": null,
      "metadata": {
        "colab": {
          "base_uri": "https://localhost:8080/"
        },
        "id": "41DMhueqhTgX",
        "outputId": "1496b976-69d7-4677-9cef-8270f0cd0e5b"
      },
      "outputs": [
        {
          "output_type": "execute_result",
          "data": {
            "text/plain": [
              "calls       0\n",
              "minutes     0\n",
              "messages    0\n",
              "mb_used     0\n",
              "is_ultra    0\n",
              "dtype: int64"
            ]
          },
          "metadata": {},
          "execution_count": 6
        }
      ],
      "source": [
        "data.isna().sum()"
      ]
    },
    {
      "cell_type": "code",
      "execution_count": null,
      "metadata": {
        "colab": {
          "base_uri": "https://localhost:8080/",
          "height": 1000
        },
        "id": "8Oo59KcYhTgX",
        "outputId": "6cf50a6b-18d0-424d-a195-29d9e1fc733a"
      },
      "outputs": [
        {
          "output_type": "display_data",
          "data": {
            "text/plain": [
              "<Figure size 1000x1500 with 6 Axes>"
            ],
            "image/png": "[encoded data removed]"
          },
          "metadata": {}
        }
      ],
      "source": [
        "data.hist(figsize=(10, 15));"
      ]
    },
    {
      "cell_type": "markdown",
      "metadata": {
        "id": "UhIx48HDhTgY"
      },
      "source": [
        "Определим, имеется ли мультиколлинеарность, т.е. наличие корреляционной взаимосвязи между анализируемыми факторами, которые одновременно оказывают влияние на конечный результат, что может привести к возниконовению проблем с оценкой параметров."
      ]
    },
    {
      "cell_type": "code",
      "execution_count": null,
      "metadata": {
        "colab": {
          "base_uri": "https://localhost:8080/",
          "height": 206
        },
        "id": "VMr69n0qhTgY",
        "outputId": "9a765341-4bad-4442-c909-28c79979c7c3"
      },
      "outputs": [
        {
          "output_type": "execute_result",
          "data": {
            "text/plain": [
              "             calls   minutes  messages   mb_used  is_ultra\n",
              "calls     1.000000  0.982083  0.177385  0.286442  0.207122\n",
              "minutes   0.982083  1.000000  0.173110  0.280967  0.206955\n",
              "messages  0.177385  0.173110  1.000000  0.195721  0.203830\n",
              "mb_used   0.286442  0.280967  0.195721  1.000000  0.198568\n",
              "is_ultra  0.207122  0.206955  0.203830  0.198568  1.000000"
            ],
            "text/html": [
              "\n",
              "  <div id=\"df-2d950b74-7743-474d-a899-d23abfdb4a61\" class=\"colab-df-container\">\n",
              "    <div>\n",
              "<style scoped>\n",
              "    .dataframe tbody tr th:only-of-type {\n",
              "        vertical-align: middle;\n",
              "    }\n",
              "\n",
              "    .dataframe tbody tr th {\n",
              "        vertical-align: top;\n",
              "    }\n",
              "\n",
              "    .dataframe thead th {\n",
              "        text-align: right;\n",
              "    }\n",
              "</style>\n",
              "<table border=\"1\" class=\"dataframe\">\n",
              "  <thead>\n",
              "    <tr style=\"text-align: right;\">\n",
              "      <th></th>\n",
              "      <th>calls</th>\n",
              "      <th>minutes</th>\n",
              "      <th>messages</th>\n",
              "      <th>mb_used</th>\n",
              "      <th>is_ultra</th>\n",
              "    </tr>\n",
              "  </thead>\n",
              "  <tbody>\n",
              "    <tr>\n",
              "      <th>calls</th>\n",
              "      <td>1.000000</td>\n",
              "      <td>0.982083</td>\n",
              "      <td>0.177385</td>\n",
              "      <td>0.286442</td>\n",
              "      <td>0.207122</td>\n",
              "    </tr>\n",
              "    <tr>\n",
              "      <th>minutes</th>\n",
              "      <td>0.982083</td>\n",
              "      <td>1.000000</td>\n",
              "      <td>0.173110</td>\n",
              "      <td>0.280967</td>\n",
              "      <td>0.206955</td>\n",
              "    </tr>\n",
              "    <tr>\n",
              "      <th>messages</th>\n",
              "      <td>0.177385</td>\n",
              "      <td>0.173110</td>\n",
              "      <td>1.000000</td>\n",
              "      <td>0.195721</td>\n",
              "      <td>0.203830</td>\n",
              "    </tr>\n",
              "    <tr>\n",
              "      <th>mb_used</th>\n",
              "      <td>0.286442</td>\n",
              "      <td>0.280967</td>\n",
              "      <td>0.195721</td>\n",
              "      <td>1.000000</td>\n",
              "      <td>0.198568</td>\n",
              "    </tr>\n",
              "    <tr>\n",
              "      <th>is_ultra</th>\n",
              "      <td>0.207122</td>\n",
              "      <td>0.206955</td>\n",
              "      <td>0.203830</td>\n",
              "      <td>0.198568</td>\n",
              "      <td>1.000000</td>\n",
              "    </tr>\n",
              "  </tbody>\n",
              "</table>\n",
              "</div>\n",
              "    <div class=\"colab-df-buttons\">\n",
              "\n",
              "  <div class=\"colab-df-container\">\n",
              "    <button class=\"colab-df-convert\" onclick=\"convertToInteractive('df-2d950b74-7743-474d-a899-d23abfdb4a61')\"\n",
              "            title=\"Convert this dataframe to an interactive table.\"\n",
              "            style=\"display:none;\">\n",
              "\n",
              "  <svg xmlns=\"http://www.w3.org/2000/svg\" height=\"24px\" viewBox=\"0 -960 960 960\">\n",
              "    <path d=\"M120-120v-720h720v720H120Zm60-500h600v-160H180v160Zm220 220h160v-160H400v160Zm0 220h160v-160H400v160ZM180-400h160v-160H180v160Zm440 0h160v-160H620v160ZM180-180h160v-160H180v160Zm440 0h160v-160H620v160Z\"/>\n",
              "  </svg>\n",
              "    </button>\n",
              "\n",
              "  <style>\n",
              "    .colab-df-container {\n",
              "      display:flex;\n",
              "      gap: 12px;\n",
              "    }\n",
              "\n",
              "    .colab-df-convert {\n",
              "      background-color: #E8F0FE;\n",
              "      border: none;\n",
              "      border-radius: 50%;\n",
              "      cursor: pointer;\n",
              "      display: none;\n",
              "      fill: #1967D2;\n",
              "      height: 32px;\n",
              "      padding: 0 0 0 0;\n",
              "      width: 32px;\n",
              "    }\n",
              "\n",
              "    .colab-df-convert:hover {\n",
              "      background-color: #E2EBFA;\n",
              "      box-shadow: 0px 1px 2px rgba(60, 64, 67, 0.3), 0px 1px 3px 1px rgba(60, 64, 67, 0.15);\n",
              "      fill: #174EA6;\n",
              "    }\n",
              "\n",
              "    .colab-df-buttons div {\n",
              "      margin-bottom: 4px;\n",
              "    }\n",
              "\n",
              "    [theme=dark] .colab-df-convert {\n",
              "      background-color: #3B4455;\n",
              "      fill: #D2E3FC;\n",
              "    }\n",
              "\n",
              "    [theme=dark] .colab-df-convert:hover {\n",
              "      background-color: #434B5C;\n",
              "      box-shadow: 0px 1px 3px 1px rgba(0, 0, 0, 0.15);\n",
              "      filter: drop-shadow(0px 1px 2px rgba(0, 0, 0, 0.3));\n",
              "      fill: #FFFFFF;\n",
              "    }\n",
              "  </style>\n",
              "\n",
              "    <script>\n",
              "      const buttonEl =\n",
              "        document.querySelector('#df-2d950b74-7743-474d-a899-d23abfdb4a61 button.colab-df-convert');\n",
              "      buttonEl.style.display =\n",
              "        google.colab.kernel.accessAllowed ? 'block' : 'none';\n",
              "\n",
              "      async function convertToInteractive(key) {\n",
              "        const element = document.querySelector('#df-2d950b74-7743-474d-a899-d23abfdb4a61');\n",
              "        const dataTable =\n",
              "          await google.colab.kernel.invokeFunction('convertToInteractive',\n",
              "                                                    [key], {});\n",
              "        if (!dataTable) return;\n",
              "\n",
              "        const docLinkHtml = 'Like what you see? Visit the ' +\n",
              "          '<a target=\"_blank\" href=https://colab.research.google.com/notebooks/data_table.ipynb>data table notebook</a>'\n",
              "          + ' to learn more about interactive tables.';\n",
              "        element.innerHTML = '';\n",
              "        dataTable['output_type'] = 'display_data';\n",
              "        await google.colab.output.renderOutput(dataTable, element);\n",
              "        const docLink = document.createElement('div');\n",
              "        docLink.innerHTML = docLinkHtml;\n",
              "        element.appendChild(docLink);\n",
              "      }\n",
              "    </script>\n",
              "  </div>\n",
              "\n",
              "\n",
              "<div id=\"df-b07f7e10-358b-4832-ae19-0cd1e9be48db\">\n",
              "  <button class=\"colab-df-quickchart\" onclick=\"quickchart('df-b07f7e10-358b-4832-ae19-0cd1e9be48db')\"\n",
              "            title=\"Suggest charts.\"\n",
              "            style=\"display:none;\">\n",
              "\n",
              "<svg xmlns=\"http://www.w3.org/2000/svg\" height=\"24px\"viewBox=\"0 0 24 24\"\n",
              "     width=\"24px\">\n",
              "    <g>\n",
              "        <path d=\"M19 3H5c-1.1 0-2 .9-2 2v14c0 1.1.9 2 2 2h14c1.1 0 2-.9 2-2V5c0-1.1-.9-2-2-2zM9 17H7v-7h2v7zm4 0h-2V7h2v10zm4 0h-2v-4h2v4z\"/>\n",
              "    </g>\n",
              "</svg>\n",
              "  </button>\n",
              "\n",
              "<style>\n",
              "  .colab-df-quickchart {\n",
              "      --bg-color: #E8F0FE;\n",
              "      --fill-color: #1967D2;\n",
              "      --hover-bg-color: #E2EBFA;\n",
              "      --hover-fill-color: #174EA6;\n",
              "      --disabled-fill-color: #AAA;\n",
              "      --disabled-bg-color: #DDD;\n",
              "  }\n",
              "\n",
              "  [theme=dark] .colab-df-quickchart {\n",
              "      --bg-color: #3B4455;\n",
              "      --fill-color: #D2E3FC;\n",
              "      --hover-bg-color: #434B5C;\n",
              "      --hover-fill-color: #FFFFFF;\n",
              "      --disabled-bg-color: #3B4455;\n",
              "      --disabled-fill-color: #666;\n",
              "  }\n",
              "\n",
              "  .colab-df-quickchart {\n",
              "    background-color: var(--bg-color);\n",
              "    border: none;\n",
              "    border-radius: 50%;\n",
              "    cursor: pointer;\n",
              "    display: none;\n",
              "    fill: var(--fill-color);\n",
              "    height: 32px;\n",
              "    padding: 0;\n",
              "    width: 32px;\n",
              "  }\n",
              "\n",
              "  .colab-df-quickchart:hover {\n",
              "    background-color: var(--hover-bg-color);\n",
              "    box-shadow: 0 1px 2px rgba(60, 64, 67, 0.3), 0 1px 3px 1px rgba(60, 64, 67, 0.15);\n",
              "    fill: var(--button-hover-fill-color);\n",
              "  }\n",
              "\n",
              "  .colab-df-quickchart-complete:disabled,\n",
              "  .colab-df-quickchart-complete:disabled:hover {\n",
              "    background-color: var(--disabled-bg-color);\n",
              "    fill: var(--disabled-fill-color);\n",
              "    box-shadow: none;\n",
              "  }\n",
              "\n",
              "  .colab-df-spinner {\n",
              "    border: 2px solid var(--fill-color);\n",
              "    border-color: transparent;\n",
              "    border-bottom-color: var(--fill-color);\n",
              "    animation:\n",
              "      spin 1s steps(1) infinite;\n",
              "  }\n",
              "\n",
              "  @keyframes spin {\n",
              "    0% {\n",
              "      border-color: transparent;\n",
              "      border-bottom-color: var(--fill-color);\n",
              "      border-left-color: var(--fill-color);\n",
              "    }\n",
              "    20% {\n",
              "      border-color: transparent;\n",
              "      border-left-color: var(--fill-color);\n",
              "      border-top-color: var(--fill-color);\n",
              "    }\n",
              "    30% {\n",
              "      border-color: transparent;\n",
              "      border-left-color: var(--fill-color);\n",
              "      border-top-color: var(--fill-color);\n",
              "      border-right-color: var(--fill-color);\n",
              "    }\n",
              "    40% {\n",
              "      border-color: transparent;\n",
              "      border-right-color: var(--fill-color);\n",
              "      border-top-color: var(--fill-color);\n",
              "    }\n",
              "    60% {\n",
              "      border-color: transparent;\n",
              "      border-right-color: var(--fill-color);\n",
              "    }\n",
              "    80% {\n",
              "      border-color: transparent;\n",
              "      border-right-color: var(--fill-color);\n",
              "      border-bottom-color: var(--fill-color);\n",
              "    }\n",
              "    90% {\n",
              "      border-color: transparent;\n",
              "      border-bottom-color: var(--fill-color);\n",
              "    }\n",
              "  }\n",
              "</style>\n",
              "\n",
              "  <script>\n",
              "    async function quickchart(key) {\n",
              "      const quickchartButtonEl =\n",
              "        document.querySelector('#' + key + ' button');\n",
              "      quickchartButtonEl.disabled = true;  // To prevent multiple clicks.\n",
              "      quickchartButtonEl.classList.add('colab-df-spinner');\n",
              "      try {\n",
              "        const charts = await google.colab.kernel.invokeFunction(\n",
              "            'suggestCharts', [key], {});\n",
              "      } catch (error) {\n",
              "        console.error('Error during call to suggestCharts:', error);\n",
              "      }\n",
              "      quickchartButtonEl.classList.remove('colab-df-spinner');\n",
              "      quickchartButtonEl.classList.add('colab-df-quickchart-complete');\n",
              "    }\n",
              "    (() => {\n",
              "      let quickchartButtonEl =\n",
              "        document.querySelector('#df-b07f7e10-358b-4832-ae19-0cd1e9be48db button');\n",
              "      quickchartButtonEl.style.display =\n",
              "        google.colab.kernel.accessAllowed ? 'block' : 'none';\n",
              "    })();\n",
              "  </script>\n",
              "</div>\n",
              "    </div>\n",
              "  </div>\n"
            ]
          },
          "metadata": {},
          "execution_count": 8
        }
      ],
      "source": [
        "data.iloc[:,0:6].corr()"
      ]
    },
    {
      "cell_type": "markdown",
      "metadata": {
        "id": "oX8IoEJ3hTgZ"
      },
      "source": [
        "Высокая корреляция наблюдается между параметрами calls и minutes (0.98). Удалим столбец calls из датасета."
      ]
    },
    {
      "cell_type": "code",
      "execution_count": null,
      "metadata": {
        "colab": {
          "base_uri": "https://localhost:8080/",
          "height": 206
        },
        "id": "eJR9lbw7hTgZ",
        "outputId": "37ac3b41-e54c-445f-fe1a-86675334c5b3"
      },
      "outputs": [
        {
          "output_type": "execute_result",
          "data": {
            "text/plain": [
              "   minutes  messages   mb_used  is_ultra\n",
              "0   311.90      83.0  19915.42         0\n",
              "1   516.75      56.0  22696.96         0\n",
              "2   467.66      86.0  21060.45         0\n",
              "3   745.53      81.0   8437.39         1\n",
              "4   418.74       1.0  14502.75         0"
            ],
            "text/html": [
              "\n",
              "  <div id=\"df-09ac30de-e60b-4ec9-ba6f-4db2e31f029a\" class=\"colab-df-container\">\n",
              "    <div>\n",
              "<style scoped>\n",
              "    .dataframe tbody tr th:only-of-type {\n",
              "        vertical-align: middle;\n",
              "    }\n",
              "\n",
              "    .dataframe tbody tr th {\n",
              "        vertical-align: top;\n",
              "    }\n",
              "\n",
              "    .dataframe thead th {\n",
              "        text-align: right;\n",
              "    }\n",
              "</style>\n",
              "<table border=\"1\" class=\"dataframe\">\n",
              "  <thead>\n",
              "    <tr style=\"text-align: right;\">\n",
              "      <th></th>\n",
              "      <th>minutes</th>\n",
              "      <th>messages</th>\n",
              "      <th>mb_used</th>\n",
              "      <th>is_ultra</th>\n",
              "    </tr>\n",
              "  </thead>\n",
              "  <tbody>\n",
              "    <tr>\n",
              "      <th>0</th>\n",
              "      <td>311.90</td>\n",
              "      <td>83.0</td>\n",
              "      <td>19915.42</td>\n",
              "      <td>0</td>\n",
              "    </tr>\n",
              "    <tr>\n",
              "      <th>1</th>\n",
              "      <td>516.75</td>\n",
              "      <td>56.0</td>\n",
              "      <td>22696.96</td>\n",
              "      <td>0</td>\n",
              "    </tr>\n",
              "    <tr>\n",
              "      <th>2</th>\n",
              "      <td>467.66</td>\n",
              "      <td>86.0</td>\n",
              "      <td>21060.45</td>\n",
              "      <td>0</td>\n",
              "    </tr>\n",
              "    <tr>\n",
              "      <th>3</th>\n",
              "      <td>745.53</td>\n",
              "      <td>81.0</td>\n",
              "      <td>8437.39</td>\n",
              "      <td>1</td>\n",
              "    </tr>\n",
              "    <tr>\n",
              "      <th>4</th>\n",
              "      <td>418.74</td>\n",
              "      <td>1.0</td>\n",
              "      <td>14502.75</td>\n",
              "      <td>0</td>\n",
              "    </tr>\n",
              "  </tbody>\n",
              "</table>\n",
              "</div>\n",
              "    <div class=\"colab-df-buttons\">\n",
              "\n",
              "  <div class=\"colab-df-container\">\n",
              "    <button class=\"colab-df-convert\" onclick=\"convertToInteractive('df-09ac30de-e60b-4ec9-ba6f-4db2e31f029a')\"\n",
              "            title=\"Convert this dataframe to an interactive table.\"\n",
              "            style=\"display:none;\">\n",
              "\n",
              "  <svg xmlns=\"http://www.w3.org/2000/svg\" height=\"24px\" viewBox=\"0 -960 960 960\">\n",
              "    <path d=\"M120-120v-720h720v720H120Zm60-500h600v-160H180v160Zm220 220h160v-160H400v160Zm0 220h160v-160H400v160ZM180-400h160v-160H180v160Zm440 0h160v-160H620v160ZM180-180h160v-160H180v160Zm440 0h160v-160H620v160Z\"/>\n",
              "  </svg>\n",
              "    </button>\n",
              "\n",
              "  <style>\n",
              "    .colab-df-container {\n",
              "      display:flex;\n",
              "      gap: 12px;\n",
              "    }\n",
              "\n",
              "    .colab-df-convert {\n",
              "      background-color: #E8F0FE;\n",
              "      border: none;\n",
              "      border-radius: 50%;\n",
              "      cursor: pointer;\n",
              "      display: none;\n",
              "      fill: #1967D2;\n",
              "      height: 32px;\n",
              "      padding: 0 0 0 0;\n",
              "      width: 32px;\n",
              "    }\n",
              "\n",
              "    .colab-df-convert:hover {\n",
              "      background-color: #E2EBFA;\n",
              "      box-shadow: 0px 1px 2px rgba(60, 64, 67, 0.3), 0px 1px 3px 1px rgba(60, 64, 67, 0.15);\n",
              "      fill: #174EA6;\n",
              "    }\n",
              "\n",
              "    .colab-df-buttons div {\n",
              "      margin-bottom: 4px;\n",
              "    }\n",
              "\n",
              "    [theme=dark] .colab-df-convert {\n",
              "      background-color: #3B4455;\n",
              "      fill: #D2E3FC;\n",
              "    }\n",
              "\n",
              "    [theme=dark] .colab-df-convert:hover {\n",
              "      background-color: #434B5C;\n",
              "      box-shadow: 0px 1px 3px 1px rgba(0, 0, 0, 0.15);\n",
              "      filter: drop-shadow(0px 1px 2px rgba(0, 0, 0, 0.3));\n",
              "      fill: #FFFFFF;\n",
              "    }\n",
              "  </style>\n",
              "\n",
              "    <script>\n",
              "      const buttonEl =\n",
              "        document.querySelector('#df-09ac30de-e60b-4ec9-ba6f-4db2e31f029a button.colab-df-convert');\n",
              "      buttonEl.style.display =\n",
              "        google.colab.kernel.accessAllowed ? 'block' : 'none';\n",
              "\n",
              "      async function convertToInteractive(key) {\n",
              "        const element = document.querySelector('#df-09ac30de-e60b-4ec9-ba6f-4db2e31f029a');\n",
              "        const dataTable =\n",
              "          await google.colab.kernel.invokeFunction('convertToInteractive',\n",
              "                                                    [key], {});\n",
              "        if (!dataTable) return;\n",
              "\n",
              "        const docLinkHtml = 'Like what you see? Visit the ' +\n",
              "          '<a target=\"_blank\" href=https://colab.research.google.com/notebooks/data_table.ipynb>data table notebook</a>'\n",
              "          + ' to learn more about interactive tables.';\n",
              "        element.innerHTML = '';\n",
              "        dataTable['output_type'] = 'display_data';\n",
              "        await google.colab.output.renderOutput(dataTable, element);\n",
              "        const docLink = document.createElement('div');\n",
              "        docLink.innerHTML = docLinkHtml;\n",
              "        element.appendChild(docLink);\n",
              "      }\n",
              "    </script>\n",
              "  </div>\n",
              "\n",
              "\n",
              "<div id=\"df-642bc4dc-026f-4f23-98a0-39e2fd9977f5\">\n",
              "  <button class=\"colab-df-quickchart\" onclick=\"quickchart('df-642bc4dc-026f-4f23-98a0-39e2fd9977f5')\"\n",
              "            title=\"Suggest charts.\"\n",
              "            style=\"display:none;\">\n",
              "\n",
              "<svg xmlns=\"http://www.w3.org/2000/svg\" height=\"24px\"viewBox=\"0 0 24 24\"\n",
              "     width=\"24px\">\n",
              "    <g>\n",
              "        <path d=\"M19 3H5c-1.1 0-2 .9-2 2v14c0 1.1.9 2 2 2h14c1.1 0 2-.9 2-2V5c0-1.1-.9-2-2-2zM9 17H7v-7h2v7zm4 0h-2V7h2v10zm4 0h-2v-4h2v4z\"/>\n",
              "    </g>\n",
              "</svg>\n",
              "  </button>\n",
              "\n",
              "<style>\n",
              "  .colab-df-quickchart {\n",
              "      --bg-color: #E8F0FE;\n",
              "      --fill-color: #1967D2;\n",
              "      --hover-bg-color: #E2EBFA;\n",
              "      --hover-fill-color: #174EA6;\n",
              "      --disabled-fill-color: #AAA;\n",
              "      --disabled-bg-color: #DDD;\n",
              "  }\n",
              "\n",
              "  [theme=dark] .colab-df-quickchart {\n",
              "      --bg-color: #3B4455;\n",
              "      --fill-color: #D2E3FC;\n",
              "      --hover-bg-color: #434B5C;\n",
              "      --hover-fill-color: #FFFFFF;\n",
              "      --disabled-bg-color: #3B4455;\n",
              "      --disabled-fill-color: #666;\n",
              "  }\n",
              "\n",
              "  .colab-df-quickchart {\n",
              "    background-color: var(--bg-color);\n",
              "    border: none;\n",
              "    border-radius: 50%;\n",
              "    cursor: pointer;\n",
              "    display: none;\n",
              "    fill: var(--fill-color);\n",
              "    height: 32px;\n",
              "    padding: 0;\n",
              "    width: 32px;\n",
              "  }\n",
              "\n",
              "  .colab-df-quickchart:hover {\n",
              "    background-color: var(--hover-bg-color);\n",
              "    box-shadow: 0 1px 2px rgba(60, 64, 67, 0.3), 0 1px 3px 1px rgba(60, 64, 67, 0.15);\n",
              "    fill: var(--button-hover-fill-color);\n",
              "  }\n",
              "\n",
              "  .colab-df-quickchart-complete:disabled,\n",
              "  .colab-df-quickchart-complete:disabled:hover {\n",
              "    background-color: var(--disabled-bg-color);\n",
              "    fill: var(--disabled-fill-color);\n",
              "    box-shadow: none;\n",
              "  }\n",
              "\n",
              "  .colab-df-spinner {\n",
              "    border: 2px solid var(--fill-color);\n",
              "    border-color: transparent;\n",
              "    border-bottom-color: var(--fill-color);\n",
              "    animation:\n",
              "      spin 1s steps(1) infinite;\n",
              "  }\n",
              "\n",
              "  @keyframes spin {\n",
              "    0% {\n",
              "      border-color: transparent;\n",
              "      border-bottom-color: var(--fill-color);\n",
              "      border-left-color: var(--fill-color);\n",
              "    }\n",
              "    20% {\n",
              "      border-color: transparent;\n",
              "      border-left-color: var(--fill-color);\n",
              "      border-top-color: var(--fill-color);\n",
              "    }\n",
              "    30% {\n",
              "      border-color: transparent;\n",
              "      border-left-color: var(--fill-color);\n",
              "      border-top-color: var(--fill-color);\n",
              "      border-right-color: var(--fill-color);\n",
              "    }\n",
              "    40% {\n",
              "      border-color: transparent;\n",
              "      border-right-color: var(--fill-color);\n",
              "      border-top-color: var(--fill-color);\n",
              "    }\n",
              "    60% {\n",
              "      border-color: transparent;\n",
              "      border-right-color: var(--fill-color);\n",
              "    }\n",
              "    80% {\n",
              "      border-color: transparent;\n",
              "      border-right-color: var(--fill-color);\n",
              "      border-bottom-color: var(--fill-color);\n",
              "    }\n",
              "    90% {\n",
              "      border-color: transparent;\n",
              "      border-bottom-color: var(--fill-color);\n",
              "    }\n",
              "  }\n",
              "</style>\n",
              "\n",
              "  <script>\n",
              "    async function quickchart(key) {\n",
              "      const quickchartButtonEl =\n",
              "        document.querySelector('#' + key + ' button');\n",
              "      quickchartButtonEl.disabled = true;  // To prevent multiple clicks.\n",
              "      quickchartButtonEl.classList.add('colab-df-spinner');\n",
              "      try {\n",
              "        const charts = await google.colab.kernel.invokeFunction(\n",
              "            'suggestCharts', [key], {});\n",
              "      } catch (error) {\n",
              "        console.error('Error during call to suggestCharts:', error);\n",
              "      }\n",
              "      quickchartButtonEl.classList.remove('colab-df-spinner');\n",
              "      quickchartButtonEl.classList.add('colab-df-quickchart-complete');\n",
              "    }\n",
              "    (() => {\n",
              "      let quickchartButtonEl =\n",
              "        document.querySelector('#df-642bc4dc-026f-4f23-98a0-39e2fd9977f5 button');\n",
              "      quickchartButtonEl.style.display =\n",
              "        google.colab.kernel.accessAllowed ? 'block' : 'none';\n",
              "    })();\n",
              "  </script>\n",
              "</div>\n",
              "    </div>\n",
              "  </div>\n"
            ]
          },
          "metadata": {},
          "execution_count": 9
        }
      ],
      "source": [
        "data = data.drop(['calls'], axis=1)\n",
        "data.head()"
      ]
    },
    {
      "cell_type": "markdown",
      "source": [
        "Посмотрим на соотношение классов."
      ],
      "metadata": {
        "id": "qHqjxQ-dlwpy"
      }
    },
    {
      "cell_type": "code",
      "source": [
        "class_frequency = data['is_ultra'].value_counts(normalize = 1)\n",
        "print(class_frequency)\n",
        "class_frequency.plot(kind='bar')"
      ],
      "metadata": {
        "colab": {
          "base_uri": "https://localhost:8080/",
          "height": 494
        },
        "id": "1-FWBNdJl1UB",
        "outputId": "6709daa0-c4d6-47dc-cd36-740bd4728580"
      },
      "execution_count": null,
      "outputs": [
        {
          "output_type": "stream",
          "name": "stdout",
          "text": [
            "0    0.693528\n",
            "1    0.306472\n",
            "Name: is_ultra, dtype: float64\n"
          ]
        },
        {
          "output_type": "execute_result",
          "data": {
            "text/plain": [
              "<Axes: >"
            ]
          },
          "metadata": {},
          "execution_count": 10
        },
        {
          "output_type": "display_data",
          "data": {
            "text/plain": [
              "<Figure size 640x480 with 1 Axes>"
            ],
            "image/png": "[encoded data removed]"
          },
          "metadata": {}
        }
      ]
    },
    {
      "cell_type": "markdown",
      "source": [
        "Наблюдается дисбаланс классов, поэтому при обучении моделей воспользуемся параметром class_weight."
      ],
      "metadata": {
        "id": "egMUKDfZmFcg"
      }
    },
    {
      "cell_type": "markdown",
      "metadata": {
        "id": "lnj3J1yehTga"
      },
      "source": [
        "**Вывод**      \n",
        "Датасет содержит информацию о 3214 пользователях.   \n",
        "Была выявлена высокая корреляция между параметрами calls и minutes (0.982083). Столбец calls был удален из датасета с целью устранения возможности влияния этой зависимости на конечный результат.     \n",
        "Также был обнаружен дисбаланс классов."
      ]
    },
    {
      "cell_type": "markdown",
      "metadata": {
        "id": "U0bEi2FahTga"
      },
      "source": [
        "## Разбиение данных на выборки"
      ]
    },
    {
      "cell_type": "markdown",
      "source": [
        "Разобъем данные на обучающую и тестовую выборки. Поскольку для подбора оптимальных гиперпараметров мы будем использовать кросс-валидацию, валидационная выборка нам не понадобится."
      ],
      "metadata": {
        "id": "OX20XjHul9dL"
      }
    },
    {
      "cell_type": "code",
      "source": [
        "features = data.drop('is_ultra', axis=1)\n",
        "target = data['is_ultra']\n",
        "\n",
        "features_train, features_test, target_train, target_test = train_test_split(features, target, test_size=0.25,\n",
        "                                                                            random_state=12345, stratify=target)\n",
        "print(features_train.shape, features_test.shape, target_train.shape, target_test.shape)"
      ],
      "metadata": {
        "colab": {
          "base_uri": "https://localhost:8080/"
        },
        "id": "ugWcdFj91Twg",
        "outputId": "11e20450-79e7-44df-b467-e7bc9fff06ab"
      },
      "execution_count": null,
      "outputs": [
        {
          "output_type": "stream",
          "name": "stdout",
          "text": [
            "(2410, 3) (804, 3) (2410,) (804,)\n"
          ]
        }
      ]
    },
    {
      "cell_type": "markdown",
      "metadata": {
        "id": "CBtue30_hTgc"
      },
      "source": [
        "## Исследование моделей"
      ]
    },
    {
      "cell_type": "markdown",
      "source": [
        "Построим модель логистической регрессии (Logistic Regression)."
      ],
      "metadata": {
        "id": "FOFLKKcF5spO"
      }
    },
    {
      "cell_type": "code",
      "source": [
        "lr = LogisticRegression(random_state=12345, class_weight='balanced')\n",
        "\n",
        "param_grid = {'C': [1e-5, 1e5],\n",
        "              'penalty': ['l1', 'l2']}\n",
        "model_lr = GridSearchCV(lr, param_grid=param_grid, cv=5,\n",
        "                  scoring={'Accuracy': 'accuracy'}, refit='Accuracy')\n",
        "model_lr.fit(features_train, target_train)\n",
        "print(\"Accuracy:\", model_lr.best_score_)"
      ],
      "metadata": {
        "colab": {
          "base_uri": "https://localhost:8080/"
        },
        "id": "PoIDh3Rh5x3s",
        "outputId": "c23a8556-1e83-4616-8863-38cf88dad073"
      },
      "execution_count": null,
      "outputs": [
        {
          "output_type": "stream",
          "name": "stdout",
          "text": [
            "Accuracy: 0.5186721991701244\n"
          ]
        }
      ]
    },
    {
      "cell_type": "markdown",
      "metadata": {
        "id": "Pt8gWv-mhTgd"
      },
      "source": [
        "Построим модель дерева принятия решений (Decision Tree)."
      ]
    },
    {
      "cell_type": "code",
      "source": [
        "classifier_dt = DecisionTreeClassifier(random_state=12345, class_weight='balanced')\n",
        "\n",
        "param_grid = {'max_depth': [depth for depth in range(1, 10)],\n",
        "              'min_samples_split': [2, 5, 10],\n",
        "              'min_samples_leaf': [1, 2, 4]}\n",
        "model_dt = RandomizedSearchCV(classifier_dt, param_distributions=param_grid, cv=5,\n",
        "                   scoring={'Accuracy': 'accuracy'}, refit='Accuracy')\n",
        "\n",
        "model_dt.fit(features_train, target_train)\n",
        "print(\"Accuracy:\", model_dt.best_score_)"
      ],
      "metadata": {
        "colab": {
          "base_uri": "https://localhost:8080/"
        },
        "id": "v7f8k_niuCRo",
        "outputId": "9d1cfff3-af0d-420d-daac-5dc1dc41db94"
      },
      "execution_count": null,
      "outputs": [
        {
          "output_type": "stream",
          "name": "stdout",
          "text": [
            "Accuracy: 0.7763485477178422\n"
          ]
        }
      ]
    },
    {
      "cell_type": "markdown",
      "metadata": {
        "id": "ZODmKshGhTge"
      },
      "source": [
        "Построим модель «случайный лес» (Random Forest)."
      ]
    },
    {
      "cell_type": "code",
      "source": [
        "classifier_rf = RandomForestClassifier(random_state=12345, class_weight='balanced')\n",
        "\n",
        "parameters = {'n_estimators': [est for est in range(1, 10)],\n",
        "           'max_depth': [depth for depth in range(1, 10)],\n",
        "           'min_samples_split': [2, 5, 10],\n",
        "           'min_samples_leaf': [1, 2, 4]}\n",
        "model_rf = RandomizedSearchCV(classifier_rf, param_distributions=parameters, cv=5,\n",
        "                              scoring={'Accuracy': 'accuracy'}, refit='Accuracy')\n",
        "model_rf.fit(features_train, target_train)\n",
        "print(\"Accuracy:\", model_rf.best_score_)"
      ],
      "metadata": {
        "colab": {
          "base_uri": "https://localhost:8080/"
        },
        "id": "-3WzgazjyTHJ",
        "outputId": "8e47d18e-6976-441b-abb4-ab9a87f68a18"
      },
      "execution_count": null,
      "outputs": [
        {
          "output_type": "stream",
          "name": "stdout",
          "text": [
            "Accuracy: 0.7887966804979254\n"
          ]
        }
      ]
    },
    {
      "cell_type": "markdown",
      "metadata": {
        "id": "KQaWI3SmhTgf"
      },
      "source": [
        "Таким образом, лучший результат показала модель случайного леса. Она и будет использоваться для проверки на тестовой выборке."
      ]
    },
    {
      "cell_type": "code",
      "source": [
        "best_model = model_rf.best_estimator_"
      ],
      "metadata": {
        "id": "7dqRfHK76Lvv"
      },
      "execution_count": null,
      "outputs": []
    },
    {
      "cell_type": "markdown",
      "source": [
        "Построим кривую обучения для визуальной оценки процесса обучения модели Random Forest."
      ],
      "metadata": {
        "id": "vw6rY5JPVieF"
      }
    },
    {
      "cell_type": "code",
      "source": [
        "skplt.estimators.plot_learning_curve(best_model, features_train, target_train,\n",
        "                                     figsize=(6,4), title_fontsize=\"medium\", text_fontsize=\"small\",\n",
        "                                     title=\"Random Forest Learning Curve\");"
      ],
      "metadata": {
        "colab": {
          "base_uri": "https://localhost:8080/",
          "height": 405
        },
        "id": "897F5XLQVcSD",
        "outputId": "158e0410-98b8-4623-fc35-ef49bd9cd0f0"
      },
      "execution_count": null,
      "outputs": [
        {
          "output_type": "display_data",
          "data": {
            "text/plain": [
              "<Figure size 600x400 with 1 Axes>"
            ],
            "image/png": "[encoded data removed]"
          },
          "metadata": {}
        }
      ]
    },
    {
      "cell_type": "markdown",
      "source": [
        "Кривая обучения модели и на обучающем, и на проверочном наборе данных сходится и стабилизируется на достаточно высоком уровне точности. Это может указывать на то, что модель хорошо обобщает данные и не переобучена."
      ],
      "metadata": {
        "id": "_fl_TygycfT_"
      }
    },
    {
      "cell_type": "markdown",
      "metadata": {
        "id": "TU4P3bi-hTgg"
      },
      "source": [
        "## Проверка модели на тестовой выборке"
      ]
    },
    {
      "cell_type": "markdown",
      "metadata": {
        "id": "VgRXbiPAhTgg"
      },
      "source": [
        "Проверим модель на тестовой выборке, применив метод RandomForestClassifier с установленными оптимальными гиперпараметрами."
      ]
    },
    {
      "cell_type": "code",
      "execution_count": null,
      "metadata": {
        "colab": {
          "base_uri": "https://localhost:8080/"
        },
        "id": "sVgtrwzshTgh",
        "outputId": "80f83e75-6ddf-44bb-dfe2-53cb807821f0"
      },
      "outputs": [
        {
          "output_type": "stream",
          "name": "stdout",
          "text": [
            "Accuracy модели на тестовой выборке: 0.8159203980099502\n"
          ]
        }
      ],
      "source": [
        "predictions_test = best_model.predict(features_test)\n",
        "accuracy = accuracy_score(target_test, predictions_test)\n",
        "print(\"Accuracy модели на тестовой выборке:\", accuracy)"
      ]
    },
    {
      "cell_type": "markdown",
      "metadata": {
        "id": "50DGfkNYhTgh"
      },
      "source": [
        "Модель прошла проверку.   \n",
        "Построим матрицу ошибок выбранной нами модели.   "
      ]
    },
    {
      "cell_type": "code",
      "source": [
        "cm = confusion_matrix(target_test, predictions_test, labels=model_rf.classes_)\n",
        "disp = ConfusionMatrixDisplay(confusion_matrix=cm,\n",
        "                              display_labels=model_rf.classes_)\n",
        "disp.plot()\n",
        "plt.show()"
      ],
      "metadata": {
        "colab": {
          "base_uri": "https://localhost:8080/",
          "height": 449
        },
        "id": "9f1tQhrGb8xs",
        "outputId": "a1e438c8-943f-4920-e365-832888d57ba2"
      },
      "execution_count": null,
      "outputs": [
        {
          "output_type": "display_data",
          "data": {
            "text/plain": [
              "<Figure size 640x480 with 2 Axes>"
            ],
            "image/png": "[encoded data removed]"
          },
          "metadata": {}
        }
      ]
    },
    {
      "cell_type": "markdown",
      "source": [
        "Матрица ошибок показала достаточно высокую производительность модели."
      ],
      "metadata": {
        "id": "l3vs-sHPveVB"
      }
    },
    {
      "cell_type": "markdown",
      "metadata": {
        "id": "yzQeG5NthTg2"
      },
      "source": [
        "## Проверка модели на адекватность"
      ]
    },
    {
      "cell_type": "markdown",
      "metadata": {
        "id": "21eY2YNjhTg2"
      },
      "source": [
        "Проверим модель на адекватность при помощи dummy-классификатора. Использование этой baseline модели поможет проконтролировать, дала ли наша более сложная модель прирост качества."
      ]
    },
    {
      "cell_type": "code",
      "execution_count": null,
      "metadata": {
        "colab": {
          "base_uri": "https://localhost:8080/"
        },
        "id": "6FJB5ZWphTg3",
        "outputId": "2138cbc1-8ddc-4a3f-ce52-9b1dafcffab9"
      },
      "outputs": [
        {
          "output_type": "stream",
          "name": "stdout",
          "text": [
            "Accuracy модели: 0.6940298507462687\n"
          ]
        }
      ],
      "source": [
        "dc_model = DummyClassifier(strategy=\"most_frequent\")\n",
        "dc_model.fit(features_train, target_train)\n",
        "predictions_dc_model = dc_model.predict(features_test)\n",
        "accuracy = accuracy_score(target_test, predictions_dc_model)\n",
        "print(\"Accuracy модели:\", accuracy)"
      ]
    },
    {
      "cell_type": "markdown",
      "metadata": {
        "id": "Uadz9FDfhTg5"
      },
      "source": [
        "Accuracy dummy модели значительно ниже обученной нами модели."
      ]
    },
    {
      "cell_type": "markdown",
      "metadata": {
        "id": "TYPqDqBihTg5"
      },
      "source": [
        "## Вывод"
      ]
    },
    {
      "cell_type": "markdown",
      "metadata": {
        "id": "7Mq23M8ChTg5"
      },
      "source": [
        "Была выявлена высокая корреляция между параметрами calls и minutes. Столбец calls был удален из датасета с целью устранения возможности влияния этой зависимости на конечный результат.\n",
        "Также был обнаружен дисбаланс классов. Для его устранения был использован параметр class_weight.          \n",
        "Были обучены модели дерева принятия решений (Decision Tree), случайный лес (Random Forest) и модель логистической регрессии (Logistic Regression).       \n",
        "Поскольку модель случайного леса показала лучший результат, она и была использована для проверки на тестовой выборке. Модель прошла проверку, так как accuracy превысило значение 0.75.       \n",
        "Модель также была проверена на адекватность при помощи dummy-классификатора. Использование этой baseline модели помогло проконтролировать, что Random Forest дал прирост качества.     \n",
        "Матрица ошибок (confusion matrix) также показала достаточно высокую производительность модели."
      ]
    }
  ],
  "metadata": {
    "ExecuteTimeLog": [
      {
        "duration": 64,
        "start_time": "2022-12-18T07:20:31.554Z"
      },
      {
        "duration": 1103,
        "start_time": "2022-12-18T07:20:36.594Z"
      },
      {
        "duration": 68,
        "start_time": "2022-12-18T07:20:37.699Z"
      },
      {
        "duration": 124,
        "start_time": "2022-12-18T07:20:51.181Z"
      },
      {
        "duration": 10,
        "start_time": "2022-12-18T07:20:55.134Z"
      },
      {
        "duration": 28,
        "start_time": "2022-12-18T07:20:55.579Z"
      },
      {
        "duration": 57,
        "start_time": "2022-12-18T07:21:39.650Z"
      },
      {
        "duration": 13,
        "start_time": "2022-12-18T07:21:53.571Z"
      },
      {
        "duration": 25,
        "start_time": "2022-12-18T07:22:40.688Z"
      },
      {
        "duration": 7,
        "start_time": "2022-12-18T07:23:12.884Z"
      },
      {
        "duration": 1114,
        "start_time": "2022-12-18T07:23:24.878Z"
      },
      {
        "duration": 21,
        "start_time": "2022-12-18T07:35:50.298Z"
      },
      {
        "duration": 10,
        "start_time": "2022-12-18T07:36:14.513Z"
      },
      {
        "duration": 63,
        "start_time": "2022-12-18T07:36:14.525Z"
      },
      {
        "duration": 15,
        "start_time": "2022-12-18T07:36:14.590Z"
      },
      {
        "duration": 66,
        "start_time": "2022-12-18T07:36:14.608Z"
      },
      {
        "duration": 18,
        "start_time": "2022-12-18T07:36:14.676Z"
      },
      {
        "duration": 857,
        "start_time": "2022-12-18T07:36:14.696Z"
      },
      {
        "duration": 15,
        "start_time": "2022-12-18T07:36:15.556Z"
      },
      {
        "duration": 10,
        "start_time": "2022-12-18T07:39:02.319Z"
      },
      {
        "duration": 42,
        "start_time": "2022-12-18T07:39:48.170Z"
      },
      {
        "duration": 56,
        "start_time": "2022-12-18T07:39:48.213Z"
      },
      {
        "duration": 11,
        "start_time": "2022-12-18T07:39:48.272Z"
      },
      {
        "duration": 37,
        "start_time": "2022-12-18T07:39:48.286Z"
      },
      {
        "duration": 6,
        "start_time": "2022-12-18T07:39:48.326Z"
      },
      {
        "duration": 793,
        "start_time": "2022-12-18T07:39:48.334Z"
      },
      {
        "duration": 19,
        "start_time": "2022-12-18T07:39:49.129Z"
      },
      {
        "duration": 50,
        "start_time": "2022-12-18T07:43:34.610Z"
      },
      {
        "duration": 5,
        "start_time": "2022-12-18T07:45:48.458Z"
      },
      {
        "duration": 17,
        "start_time": "2022-12-18T07:46:29.073Z"
      },
      {
        "duration": 18,
        "start_time": "2022-12-18T07:51:37.374Z"
      },
      {
        "duration": 11,
        "start_time": "2022-12-18T07:56:26.602Z"
      },
      {
        "duration": 282,
        "start_time": "2022-12-18T07:58:55.224Z"
      },
      {
        "duration": 18,
        "start_time": "2022-12-18T08:01:01.908Z"
      },
      {
        "duration": 3,
        "start_time": "2022-12-18T08:01:46.748Z"
      },
      {
        "duration": 44,
        "start_time": "2022-12-18T08:14:29.529Z"
      },
      {
        "duration": 41,
        "start_time": "2022-12-18T08:15:47.018Z"
      },
      {
        "duration": 10,
        "start_time": "2022-12-18T08:18:24.362Z"
      },
      {
        "duration": 87,
        "start_time": "2022-12-18T08:30:39.350Z"
      },
      {
        "duration": 40,
        "start_time": "2022-12-18T08:40:35.650Z"
      },
      {
        "duration": 102,
        "start_time": "2022-12-18T08:41:56.675Z"
      },
      {
        "duration": 201,
        "start_time": "2022-12-18T08:43:15.811Z"
      },
      {
        "duration": 196,
        "start_time": "2022-12-18T08:44:28.198Z"
      },
      {
        "duration": 192,
        "start_time": "2022-12-18T08:46:10.982Z"
      },
      {
        "duration": 350,
        "start_time": "2022-12-18T08:49:31.518Z"
      },
      {
        "duration": 203,
        "start_time": "2022-12-18T08:50:01.065Z"
      },
      {
        "duration": 33,
        "start_time": "2022-12-18T08:53:13.263Z"
      },
      {
        "duration": 47,
        "start_time": "2022-12-18T08:55:12.359Z"
      },
      {
        "duration": 50,
        "start_time": "2022-12-18T08:55:27.715Z"
      },
      {
        "duration": 36,
        "start_time": "2022-12-18T08:56:48.163Z"
      },
      {
        "duration": 263,
        "start_time": "2022-12-18T09:02:11.730Z"
      },
      {
        "duration": 203,
        "start_time": "2022-12-18T09:02:30.670Z"
      },
      {
        "duration": 34,
        "start_time": "2022-12-18T09:05:49.896Z"
      },
      {
        "duration": 14,
        "start_time": "2022-12-18T09:23:32.314Z"
      },
      {
        "duration": 7,
        "start_time": "2022-12-18T09:23:38.398Z"
      },
      {
        "duration": 4,
        "start_time": "2022-12-18T09:23:43.210Z"
      },
      {
        "duration": 46,
        "start_time": "2022-12-18T09:23:43.216Z"
      },
      {
        "duration": 12,
        "start_time": "2022-12-18T09:23:43.264Z"
      },
      {
        "duration": 36,
        "start_time": "2022-12-18T09:23:43.278Z"
      },
      {
        "duration": 6,
        "start_time": "2022-12-18T09:23:43.318Z"
      },
      {
        "duration": 721,
        "start_time": "2022-12-18T09:23:43.326Z"
      },
      {
        "duration": 9,
        "start_time": "2022-12-18T09:23:44.053Z"
      },
      {
        "duration": 20,
        "start_time": "2022-12-18T09:23:44.065Z"
      },
      {
        "duration": 113,
        "start_time": "2022-12-18T09:23:44.087Z"
      },
      {
        "duration": 212,
        "start_time": "2022-12-18T09:23:44.203Z"
      },
      {
        "duration": 36,
        "start_time": "2022-12-18T09:23:44.417Z"
      },
      {
        "duration": 26,
        "start_time": "2022-12-18T09:23:44.455Z"
      },
      {
        "duration": 41,
        "start_time": "2022-12-18T09:24:12.929Z"
      },
      {
        "duration": 33,
        "start_time": "2022-12-18T09:25:37.366Z"
      },
      {
        "duration": 5,
        "start_time": "2022-12-18T09:33:25.462Z"
      },
      {
        "duration": 48,
        "start_time": "2022-12-18T09:33:25.469Z"
      },
      {
        "duration": 12,
        "start_time": "2022-12-18T09:33:25.519Z"
      },
      {
        "duration": 62,
        "start_time": "2022-12-18T09:33:25.532Z"
      },
      {
        "duration": 7,
        "start_time": "2022-12-18T09:33:25.597Z"
      },
      {
        "duration": 858,
        "start_time": "2022-12-18T09:33:25.605Z"
      },
      {
        "duration": 12,
        "start_time": "2022-12-18T09:33:26.469Z"
      },
      {
        "duration": 25,
        "start_time": "2022-12-18T09:33:26.483Z"
      },
      {
        "duration": 98,
        "start_time": "2022-12-18T09:33:26.510Z"
      },
      {
        "duration": 216,
        "start_time": "2022-12-18T09:33:26.610Z"
      },
      {
        "duration": 58,
        "start_time": "2022-12-18T09:33:26.828Z"
      },
      {
        "duration": 25,
        "start_time": "2022-12-18T09:33:26.888Z"
      },
      {
        "duration": 50,
        "start_time": "2022-12-18T09:34:54.531Z"
      },
      {
        "duration": 260,
        "start_time": "2022-12-18T09:37:05.974Z"
      },
      {
        "duration": 4,
        "start_time": "2022-12-18T09:37:49.097Z"
      },
      {
        "duration": 70,
        "start_time": "2022-12-18T09:37:49.103Z"
      },
      {
        "duration": 13,
        "start_time": "2022-12-18T09:37:49.175Z"
      },
      {
        "duration": 80,
        "start_time": "2022-12-18T09:37:49.191Z"
      },
      {
        "duration": 8,
        "start_time": "2022-12-18T09:37:49.273Z"
      },
      {
        "duration": 770,
        "start_time": "2022-12-18T09:37:49.282Z"
      },
      {
        "duration": 12,
        "start_time": "2022-12-18T09:37:50.056Z"
      },
      {
        "duration": 25,
        "start_time": "2022-12-18T09:37:50.070Z"
      },
      {
        "duration": 104,
        "start_time": "2022-12-18T09:37:50.097Z"
      },
      {
        "duration": 255,
        "start_time": "2022-12-18T09:37:50.203Z"
      },
      {
        "duration": 28,
        "start_time": "2022-12-18T09:37:50.464Z"
      },
      {
        "duration": 3,
        "start_time": "2022-12-18T09:37:50.494Z"
      },
      {
        "duration": 53,
        "start_time": "2022-12-18T09:37:50.499Z"
      },
      {
        "duration": 4,
        "start_time": "2022-12-18T09:38:50.566Z"
      },
      {
        "duration": 54,
        "start_time": "2022-12-18T09:38:50.572Z"
      },
      {
        "duration": 29,
        "start_time": "2022-12-18T09:38:50.628Z"
      },
      {
        "duration": 47,
        "start_time": "2022-12-18T09:38:50.664Z"
      },
      {
        "duration": 42,
        "start_time": "2022-12-18T09:38:50.713Z"
      },
      {
        "duration": 765,
        "start_time": "2022-12-18T09:38:50.756Z"
      },
      {
        "duration": 9,
        "start_time": "2022-12-18T09:38:51.522Z"
      },
      {
        "duration": 58,
        "start_time": "2022-12-18T09:38:51.532Z"
      },
      {
        "duration": 108,
        "start_time": "2022-12-18T09:38:51.591Z"
      },
      {
        "duration": 250,
        "start_time": "2022-12-18T09:38:51.701Z"
      },
      {
        "duration": 28,
        "start_time": "2022-12-18T09:38:51.966Z"
      },
      {
        "duration": 51,
        "start_time": "2022-12-18T09:38:51.996Z"
      },
      {
        "duration": 68,
        "start_time": "2022-12-19T14:49:35.295Z"
      },
      {
        "duration": 1037,
        "start_time": "2022-12-19T14:49:39.620Z"
      },
      {
        "duration": 127,
        "start_time": "2022-12-19T14:49:40.659Z"
      },
      {
        "duration": 12,
        "start_time": "2022-12-19T14:49:40.788Z"
      },
      {
        "duration": 35,
        "start_time": "2022-12-19T14:49:40.802Z"
      },
      {
        "duration": 8,
        "start_time": "2022-12-19T14:49:40.839Z"
      },
      {
        "duration": 978,
        "start_time": "2022-12-19T14:49:40.849Z"
      },
      {
        "duration": 6,
        "start_time": "2022-12-19T14:49:41.829Z"
      },
      {
        "duration": 12,
        "start_time": "2022-12-19T14:49:41.837Z"
      },
      {
        "duration": 7,
        "start_time": "2022-12-19T14:49:41.851Z"
      },
      {
        "duration": 79,
        "start_time": "2022-12-19T14:49:41.876Z"
      },
      {
        "duration": 207,
        "start_time": "2022-12-19T14:49:41.957Z"
      },
      {
        "duration": 31,
        "start_time": "2022-12-19T14:49:42.166Z"
      },
      {
        "duration": 24,
        "start_time": "2022-12-19T14:49:42.199Z"
      },
      {
        "duration": 6,
        "start_time": "2022-12-19T14:51:42.289Z"
      },
      {
        "duration": 4,
        "start_time": "2022-12-19T14:57:08.649Z"
      },
      {
        "duration": 82,
        "start_time": "2022-12-19T14:58:43.092Z"
      },
      {
        "duration": 16,
        "start_time": "2022-12-19T14:58:54.203Z"
      },
      {
        "duration": 12,
        "start_time": "2022-12-19T15:09:55.765Z"
      },
      {
        "duration": 50,
        "start_time": "2022-12-19T15:11:13.926Z"
      },
      {
        "duration": 12,
        "start_time": "2022-12-19T15:12:06.654Z"
      },
      {
        "duration": 11,
        "start_time": "2022-12-19T15:12:41.815Z"
      },
      {
        "duration": 12,
        "start_time": "2022-12-19T15:13:02.647Z"
      },
      {
        "duration": 9,
        "start_time": "2022-12-19T15:16:20.568Z"
      },
      {
        "duration": 273,
        "start_time": "2022-12-19T15:16:54.266Z"
      },
      {
        "duration": 11,
        "start_time": "2022-12-19T15:18:12.416Z"
      },
      {
        "duration": 10,
        "start_time": "2022-12-19T15:19:09.266Z"
      },
      {
        "duration": 12,
        "start_time": "2022-12-19T15:28:31.653Z"
      },
      {
        "duration": 3,
        "start_time": "2022-12-19T15:28:44.030Z"
      },
      {
        "duration": 41,
        "start_time": "2022-12-19T15:28:44.035Z"
      },
      {
        "duration": 10,
        "start_time": "2022-12-19T15:28:44.078Z"
      },
      {
        "duration": 31,
        "start_time": "2022-12-19T15:28:44.089Z"
      },
      {
        "duration": 5,
        "start_time": "2022-12-19T15:28:44.122Z"
      },
      {
        "duration": 650,
        "start_time": "2022-12-19T15:28:44.129Z"
      },
      {
        "duration": 12,
        "start_time": "2022-12-19T15:28:44.781Z"
      },
      {
        "duration": 12,
        "start_time": "2022-12-19T15:28:44.795Z"
      },
      {
        "duration": 8,
        "start_time": "2022-12-19T15:28:44.809Z"
      },
      {
        "duration": 7,
        "start_time": "2022-12-19T15:28:44.818Z"
      },
      {
        "duration": 116,
        "start_time": "2022-12-19T15:28:44.828Z"
      },
      {
        "duration": 213,
        "start_time": "2022-12-19T15:28:44.947Z"
      },
      {
        "duration": 25,
        "start_time": "2022-12-19T15:28:45.161Z"
      },
      {
        "duration": 33,
        "start_time": "2022-12-19T15:28:45.188Z"
      },
      {
        "duration": 9,
        "start_time": "2022-12-19T15:43:16.120Z"
      },
      {
        "duration": 9,
        "start_time": "2022-12-19T15:43:23.712Z"
      },
      {
        "duration": 9,
        "start_time": "2022-12-19T15:44:31.252Z"
      },
      {
        "duration": 9,
        "start_time": "2022-12-19T15:45:04.137Z"
      },
      {
        "duration": 8,
        "start_time": "2022-12-19T15:47:33.266Z"
      },
      {
        "duration": 67,
        "start_time": "2022-12-19T15:47:52.299Z"
      },
      {
        "duration": 73,
        "start_time": "2022-12-19T15:50:35.806Z"
      },
      {
        "duration": 62,
        "start_time": "2022-12-19T15:50:39.455Z"
      },
      {
        "duration": 6838,
        "start_time": "2022-12-19T15:50:41.185Z"
      },
      {
        "duration": 6881,
        "start_time": "2022-12-19T15:51:41.382Z"
      },
      {
        "duration": 4,
        "start_time": "2022-12-19T16:00:22.886Z"
      },
      {
        "duration": 5,
        "start_time": "2022-12-19T16:03:44.249Z"
      },
      {
        "duration": 6,
        "start_time": "2022-12-19T16:07:08.352Z"
      },
      {
        "duration": 58,
        "start_time": "2022-12-19T16:09:53.257Z"
      },
      {
        "duration": 9,
        "start_time": "2022-12-19T16:10:00.681Z"
      },
      {
        "duration": 5,
        "start_time": "2022-12-19T16:11:37.843Z"
      },
      {
        "duration": 7,
        "start_time": "2022-12-19T16:12:07.623Z"
      },
      {
        "duration": 11,
        "start_time": "2022-12-19T16:15:19.897Z"
      },
      {
        "duration": 5,
        "start_time": "2022-12-19T16:15:59.866Z"
      },
      {
        "duration": 6,
        "start_time": "2022-12-19T16:18:08.027Z"
      },
      {
        "duration": 6,
        "start_time": "2022-12-19T16:23:11.397Z"
      },
      {
        "duration": 8,
        "start_time": "2022-12-19T16:29:37.517Z"
      },
      {
        "duration": 6,
        "start_time": "2022-12-19T16:33:29.730Z"
      },
      {
        "duration": 7,
        "start_time": "2022-12-19T16:35:18.332Z"
      },
      {
        "duration": 10,
        "start_time": "2022-12-19T16:37:05.521Z"
      },
      {
        "duration": 6,
        "start_time": "2022-12-19T16:37:33.121Z"
      },
      {
        "duration": 5,
        "start_time": "2022-12-19T16:51:29.832Z"
      },
      {
        "duration": 11,
        "start_time": "2022-12-19T16:55:28.949Z"
      },
      {
        "duration": 6,
        "start_time": "2022-12-19T16:55:52.444Z"
      },
      {
        "duration": 6,
        "start_time": "2022-12-19T16:57:17.171Z"
      },
      {
        "duration": 7,
        "start_time": "2022-12-19T16:58:49.807Z"
      },
      {
        "duration": 3,
        "start_time": "2022-12-19T16:59:02.603Z"
      },
      {
        "duration": 45,
        "start_time": "2022-12-19T16:59:02.608Z"
      },
      {
        "duration": 9,
        "start_time": "2022-12-19T16:59:02.654Z"
      },
      {
        "duration": 25,
        "start_time": "2022-12-19T16:59:02.665Z"
      },
      {
        "duration": 5,
        "start_time": "2022-12-19T16:59:02.692Z"
      },
      {
        "duration": 662,
        "start_time": "2022-12-19T16:59:02.698Z"
      },
      {
        "duration": 15,
        "start_time": "2022-12-19T16:59:03.362Z"
      },
      {
        "duration": 12,
        "start_time": "2022-12-19T16:59:03.378Z"
      },
      {
        "duration": 13,
        "start_time": "2022-12-19T16:59:03.391Z"
      },
      {
        "duration": 14,
        "start_time": "2022-12-19T16:59:03.405Z"
      },
      {
        "duration": 90,
        "start_time": "2022-12-19T16:59:03.421Z"
      },
      {
        "duration": 181,
        "start_time": "2022-12-19T16:59:03.513Z"
      },
      {
        "duration": 18,
        "start_time": "2022-12-19T16:59:03.696Z"
      },
      {
        "duration": 24,
        "start_time": "2022-12-19T16:59:03.717Z"
      },
      {
        "duration": 34,
        "start_time": "2022-12-19T16:59:03.743Z"
      },
      {
        "duration": 5,
        "start_time": "2022-12-19T16:59:03.779Z"
      },
      {
        "duration": 18,
        "start_time": "2022-12-19T16:59:03.786Z"
      },
      {
        "duration": 3,
        "start_time": "2022-12-19T17:01:15.000Z"
      },
      {
        "duration": 62,
        "start_time": "2022-12-19T17:01:15.005Z"
      },
      {
        "duration": 10,
        "start_time": "2022-12-19T17:01:15.069Z"
      },
      {
        "duration": 55,
        "start_time": "2022-12-19T17:01:15.080Z"
      },
      {
        "duration": 6,
        "start_time": "2022-12-19T17:01:15.137Z"
      },
      {
        "duration": 539,
        "start_time": "2022-12-19T17:01:15.145Z"
      },
      {
        "duration": 10,
        "start_time": "2022-12-19T17:01:15.685Z"
      },
      {
        "duration": 21,
        "start_time": "2022-12-19T17:01:15.696Z"
      },
      {
        "duration": 27,
        "start_time": "2022-12-19T17:01:15.718Z"
      },
      {
        "duration": 15,
        "start_time": "2022-12-19T17:01:15.746Z"
      },
      {
        "duration": 89,
        "start_time": "2022-12-19T17:01:15.763Z"
      },
      {
        "duration": 150,
        "start_time": "2022-12-19T17:01:15.853Z"
      },
      {
        "duration": 15,
        "start_time": "2022-12-19T17:01:16.005Z"
      },
      {
        "duration": 26,
        "start_time": "2022-12-19T17:01:16.022Z"
      },
      {
        "duration": 29,
        "start_time": "2022-12-19T17:01:16.050Z"
      },
      {
        "duration": 5,
        "start_time": "2022-12-19T17:01:16.080Z"
      },
      {
        "duration": 14,
        "start_time": "2022-12-19T17:01:16.086Z"
      },
      {
        "duration": 4,
        "start_time": "2022-12-19T17:01:49.142Z"
      },
      {
        "duration": 43,
        "start_time": "2022-12-19T17:01:49.148Z"
      },
      {
        "duration": 10,
        "start_time": "2022-12-19T17:01:49.193Z"
      },
      {
        "duration": 23,
        "start_time": "2022-12-19T17:01:49.205Z"
      },
      {
        "duration": 5,
        "start_time": "2022-12-19T17:01:49.230Z"
      },
      {
        "duration": 531,
        "start_time": "2022-12-19T17:01:49.236Z"
      },
      {
        "duration": 14,
        "start_time": "2022-12-19T17:01:49.768Z"
      },
      {
        "duration": 14,
        "start_time": "2022-12-19T17:01:49.783Z"
      },
      {
        "duration": 8,
        "start_time": "2022-12-19T17:01:49.798Z"
      },
      {
        "duration": 5,
        "start_time": "2022-12-19T17:01:49.808Z"
      },
      {
        "duration": 83,
        "start_time": "2022-12-19T17:01:49.815Z"
      },
      {
        "duration": 164,
        "start_time": "2022-12-19T17:01:49.899Z"
      },
      {
        "duration": 22,
        "start_time": "2022-12-19T17:01:50.065Z"
      },
      {
        "duration": 30,
        "start_time": "2022-12-19T17:01:50.089Z"
      },
      {
        "duration": 10,
        "start_time": "2022-12-19T17:01:50.120Z"
      },
      {
        "duration": 4,
        "start_time": "2022-12-19T17:01:50.132Z"
      },
      {
        "duration": 8,
        "start_time": "2022-12-19T17:01:50.138Z"
      },
      {
        "duration": 4,
        "start_time": "2022-12-19T17:27:42.910Z"
      },
      {
        "duration": 48,
        "start_time": "2022-12-19T17:27:42.917Z"
      },
      {
        "duration": 10,
        "start_time": "2022-12-19T17:27:42.967Z"
      },
      {
        "duration": 24,
        "start_time": "2022-12-19T17:27:42.979Z"
      },
      {
        "duration": 7,
        "start_time": "2022-12-19T17:27:43.005Z"
      },
      {
        "duration": 588,
        "start_time": "2022-12-19T17:27:43.013Z"
      },
      {
        "duration": 11,
        "start_time": "2022-12-19T17:27:43.604Z"
      },
      {
        "duration": 28,
        "start_time": "2022-12-19T17:27:43.616Z"
      },
      {
        "duration": 28,
        "start_time": "2022-12-19T17:27:43.645Z"
      },
      {
        "duration": 22,
        "start_time": "2022-12-19T17:27:43.674Z"
      },
      {
        "duration": 96,
        "start_time": "2022-12-19T17:27:43.698Z"
      },
      {
        "duration": 170,
        "start_time": "2022-12-19T17:27:43.796Z"
      },
      {
        "duration": 21,
        "start_time": "2022-12-19T17:27:43.967Z"
      },
      {
        "duration": 39,
        "start_time": "2022-12-19T17:27:43.989Z"
      },
      {
        "duration": 7,
        "start_time": "2022-12-19T17:27:44.029Z"
      },
      {
        "duration": 12,
        "start_time": "2022-12-19T17:27:44.037Z"
      },
      {
        "duration": 1254,
        "start_time": "2022-12-20T02:04:13.901Z"
      },
      {
        "duration": 95,
        "start_time": "2022-12-20T02:04:15.164Z"
      },
      {
        "duration": 13,
        "start_time": "2022-12-20T02:04:15.266Z"
      },
      {
        "duration": 25,
        "start_time": "2022-12-20T02:04:15.281Z"
      },
      {
        "duration": 7,
        "start_time": "2022-12-20T02:04:15.307Z"
      },
      {
        "duration": 1156,
        "start_time": "2022-12-20T02:04:15.316Z"
      },
      {
        "duration": 12,
        "start_time": "2022-12-20T02:04:16.475Z"
      },
      {
        "duration": 14,
        "start_time": "2022-12-20T02:04:16.489Z"
      },
      {
        "duration": 11,
        "start_time": "2022-12-20T02:04:16.504Z"
      },
      {
        "duration": 4363,
        "start_time": "2022-12-20T02:04:16.517Z"
      },
      {
        "duration": 7,
        "start_time": "2022-12-20T02:04:20.881Z"
      },
      {
        "duration": 94,
        "start_time": "2022-12-20T02:04:20.889Z"
      },
      {
        "duration": 195,
        "start_time": "2022-12-20T02:04:20.985Z"
      },
      {
        "duration": 20,
        "start_time": "2022-12-20T02:04:21.183Z"
      },
      {
        "duration": 55,
        "start_time": "2022-12-20T02:04:21.205Z"
      },
      {
        "duration": 10,
        "start_time": "2022-12-20T02:04:21.261Z"
      },
      {
        "duration": 134,
        "start_time": "2022-12-20T02:04:21.273Z"
      },
      {
        "duration": 1362,
        "start_time": "2022-12-21T17:12:02.402Z"
      },
      {
        "duration": 252,
        "start_time": "2022-12-21T17:12:03.766Z"
      },
      {
        "duration": 12,
        "start_time": "2022-12-21T17:12:04.019Z"
      },
      {
        "duration": 31,
        "start_time": "2022-12-21T17:12:04.033Z"
      },
      {
        "duration": 20,
        "start_time": "2022-12-21T17:12:04.067Z"
      },
      {
        "duration": 1389,
        "start_time": "2022-12-21T17:12:04.092Z"
      },
      {
        "duration": 17,
        "start_time": "2022-12-21T17:12:05.483Z"
      },
      {
        "duration": 41,
        "start_time": "2022-12-21T17:12:05.503Z"
      },
      {
        "duration": 16,
        "start_time": "2022-12-21T17:12:05.546Z"
      },
      {
        "duration": 4075,
        "start_time": "2022-12-21T17:12:05.564Z"
      },
      {
        "duration": 6,
        "start_time": "2022-12-21T17:12:09.642Z"
      },
      {
        "duration": 105,
        "start_time": "2022-12-21T17:12:09.649Z"
      },
      {
        "duration": 220,
        "start_time": "2022-12-21T17:12:09.778Z"
      },
      {
        "duration": 27,
        "start_time": "2022-12-21T17:12:10.005Z"
      },
      {
        "duration": 43,
        "start_time": "2022-12-21T17:12:10.034Z"
      },
      {
        "duration": 6,
        "start_time": "2022-12-21T17:12:10.079Z"
      },
      {
        "duration": 28,
        "start_time": "2022-12-21T17:12:10.086Z"
      },
      {
        "duration": 5,
        "start_time": "2022-12-21T17:16:28.627Z"
      },
      {
        "duration": 5,
        "start_time": "2022-12-21T17:18:02.614Z"
      },
      {
        "duration": 84,
        "start_time": "2022-12-21T17:18:02.621Z"
      },
      {
        "duration": 14,
        "start_time": "2022-12-21T17:18:02.709Z"
      },
      {
        "duration": 49,
        "start_time": "2022-12-21T17:18:02.725Z"
      },
      {
        "duration": 8,
        "start_time": "2022-12-21T17:18:02.778Z"
      },
      {
        "duration": 805,
        "start_time": "2022-12-21T17:18:02.788Z"
      },
      {
        "duration": 19,
        "start_time": "2022-12-21T17:18:03.594Z"
      },
      {
        "duration": 20,
        "start_time": "2022-12-21T17:18:03.615Z"
      },
      {
        "duration": 57,
        "start_time": "2022-12-21T17:18:03.637Z"
      },
      {
        "duration": 2853,
        "start_time": "2022-12-21T17:18:03.696Z"
      },
      {
        "duration": 15,
        "start_time": "2022-12-21T17:18:06.553Z"
      },
      {
        "duration": 117,
        "start_time": "2022-12-21T17:18:06.570Z"
      },
      {
        "duration": 230,
        "start_time": "2022-12-21T17:18:06.690Z"
      },
      {
        "duration": 28,
        "start_time": "2022-12-21T17:18:06.922Z"
      },
      {
        "duration": 56,
        "start_time": "2022-12-21T17:18:06.953Z"
      },
      {
        "duration": 8,
        "start_time": "2022-12-21T17:18:07.011Z"
      },
      {
        "duration": 15,
        "start_time": "2022-12-21T17:18:07.021Z"
      },
      {
        "duration": 6,
        "start_time": "2022-12-21T17:20:03.273Z"
      },
      {
        "duration": 16,
        "start_time": "2022-12-21T17:29:12.151Z"
      },
      {
        "duration": 136,
        "start_time": "2022-12-21T17:37:02.605Z"
      },
      {
        "duration": 6,
        "start_time": "2022-12-21T17:39:10.093Z"
      },
      {
        "duration": 5,
        "start_time": "2022-12-21T17:39:55.617Z"
      },
      {
        "duration": 4,
        "start_time": "2022-12-21T17:44:26.909Z"
      },
      {
        "duration": 71,
        "start_time": "2022-12-21T17:44:26.915Z"
      },
      {
        "duration": 17,
        "start_time": "2022-12-21T17:44:26.995Z"
      },
      {
        "duration": 28,
        "start_time": "2022-12-21T17:44:27.014Z"
      },
      {
        "duration": 31,
        "start_time": "2022-12-21T17:44:27.044Z"
      },
      {
        "duration": 720,
        "start_time": "2022-12-21T17:44:27.078Z"
      },
      {
        "duration": 12,
        "start_time": "2022-12-21T17:44:27.800Z"
      },
      {
        "duration": 17,
        "start_time": "2022-12-21T17:44:27.814Z"
      },
      {
        "duration": 10,
        "start_time": "2022-12-21T17:44:27.832Z"
      },
      {
        "duration": 2489,
        "start_time": "2022-12-21T17:44:27.843Z"
      },
      {
        "duration": 6,
        "start_time": "2022-12-21T17:44:30.335Z"
      },
      {
        "duration": 164,
        "start_time": "2022-12-21T17:44:30.343Z"
      },
      {
        "duration": 214,
        "start_time": "2022-12-21T17:44:30.509Z"
      },
      {
        "duration": 20,
        "start_time": "2022-12-21T17:44:30.725Z"
      },
      {
        "duration": 60,
        "start_time": "2022-12-21T17:44:30.747Z"
      },
      {
        "duration": 11,
        "start_time": "2022-12-21T17:44:30.808Z"
      },
      {
        "duration": 15,
        "start_time": "2022-12-21T17:44:30.821Z"
      },
      {
        "duration": 1634,
        "start_time": "2023-01-07T11:28:44.605Z"
      },
      {
        "duration": 160,
        "start_time": "2023-01-07T11:28:46.241Z"
      },
      {
        "duration": 9,
        "start_time": "2023-01-07T11:28:46.403Z"
      },
      {
        "duration": 29,
        "start_time": "2023-01-07T11:28:46.414Z"
      },
      {
        "duration": 5,
        "start_time": "2023-01-07T11:28:46.498Z"
      },
      {
        "duration": 1417,
        "start_time": "2023-01-07T11:28:46.505Z"
      },
      {
        "duration": 11,
        "start_time": "2023-01-07T11:28:47.924Z"
      },
      {
        "duration": 69,
        "start_time": "2023-01-07T11:28:47.936Z"
      },
      {
        "duration": 8,
        "start_time": "2023-01-07T11:28:48.007Z"
      },
      {
        "duration": 4086,
        "start_time": "2023-01-07T11:28:48.017Z"
      },
      {
        "duration": 6,
        "start_time": "2023-01-07T11:28:52.105Z"
      },
      {
        "duration": 125,
        "start_time": "2023-01-07T11:28:52.112Z"
      },
      {
        "duration": 300,
        "start_time": "2023-01-07T11:28:52.239Z"
      },
      {
        "duration": 69,
        "start_time": "2023-01-07T11:28:52.541Z"
      },
      {
        "duration": 85,
        "start_time": "2023-01-07T11:28:52.612Z"
      },
      {
        "duration": 5,
        "start_time": "2023-01-07T11:28:52.699Z"
      },
      {
        "duration": 9,
        "start_time": "2023-01-07T11:28:52.706Z"
      }
    ],
    "kernelspec": {
      "display_name": "Python 3 (ipykernel)",
      "language": "python",
      "name": "python3"
    },
    "language_info": {
      "codemirror_mode": {
        "name": "ipython",
        "version": 3
      },
      "file_extension": ".py",
      "mimetype": "text/x-python",
      "name": "python",
      "nbconvert_exporter": "python",
      "pygments_lexer": "ipython3",
      "version": "3.9.5"
    },
    "toc": {
      "base_numbering": 1,
      "nav_menu": {},
      "number_sections": true,
      "sideBar": true,
      "skip_h1_title": true,
      "title_cell": "Table of Contents",
      "title_sidebar": "Contents",
      "toc_cell": false,
      "toc_position": {},
      "toc_section_display": true,
      "toc_window_display": false
    },
    "colab": {
      "provenance": []
    }
  },
  "nbformat": 4,
  "nbformat_minor": 0
}