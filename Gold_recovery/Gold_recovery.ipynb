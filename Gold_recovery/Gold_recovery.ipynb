{
  "cells": [
    {
      "cell_type": "markdown",
      "metadata": {
        "id": "VxODYZUaIPZQ"
      },
      "source": [
        "# Восстановление золота из руды"
      ]
    },
    {
      "cell_type": "markdown",
      "metadata": {
        "id": "XDumI0W8IPZR"
      },
      "source": [
        "Необходимо подготовить прототип модели машинного обучения для «Цифры». Компания разрабатывает решения для эффективной работы промышленных предприятий.\n",
        "\n",
        "Модель должна предсказать коэффициент восстановления золота из золотосодержащей руды. Для этого будут использованы данные с параметрами добычи и очистки.\n",
        "\n",
        "Модель поможет оптимизировать производство, чтобы не запускать предприятие с убыточными характеристиками.\n",
        "\n",
        "\n",
        "Описание данных\n",
        "\n",
        "Технологический процесс:\n",
        "- Rougher feed — исходное сырье\n",
        "- Rougher additions (или reagent additions) — флотационные реагенты: Xanthate - ксантогенат (промотер, или активатор флотации), Sulphate - сульфат (на данном производстве сульфид натрия), Depressant - депрессант (силикат натрия)\n",
        "- Rougher process (англ. «грубый процесс») — флотация\n",
        "- Rougher tails — отвальные хвосты\n",
        "- Float banks — флотационная установка\n",
        "- Cleaner process — очистка\n",
        "- Rougher Au — черновой концентрат золота\n",
        "- Final Au — финальный концентрат золота\n",
        "\n",
        "Параметры этапов:\n",
        "- air amount — объём воздуха\n",
        "- fluid levels — уровень жидкости\n",
        "- feed size — размер гранул сырья\n",
        "- feed rate — скорость подачи"
      ]
    },
    {
      "cell_type": "markdown",
      "metadata": {
        "id": "RKyTmv5gIPZS"
      },
      "source": [
        "## Подготовка данных"
      ]
    },
    {
      "cell_type": "markdown",
      "metadata": {
        "id": "4jeB7ogCIPZS"
      },
      "source": [
        "### Изучение данных"
      ]
    },
    {
      "cell_type": "code",
      "execution_count": null,
      "metadata": {
        "trusted": true,
        "id": "kXLsYOKJIPZU"
      },
      "outputs": [],
      "source": [
        "import matplotlib.pyplot as plt\n",
        "import numpy as np\n",
        "import pandas as pd\n",
        "import seaborn as sns\n",
        "\n",
        "from sklearn.dummy import DummyRegressor\n",
        "from sklearn.ensemble import IsolationForest\n",
        "from sklearn.ensemble import RandomForestRegressor\n",
        "from sklearn.linear_model import LinearRegression\n",
        "from sklearn.metrics import fbeta_score, make_scorer\n",
        "from sklearn.metrics import mean_absolute_error\n",
        "from sklearn.model_selection import cross_val_score\n",
        "from sklearn.model_selection import GridSearchCV\n",
        "from sklearn.model_selection import RandomizedSearchCV\n",
        "from sklearn.preprocessing import StandardScaler\n",
        "from sklearn.tree import DecisionTreeRegressor\n",
        "\n",
        "import warnings\n",
        "warnings.filterwarnings(\"ignore\")"
      ]
    },
    {
      "cell_type": "markdown",
      "metadata": {
        "id": "Neng5i4iIPZb"
      },
      "source": [
        "Ознакомимся с данными."
      ]
    },
    {
      "cell_type": "code",
      "execution_count": null,
      "metadata": {
        "trusted": true,
        "id": "i5i21JmkIPZb",
        "outputId": "8787d101-f6b9-420d-d88b-e1c5ee3507dd"
      },
      "outputs": [
        {
          "data": {
            "text/html": "<div>\n<style scoped>\n    .dataframe tbody tr th:only-of-type {\n        vertical-align: middle;\n    }\n\n    .dataframe tbody tr th {\n        vertical-align: top;\n    }\n\n    .dataframe thead th {\n        text-align: right;\n    }\n</style>\n<table border=\"1\" class=\"dataframe\">\n  <thead>\n    <tr style=\"text-align: right;\">\n      <th></th>\n      <th>date</th>\n      <th>final.output.concentrate_ag</th>\n      <th>final.output.concentrate_pb</th>\n      <th>final.output.concentrate_sol</th>\n      <th>final.output.concentrate_au</th>\n      <th>final.output.recovery</th>\n      <th>final.output.tail_ag</th>\n      <th>final.output.tail_pb</th>\n      <th>final.output.tail_sol</th>\n      <th>final.output.tail_au</th>\n      <th>...</th>\n      <th>secondary_cleaner.state.floatbank4_a_air</th>\n      <th>secondary_cleaner.state.floatbank4_a_level</th>\n      <th>secondary_cleaner.state.floatbank4_b_air</th>\n      <th>secondary_cleaner.state.floatbank4_b_level</th>\n      <th>secondary_cleaner.state.floatbank5_a_air</th>\n      <th>secondary_cleaner.state.floatbank5_a_level</th>\n      <th>secondary_cleaner.state.floatbank5_b_air</th>\n      <th>secondary_cleaner.state.floatbank5_b_level</th>\n      <th>secondary_cleaner.state.floatbank6_a_air</th>\n      <th>secondary_cleaner.state.floatbank6_a_level</th>\n    </tr>\n  </thead>\n  <tbody>\n    <tr>\n      <th>0</th>\n      <td>2016-01-15 00:00:00</td>\n      <td>6.055403</td>\n      <td>9.889648</td>\n      <td>5.507324</td>\n      <td>42.192020</td>\n      <td>70.541216</td>\n      <td>10.411962</td>\n      <td>0.895447</td>\n      <td>16.904297</td>\n      <td>2.143149</td>\n      <td>...</td>\n      <td>14.016835</td>\n      <td>-502.488007</td>\n      <td>12.099931</td>\n      <td>-504.715942</td>\n      <td>9.925633</td>\n      <td>-498.310211</td>\n      <td>8.079666</td>\n      <td>-500.470978</td>\n      <td>14.151341</td>\n      <td>-605.841980</td>\n    </tr>\n    <tr>\n      <th>1</th>\n      <td>2016-01-15 01:00:00</td>\n      <td>6.029369</td>\n      <td>9.968944</td>\n      <td>5.257781</td>\n      <td>42.701629</td>\n      <td>69.266198</td>\n      <td>10.462676</td>\n      <td>0.927452</td>\n      <td>16.634514</td>\n      <td>2.224930</td>\n      <td>...</td>\n      <td>13.992281</td>\n      <td>-505.503262</td>\n      <td>11.950531</td>\n      <td>-501.331529</td>\n      <td>10.039245</td>\n      <td>-500.169983</td>\n      <td>7.984757</td>\n      <td>-500.582168</td>\n      <td>13.998353</td>\n      <td>-599.787184</td>\n    </tr>\n    <tr>\n      <th>2</th>\n      <td>2016-01-15 02:00:00</td>\n      <td>6.055926</td>\n      <td>10.213995</td>\n      <td>5.383759</td>\n      <td>42.657501</td>\n      <td>68.116445</td>\n      <td>10.507046</td>\n      <td>0.953716</td>\n      <td>16.208849</td>\n      <td>2.257889</td>\n      <td>...</td>\n      <td>14.015015</td>\n      <td>-502.520901</td>\n      <td>11.912783</td>\n      <td>-501.133383</td>\n      <td>10.070913</td>\n      <td>-500.129135</td>\n      <td>8.013877</td>\n      <td>-500.517572</td>\n      <td>14.028663</td>\n      <td>-601.427363</td>\n    </tr>\n    <tr>\n      <th>3</th>\n      <td>2016-01-15 03:00:00</td>\n      <td>6.047977</td>\n      <td>9.977019</td>\n      <td>4.858634</td>\n      <td>42.689819</td>\n      <td>68.347543</td>\n      <td>10.422762</td>\n      <td>0.883763</td>\n      <td>16.532835</td>\n      <td>2.146849</td>\n      <td>...</td>\n      <td>14.036510</td>\n      <td>-500.857308</td>\n      <td>11.999550</td>\n      <td>-501.193686</td>\n      <td>9.970366</td>\n      <td>-499.201640</td>\n      <td>7.977324</td>\n      <td>-500.255908</td>\n      <td>14.005551</td>\n      <td>-599.996129</td>\n    </tr>\n    <tr>\n      <th>4</th>\n      <td>2016-01-15 04:00:00</td>\n      <td>6.148599</td>\n      <td>10.142511</td>\n      <td>4.939416</td>\n      <td>42.774141</td>\n      <td>66.927016</td>\n      <td>10.360302</td>\n      <td>0.792826</td>\n      <td>16.525686</td>\n      <td>2.055292</td>\n      <td>...</td>\n      <td>14.027298</td>\n      <td>-499.838632</td>\n      <td>11.953070</td>\n      <td>-501.053894</td>\n      <td>9.925709</td>\n      <td>-501.686727</td>\n      <td>7.894242</td>\n      <td>-500.356035</td>\n      <td>13.996647</td>\n      <td>-601.496691</td>\n    </tr>\n  </tbody>\n</table>\n<p>5 rows × 87 columns</p>\n</div>",
            "text/plain": "                  date  final.output.concentrate_ag  \\\n0  2016-01-15 00:00:00                     6.055403   \n1  2016-01-15 01:00:00                     6.029369   \n2  2016-01-15 02:00:00                     6.055926   \n3  2016-01-15 03:00:00                     6.047977   \n4  2016-01-15 04:00:00                     6.148599   \n\n   final.output.concentrate_pb  final.output.concentrate_sol  \\\n0                     9.889648                      5.507324   \n1                     9.968944                      5.257781   \n2                    10.213995                      5.383759   \n3                     9.977019                      4.858634   \n4                    10.142511                      4.939416   \n\n   final.output.concentrate_au  final.output.recovery  final.output.tail_ag  \\\n0                    42.192020              70.541216             10.411962   \n1                    42.701629              69.266198             10.462676   \n2                    42.657501              68.116445             10.507046   \n3                    42.689819              68.347543             10.422762   \n4                    42.774141              66.927016             10.360302   \n\n   final.output.tail_pb  final.output.tail_sol  final.output.tail_au  ...  \\\n0              0.895447              16.904297              2.143149  ...   \n1              0.927452              16.634514              2.224930  ...   \n2              0.953716              16.208849              2.257889  ...   \n3              0.883763              16.532835              2.146849  ...   \n4              0.792826              16.525686              2.055292  ...   \n\n   secondary_cleaner.state.floatbank4_a_air  \\\n0                                 14.016835   \n1                                 13.992281   \n2                                 14.015015   \n3                                 14.036510   \n4                                 14.027298   \n\n   secondary_cleaner.state.floatbank4_a_level  \\\n0                                 -502.488007   \n1                                 -505.503262   \n2                                 -502.520901   \n3                                 -500.857308   \n4                                 -499.838632   \n\n   secondary_cleaner.state.floatbank4_b_air  \\\n0                                 12.099931   \n1                                 11.950531   \n2                                 11.912783   \n3                                 11.999550   \n4                                 11.953070   \n\n   secondary_cleaner.state.floatbank4_b_level  \\\n0                                 -504.715942   \n1                                 -501.331529   \n2                                 -501.133383   \n3                                 -501.193686   \n4                                 -501.053894   \n\n   secondary_cleaner.state.floatbank5_a_air  \\\n0                                  9.925633   \n1                                 10.039245   \n2                                 10.070913   \n3                                  9.970366   \n4                                  9.925709   \n\n   secondary_cleaner.state.floatbank5_a_level  \\\n0                                 -498.310211   \n1                                 -500.169983   \n2                                 -500.129135   \n3                                 -499.201640   \n4                                 -501.686727   \n\n   secondary_cleaner.state.floatbank5_b_air  \\\n0                                  8.079666   \n1                                  7.984757   \n2                                  8.013877   \n3                                  7.977324   \n4                                  7.894242   \n\n   secondary_cleaner.state.floatbank5_b_level  \\\n0                                 -500.470978   \n1                                 -500.582168   \n2                                 -500.517572   \n3                                 -500.255908   \n4                                 -500.356035   \n\n   secondary_cleaner.state.floatbank6_a_air  \\\n0                                 14.151341   \n1                                 13.998353   \n2                                 14.028663   \n3                                 14.005551   \n4                                 13.996647   \n\n   secondary_cleaner.state.floatbank6_a_level  \n0                                 -605.841980  \n1                                 -599.787184  \n2                                 -601.427363  \n3                                 -599.996129  \n4                                 -601.496691  \n\n[5 rows x 87 columns]"
          },
          "execution_count": 2,
          "metadata": {},
          "output_type": "execute_result"
        }
      ],
      "source": [
        "data_full = pd.read_csv('/datasets/gold_recovery_full_new.csv')\n",
        "data_full.head()"
      ]
    },
    {
      "cell_type": "code",
      "execution_count": null,
      "metadata": {
        "trusted": true,
        "id": "5QWEjXHeIPZd",
        "outputId": "603a1914-9e36-4634-8614-6ea1a1327ed3"
      },
      "outputs": [
        {
          "data": {
            "text/html": "<div>\n<style scoped>\n    .dataframe tbody tr th:only-of-type {\n        vertical-align: middle;\n    }\n\n    .dataframe tbody tr th {\n        vertical-align: top;\n    }\n\n    .dataframe thead th {\n        text-align: right;\n    }\n</style>\n<table border=\"1\" class=\"dataframe\">\n  <thead>\n    <tr style=\"text-align: right;\">\n      <th></th>\n      <th>date</th>\n      <th>final.output.concentrate_ag</th>\n      <th>final.output.concentrate_pb</th>\n      <th>final.output.concentrate_sol</th>\n      <th>final.output.concentrate_au</th>\n      <th>final.output.recovery</th>\n      <th>final.output.tail_ag</th>\n      <th>final.output.tail_pb</th>\n      <th>final.output.tail_sol</th>\n      <th>final.output.tail_au</th>\n      <th>...</th>\n      <th>secondary_cleaner.state.floatbank4_a_air</th>\n      <th>secondary_cleaner.state.floatbank4_a_level</th>\n      <th>secondary_cleaner.state.floatbank4_b_air</th>\n      <th>secondary_cleaner.state.floatbank4_b_level</th>\n      <th>secondary_cleaner.state.floatbank5_a_air</th>\n      <th>secondary_cleaner.state.floatbank5_a_level</th>\n      <th>secondary_cleaner.state.floatbank5_b_air</th>\n      <th>secondary_cleaner.state.floatbank5_b_level</th>\n      <th>secondary_cleaner.state.floatbank6_a_air</th>\n      <th>secondary_cleaner.state.floatbank6_a_level</th>\n    </tr>\n  </thead>\n  <tbody>\n    <tr>\n      <th>0</th>\n      <td>2016-01-15 00:00:00</td>\n      <td>6.055403</td>\n      <td>9.889648</td>\n      <td>5.507324</td>\n      <td>42.192020</td>\n      <td>70.541216</td>\n      <td>10.411962</td>\n      <td>0.895447</td>\n      <td>16.904297</td>\n      <td>2.143149</td>\n      <td>...</td>\n      <td>14.016835</td>\n      <td>-502.488007</td>\n      <td>12.099931</td>\n      <td>-504.715942</td>\n      <td>9.925633</td>\n      <td>-498.310211</td>\n      <td>8.079666</td>\n      <td>-500.470978</td>\n      <td>14.151341</td>\n      <td>-605.841980</td>\n    </tr>\n    <tr>\n      <th>1</th>\n      <td>2016-01-15 01:00:00</td>\n      <td>6.029369</td>\n      <td>9.968944</td>\n      <td>5.257781</td>\n      <td>42.701629</td>\n      <td>69.266198</td>\n      <td>10.462676</td>\n      <td>0.927452</td>\n      <td>16.634514</td>\n      <td>2.224930</td>\n      <td>...</td>\n      <td>13.992281</td>\n      <td>-505.503262</td>\n      <td>11.950531</td>\n      <td>-501.331529</td>\n      <td>10.039245</td>\n      <td>-500.169983</td>\n      <td>7.984757</td>\n      <td>-500.582168</td>\n      <td>13.998353</td>\n      <td>-599.787184</td>\n    </tr>\n    <tr>\n      <th>2</th>\n      <td>2016-01-15 02:00:00</td>\n      <td>6.055926</td>\n      <td>10.213995</td>\n      <td>5.383759</td>\n      <td>42.657501</td>\n      <td>68.116445</td>\n      <td>10.507046</td>\n      <td>0.953716</td>\n      <td>16.208849</td>\n      <td>2.257889</td>\n      <td>...</td>\n      <td>14.015015</td>\n      <td>-502.520901</td>\n      <td>11.912783</td>\n      <td>-501.133383</td>\n      <td>10.070913</td>\n      <td>-500.129135</td>\n      <td>8.013877</td>\n      <td>-500.517572</td>\n      <td>14.028663</td>\n      <td>-601.427363</td>\n    </tr>\n    <tr>\n      <th>3</th>\n      <td>2016-01-15 03:00:00</td>\n      <td>6.047977</td>\n      <td>9.977019</td>\n      <td>4.858634</td>\n      <td>42.689819</td>\n      <td>68.347543</td>\n      <td>10.422762</td>\n      <td>0.883763</td>\n      <td>16.532835</td>\n      <td>2.146849</td>\n      <td>...</td>\n      <td>14.036510</td>\n      <td>-500.857308</td>\n      <td>11.999550</td>\n      <td>-501.193686</td>\n      <td>9.970366</td>\n      <td>-499.201640</td>\n      <td>7.977324</td>\n      <td>-500.255908</td>\n      <td>14.005551</td>\n      <td>-599.996129</td>\n    </tr>\n    <tr>\n      <th>4</th>\n      <td>2016-01-15 04:00:00</td>\n      <td>6.148599</td>\n      <td>10.142511</td>\n      <td>4.939416</td>\n      <td>42.774141</td>\n      <td>66.927016</td>\n      <td>10.360302</td>\n      <td>0.792826</td>\n      <td>16.525686</td>\n      <td>2.055292</td>\n      <td>...</td>\n      <td>14.027298</td>\n      <td>-499.838632</td>\n      <td>11.953070</td>\n      <td>-501.053894</td>\n      <td>9.925709</td>\n      <td>-501.686727</td>\n      <td>7.894242</td>\n      <td>-500.356035</td>\n      <td>13.996647</td>\n      <td>-601.496691</td>\n    </tr>\n  </tbody>\n</table>\n<p>5 rows × 87 columns</p>\n</div>",
            "text/plain": "                  date  final.output.concentrate_ag  \\\n0  2016-01-15 00:00:00                     6.055403   \n1  2016-01-15 01:00:00                     6.029369   \n2  2016-01-15 02:00:00                     6.055926   \n3  2016-01-15 03:00:00                     6.047977   \n4  2016-01-15 04:00:00                     6.148599   \n\n   final.output.concentrate_pb  final.output.concentrate_sol  \\\n0                     9.889648                      5.507324   \n1                     9.968944                      5.257781   \n2                    10.213995                      5.383759   \n3                     9.977019                      4.858634   \n4                    10.142511                      4.939416   \n\n   final.output.concentrate_au  final.output.recovery  final.output.tail_ag  \\\n0                    42.192020              70.541216             10.411962   \n1                    42.701629              69.266198             10.462676   \n2                    42.657501              68.116445             10.507046   \n3                    42.689819              68.347543             10.422762   \n4                    42.774141              66.927016             10.360302   \n\n   final.output.tail_pb  final.output.tail_sol  final.output.tail_au  ...  \\\n0              0.895447              16.904297              2.143149  ...   \n1              0.927452              16.634514              2.224930  ...   \n2              0.953716              16.208849              2.257889  ...   \n3              0.883763              16.532835              2.146849  ...   \n4              0.792826              16.525686              2.055292  ...   \n\n   secondary_cleaner.state.floatbank4_a_air  \\\n0                                 14.016835   \n1                                 13.992281   \n2                                 14.015015   \n3                                 14.036510   \n4                                 14.027298   \n\n   secondary_cleaner.state.floatbank4_a_level  \\\n0                                 -502.488007   \n1                                 -505.503262   \n2                                 -502.520901   \n3                                 -500.857308   \n4                                 -499.838632   \n\n   secondary_cleaner.state.floatbank4_b_air  \\\n0                                 12.099931   \n1                                 11.950531   \n2                                 11.912783   \n3                                 11.999550   \n4                                 11.953070   \n\n   secondary_cleaner.state.floatbank4_b_level  \\\n0                                 -504.715942   \n1                                 -501.331529   \n2                                 -501.133383   \n3                                 -501.193686   \n4                                 -501.053894   \n\n   secondary_cleaner.state.floatbank5_a_air  \\\n0                                  9.925633   \n1                                 10.039245   \n2                                 10.070913   \n3                                  9.970366   \n4                                  9.925709   \n\n   secondary_cleaner.state.floatbank5_a_level  \\\n0                                 -498.310211   \n1                                 -500.169983   \n2                                 -500.129135   \n3                                 -499.201640   \n4                                 -501.686727   \n\n   secondary_cleaner.state.floatbank5_b_air  \\\n0                                  8.079666   \n1                                  7.984757   \n2                                  8.013877   \n3                                  7.977324   \n4                                  7.894242   \n\n   secondary_cleaner.state.floatbank5_b_level  \\\n0                                 -500.470978   \n1                                 -500.582168   \n2                                 -500.517572   \n3                                 -500.255908   \n4                                 -500.356035   \n\n   secondary_cleaner.state.floatbank6_a_air  \\\n0                                 14.151341   \n1                                 13.998353   \n2                                 14.028663   \n3                                 14.005551   \n4                                 13.996647   \n\n   secondary_cleaner.state.floatbank6_a_level  \n0                                 -605.841980  \n1                                 -599.787184  \n2                                 -601.427363  \n3                                 -599.996129  \n4                                 -601.496691  \n\n[5 rows x 87 columns]"
          },
          "execution_count": 3,
          "metadata": {},
          "output_type": "execute_result"
        }
      ],
      "source": [
        "data_train = pd.read_csv('/datasets/gold_recovery_train_new.csv')\n",
        "data_train.head()"
      ]
    },
    {
      "cell_type": "code",
      "execution_count": null,
      "metadata": {
        "trusted": true,
        "id": "iz02ZYfNIPZe",
        "outputId": "7e423414-3efa-445f-ddb1-3a12ed68b6c7"
      },
      "outputs": [
        {
          "data": {
            "text/html": "<div>\n<style scoped>\n    .dataframe tbody tr th:only-of-type {\n        vertical-align: middle;\n    }\n\n    .dataframe tbody tr th {\n        vertical-align: top;\n    }\n\n    .dataframe thead th {\n        text-align: right;\n    }\n</style>\n<table border=\"1\" class=\"dataframe\">\n  <thead>\n    <tr style=\"text-align: right;\">\n      <th></th>\n      <th>date</th>\n      <th>primary_cleaner.input.sulfate</th>\n      <th>primary_cleaner.input.depressant</th>\n      <th>primary_cleaner.input.feed_size</th>\n      <th>primary_cleaner.input.xanthate</th>\n      <th>primary_cleaner.state.floatbank8_a_air</th>\n      <th>primary_cleaner.state.floatbank8_a_level</th>\n      <th>primary_cleaner.state.floatbank8_b_air</th>\n      <th>primary_cleaner.state.floatbank8_b_level</th>\n      <th>primary_cleaner.state.floatbank8_c_air</th>\n      <th>...</th>\n      <th>secondary_cleaner.state.floatbank4_a_air</th>\n      <th>secondary_cleaner.state.floatbank4_a_level</th>\n      <th>secondary_cleaner.state.floatbank4_b_air</th>\n      <th>secondary_cleaner.state.floatbank4_b_level</th>\n      <th>secondary_cleaner.state.floatbank5_a_air</th>\n      <th>secondary_cleaner.state.floatbank5_a_level</th>\n      <th>secondary_cleaner.state.floatbank5_b_air</th>\n      <th>secondary_cleaner.state.floatbank5_b_level</th>\n      <th>secondary_cleaner.state.floatbank6_a_air</th>\n      <th>secondary_cleaner.state.floatbank6_a_level</th>\n    </tr>\n  </thead>\n  <tbody>\n    <tr>\n      <th>0</th>\n      <td>2016-09-01 00:59:59</td>\n      <td>210.800909</td>\n      <td>14.993118</td>\n      <td>8.080000</td>\n      <td>1.005021</td>\n      <td>1398.981301</td>\n      <td>-500.225577</td>\n      <td>1399.144926</td>\n      <td>-499.919735</td>\n      <td>1400.102998</td>\n      <td>...</td>\n      <td>12.023554</td>\n      <td>-497.795834</td>\n      <td>8.016656</td>\n      <td>-501.289139</td>\n      <td>7.946562</td>\n      <td>-432.317850</td>\n      <td>4.872511</td>\n      <td>-500.037437</td>\n      <td>26.705889</td>\n      <td>-499.709414</td>\n    </tr>\n    <tr>\n      <th>1</th>\n      <td>2016-09-01 01:59:59</td>\n      <td>215.392455</td>\n      <td>14.987471</td>\n      <td>8.080000</td>\n      <td>0.990469</td>\n      <td>1398.777912</td>\n      <td>-500.057435</td>\n      <td>1398.055362</td>\n      <td>-499.778182</td>\n      <td>1396.151033</td>\n      <td>...</td>\n      <td>12.058140</td>\n      <td>-498.695773</td>\n      <td>8.130979</td>\n      <td>-499.634209</td>\n      <td>7.958270</td>\n      <td>-525.839648</td>\n      <td>4.878850</td>\n      <td>-500.162375</td>\n      <td>25.019940</td>\n      <td>-499.819438</td>\n    </tr>\n    <tr>\n      <th>2</th>\n      <td>2016-09-01 02:59:59</td>\n      <td>215.259946</td>\n      <td>12.884934</td>\n      <td>7.786667</td>\n      <td>0.996043</td>\n      <td>1398.493666</td>\n      <td>-500.868360</td>\n      <td>1398.860436</td>\n      <td>-499.764529</td>\n      <td>1398.075709</td>\n      <td>...</td>\n      <td>11.962366</td>\n      <td>-498.767484</td>\n      <td>8.096893</td>\n      <td>-500.827423</td>\n      <td>8.071056</td>\n      <td>-500.801673</td>\n      <td>4.905125</td>\n      <td>-499.828510</td>\n      <td>24.994862</td>\n      <td>-500.622559</td>\n    </tr>\n    <tr>\n      <th>3</th>\n      <td>2016-09-01 03:59:59</td>\n      <td>215.336236</td>\n      <td>12.006805</td>\n      <td>7.640000</td>\n      <td>0.863514</td>\n      <td>1399.618111</td>\n      <td>-498.863574</td>\n      <td>1397.440120</td>\n      <td>-499.211024</td>\n      <td>1400.129303</td>\n      <td>...</td>\n      <td>12.033091</td>\n      <td>-498.350935</td>\n      <td>8.074946</td>\n      <td>-499.474407</td>\n      <td>7.897085</td>\n      <td>-500.868509</td>\n      <td>4.931400</td>\n      <td>-499.963623</td>\n      <td>24.948919</td>\n      <td>-498.709987</td>\n    </tr>\n    <tr>\n      <th>4</th>\n      <td>2016-09-01 04:59:59</td>\n      <td>199.099327</td>\n      <td>10.682530</td>\n      <td>7.530000</td>\n      <td>0.805575</td>\n      <td>1401.268123</td>\n      <td>-500.808305</td>\n      <td>1398.128818</td>\n      <td>-499.504543</td>\n      <td>1402.172226</td>\n      <td>...</td>\n      <td>12.025367</td>\n      <td>-500.786497</td>\n      <td>8.054678</td>\n      <td>-500.397500</td>\n      <td>8.107890</td>\n      <td>-509.526725</td>\n      <td>4.957674</td>\n      <td>-500.360026</td>\n      <td>25.003331</td>\n      <td>-500.856333</td>\n    </tr>\n  </tbody>\n</table>\n<p>5 rows × 53 columns</p>\n</div>",
            "text/plain": "                  date  primary_cleaner.input.sulfate  \\\n0  2016-09-01 00:59:59                     210.800909   \n1  2016-09-01 01:59:59                     215.392455   \n2  2016-09-01 02:59:59                     215.259946   \n3  2016-09-01 03:59:59                     215.336236   \n4  2016-09-01 04:59:59                     199.099327   \n\n   primary_cleaner.input.depressant  primary_cleaner.input.feed_size  \\\n0                         14.993118                         8.080000   \n1                         14.987471                         8.080000   \n2                         12.884934                         7.786667   \n3                         12.006805                         7.640000   \n4                         10.682530                         7.530000   \n\n   primary_cleaner.input.xanthate  primary_cleaner.state.floatbank8_a_air  \\\n0                        1.005021                             1398.981301   \n1                        0.990469                             1398.777912   \n2                        0.996043                             1398.493666   \n3                        0.863514                             1399.618111   \n4                        0.805575                             1401.268123   \n\n   primary_cleaner.state.floatbank8_a_level  \\\n0                               -500.225577   \n1                               -500.057435   \n2                               -500.868360   \n3                               -498.863574   \n4                               -500.808305   \n\n   primary_cleaner.state.floatbank8_b_air  \\\n0                             1399.144926   \n1                             1398.055362   \n2                             1398.860436   \n3                             1397.440120   \n4                             1398.128818   \n\n   primary_cleaner.state.floatbank8_b_level  \\\n0                               -499.919735   \n1                               -499.778182   \n2                               -499.764529   \n3                               -499.211024   \n4                               -499.504543   \n\n   primary_cleaner.state.floatbank8_c_air  ...  \\\n0                             1400.102998  ...   \n1                             1396.151033  ...   \n2                             1398.075709  ...   \n3                             1400.129303  ...   \n4                             1402.172226  ...   \n\n   secondary_cleaner.state.floatbank4_a_air  \\\n0                                 12.023554   \n1                                 12.058140   \n2                                 11.962366   \n3                                 12.033091   \n4                                 12.025367   \n\n   secondary_cleaner.state.floatbank4_a_level  \\\n0                                 -497.795834   \n1                                 -498.695773   \n2                                 -498.767484   \n3                                 -498.350935   \n4                                 -500.786497   \n\n   secondary_cleaner.state.floatbank4_b_air  \\\n0                                  8.016656   \n1                                  8.130979   \n2                                  8.096893   \n3                                  8.074946   \n4                                  8.054678   \n\n   secondary_cleaner.state.floatbank4_b_level  \\\n0                                 -501.289139   \n1                                 -499.634209   \n2                                 -500.827423   \n3                                 -499.474407   \n4                                 -500.397500   \n\n   secondary_cleaner.state.floatbank5_a_air  \\\n0                                  7.946562   \n1                                  7.958270   \n2                                  8.071056   \n3                                  7.897085   \n4                                  8.107890   \n\n   secondary_cleaner.state.floatbank5_a_level  \\\n0                                 -432.317850   \n1                                 -525.839648   \n2                                 -500.801673   \n3                                 -500.868509   \n4                                 -509.526725   \n\n   secondary_cleaner.state.floatbank5_b_air  \\\n0                                  4.872511   \n1                                  4.878850   \n2                                  4.905125   \n3                                  4.931400   \n4                                  4.957674   \n\n   secondary_cleaner.state.floatbank5_b_level  \\\n0                                 -500.037437   \n1                                 -500.162375   \n2                                 -499.828510   \n3                                 -499.963623   \n4                                 -500.360026   \n\n   secondary_cleaner.state.floatbank6_a_air  \\\n0                                 26.705889   \n1                                 25.019940   \n2                                 24.994862   \n3                                 24.948919   \n4                                 25.003331   \n\n   secondary_cleaner.state.floatbank6_a_level  \n0                                 -499.709414  \n1                                 -499.819438  \n2                                 -500.622559  \n3                                 -498.709987  \n4                                 -500.856333  \n\n[5 rows x 53 columns]"
          },
          "execution_count": 4,
          "metadata": {},
          "output_type": "execute_result"
        }
      ],
      "source": [
        "data_test = pd.read_csv('/datasets/gold_recovery_test_new.csv')\n",
        "data_test.head()"
      ]
    },
    {
      "cell_type": "code",
      "execution_count": null,
      "metadata": {
        "trusted": true,
        "id": "rhG4_Iy4IPZe",
        "outputId": "0ac97842-6058-42c9-d93a-c82c9f55ff74"
      },
      "outputs": [
        {
          "name": "stdout",
          "output_type": "stream",
          "text": "<class 'pandas.core.frame.DataFrame'>\nRangeIndex: 19439 entries, 0 to 19438\nData columns (total 87 columns):\n #   Column                                              Non-Null Count  Dtype  \n---  ------                                              --------------  -----  \n 0   date                                                19439 non-null  object \n 1   final.output.concentrate_ag                         19438 non-null  float64\n 2   final.output.concentrate_pb                         19438 non-null  float64\n 3   final.output.concentrate_sol                        19228 non-null  float64\n 4   final.output.concentrate_au                         19439 non-null  float64\n 5   final.output.recovery                               19439 non-null  float64\n 6   final.output.tail_ag                                19438 non-null  float64\n 7   final.output.tail_pb                                19338 non-null  float64\n 8   final.output.tail_sol                               19433 non-null  float64\n 9   final.output.tail_au                                19439 non-null  float64\n 10  primary_cleaner.input.sulfate                       19415 non-null  float64\n 11  primary_cleaner.input.depressant                    19402 non-null  float64\n 12  primary_cleaner.input.feed_size                     19439 non-null  float64\n 13  primary_cleaner.input.xanthate                      19335 non-null  float64\n 14  primary_cleaner.output.concentrate_ag               19439 non-null  float64\n 15  primary_cleaner.output.concentrate_pb               19323 non-null  float64\n 16  primary_cleaner.output.concentrate_sol              19069 non-null  float64\n 17  primary_cleaner.output.concentrate_au               19439 non-null  float64\n 18  primary_cleaner.output.tail_ag                      19435 non-null  float64\n 19  primary_cleaner.output.tail_pb                      19418 non-null  float64\n 20  primary_cleaner.output.tail_sol                     19377 non-null  float64\n 21  primary_cleaner.output.tail_au                      19439 non-null  float64\n 22  primary_cleaner.state.floatbank8_a_air              19435 non-null  float64\n 23  primary_cleaner.state.floatbank8_a_level            19438 non-null  float64\n 24  primary_cleaner.state.floatbank8_b_air              19435 non-null  float64\n 25  primary_cleaner.state.floatbank8_b_level            19438 non-null  float64\n 26  primary_cleaner.state.floatbank8_c_air              19437 non-null  float64\n 27  primary_cleaner.state.floatbank8_c_level            19438 non-null  float64\n 28  primary_cleaner.state.floatbank8_d_air              19436 non-null  float64\n 29  primary_cleaner.state.floatbank8_d_level            19438 non-null  float64\n 30  rougher.calculation.sulfate_to_au_concentrate       19437 non-null  float64\n 31  rougher.calculation.floatbank10_sulfate_to_au_feed  19437 non-null  float64\n 32  rougher.calculation.floatbank11_sulfate_to_au_feed  19437 non-null  float64\n 33  rougher.calculation.au_pb_ratio                     19439 non-null  float64\n 34  rougher.input.feed_ag                               19439 non-null  float64\n 35  rougher.input.feed_pb                               19339 non-null  float64\n 36  rougher.input.feed_rate                             19428 non-null  float64\n 37  rougher.input.feed_size                             19294 non-null  float64\n 38  rougher.input.feed_sol                              19340 non-null  float64\n 39  rougher.input.feed_au                               19439 non-null  float64\n 40  rougher.input.floatbank10_sulfate                   19405 non-null  float64\n 41  rougher.input.floatbank10_xanthate                  19431 non-null  float64\n 42  rougher.input.floatbank11_sulfate                   19395 non-null  float64\n 43  rougher.input.floatbank11_xanthate                  18986 non-null  float64\n 44  rougher.output.concentrate_ag                       19439 non-null  float64\n 45  rougher.output.concentrate_pb                       19439 non-null  float64\n 46  rougher.output.concentrate_sol                      19416 non-null  float64\n 47  rougher.output.concentrate_au                       19439 non-null  float64\n 48  rougher.output.recovery                             19439 non-null  float64\n 49  rougher.output.tail_ag                              19438 non-null  float64\n 50  rougher.output.tail_pb                              19439 non-null  float64\n 51  rougher.output.tail_sol                             19439 non-null  float64\n 52  rougher.output.tail_au                              19439 non-null  float64\n 53  rougher.state.floatbank10_a_air                     19438 non-null  float64\n 54  rougher.state.floatbank10_a_level                   19438 non-null  float64\n 55  rougher.state.floatbank10_b_air                     19438 non-null  float64\n 56  rougher.state.floatbank10_b_level                   19438 non-null  float64\n 57  rougher.state.floatbank10_c_air                     19438 non-null  float64\n 58  rougher.state.floatbank10_c_level                   19438 non-null  float64\n 59  rougher.state.floatbank10_d_air                     19439 non-null  float64\n 60  rougher.state.floatbank10_d_level                   19439 non-null  float64\n 61  rougher.state.floatbank10_e_air                     19003 non-null  float64\n 62  rougher.state.floatbank10_e_level                   19439 non-null  float64\n 63  rougher.state.floatbank10_f_air                     19439 non-null  float64\n 64  rougher.state.floatbank10_f_level                   19439 non-null  float64\n 65  secondary_cleaner.output.tail_ag                    19437 non-null  float64\n 66  secondary_cleaner.output.tail_pb                    19427 non-null  float64\n 67  secondary_cleaner.output.tail_sol                   17691 non-null  float64\n 68  secondary_cleaner.output.tail_au                    19439 non-null  float64\n 69  secondary_cleaner.state.floatbank2_a_air            19219 non-null  float64\n 70  secondary_cleaner.state.floatbank2_a_level          19438 non-null  float64\n 71  secondary_cleaner.state.floatbank2_b_air            19416 non-null  float64\n 72  secondary_cleaner.state.floatbank2_b_level          19438 non-null  float64\n 73  secondary_cleaner.state.floatbank3_a_air            19426 non-null  float64\n 74  secondary_cleaner.state.floatbank3_a_level          19438 non-null  float64\n 75  secondary_cleaner.state.floatbank3_b_air            19438 non-null  float64\n 76  secondary_cleaner.state.floatbank3_b_level          19438 non-null  float64\n 77  secondary_cleaner.state.floatbank4_a_air            19433 non-null  float64\n 78  secondary_cleaner.state.floatbank4_a_level          19438 non-null  float64\n 79  secondary_cleaner.state.floatbank4_b_air            19438 non-null  float64\n 80  secondary_cleaner.state.floatbank4_b_level          19438 non-null  float64\n 81  secondary_cleaner.state.floatbank5_a_air            19438 non-null  float64\n 82  secondary_cleaner.state.floatbank5_a_level          19438 non-null  float64\n 83  secondary_cleaner.state.floatbank5_b_air            19438 non-null  float64\n 84  secondary_cleaner.state.floatbank5_b_level          19438 non-null  float64\n 85  secondary_cleaner.state.floatbank6_a_air            19437 non-null  float64\n 86  secondary_cleaner.state.floatbank6_a_level          19438 non-null  float64\ndtypes: float64(86), object(1)\nmemory usage: 12.9+ MB\n"
        }
      ],
      "source": [
        "data_full.info()"
      ]
    },
    {
      "cell_type": "code",
      "execution_count": null,
      "metadata": {
        "trusted": true,
        "id": "vZ5Yp7c8IPZf",
        "outputId": "90562ea0-f8f5-477d-a413-d5b1cd6725e0"
      },
      "outputs": [
        {
          "name": "stdout",
          "output_type": "stream",
          "text": "<class 'pandas.core.frame.DataFrame'>\nRangeIndex: 14149 entries, 0 to 14148\nData columns (total 87 columns):\n #   Column                                              Non-Null Count  Dtype  \n---  ------                                              --------------  -----  \n 0   date                                                14149 non-null  object \n 1   final.output.concentrate_ag                         14148 non-null  float64\n 2   final.output.concentrate_pb                         14148 non-null  float64\n 3   final.output.concentrate_sol                        13938 non-null  float64\n 4   final.output.concentrate_au                         14149 non-null  float64\n 5   final.output.recovery                               14149 non-null  float64\n 6   final.output.tail_ag                                14149 non-null  float64\n 7   final.output.tail_pb                                14049 non-null  float64\n 8   final.output.tail_sol                               14144 non-null  float64\n 9   final.output.tail_au                                14149 non-null  float64\n 10  primary_cleaner.input.sulfate                       14129 non-null  float64\n 11  primary_cleaner.input.depressant                    14117 non-null  float64\n 12  primary_cleaner.input.feed_size                     14149 non-null  float64\n 13  primary_cleaner.input.xanthate                      14049 non-null  float64\n 14  primary_cleaner.output.concentrate_ag               14149 non-null  float64\n 15  primary_cleaner.output.concentrate_pb               14063 non-null  float64\n 16  primary_cleaner.output.concentrate_sol              13863 non-null  float64\n 17  primary_cleaner.output.concentrate_au               14149 non-null  float64\n 18  primary_cleaner.output.tail_ag                      14148 non-null  float64\n 19  primary_cleaner.output.tail_pb                      14134 non-null  float64\n 20  primary_cleaner.output.tail_sol                     14103 non-null  float64\n 21  primary_cleaner.output.tail_au                      14149 non-null  float64\n 22  primary_cleaner.state.floatbank8_a_air              14145 non-null  float64\n 23  primary_cleaner.state.floatbank8_a_level            14148 non-null  float64\n 24  primary_cleaner.state.floatbank8_b_air              14145 non-null  float64\n 25  primary_cleaner.state.floatbank8_b_level            14148 non-null  float64\n 26  primary_cleaner.state.floatbank8_c_air              14147 non-null  float64\n 27  primary_cleaner.state.floatbank8_c_level            14148 non-null  float64\n 28  primary_cleaner.state.floatbank8_d_air              14146 non-null  float64\n 29  primary_cleaner.state.floatbank8_d_level            14148 non-null  float64\n 30  rougher.calculation.sulfate_to_au_concentrate       14148 non-null  float64\n 31  rougher.calculation.floatbank10_sulfate_to_au_feed  14148 non-null  float64\n 32  rougher.calculation.floatbank11_sulfate_to_au_feed  14148 non-null  float64\n 33  rougher.calculation.au_pb_ratio                     14149 non-null  float64\n 34  rougher.input.feed_ag                               14149 non-null  float64\n 35  rougher.input.feed_pb                               14049 non-null  float64\n 36  rougher.input.feed_rate                             14141 non-null  float64\n 37  rougher.input.feed_size                             14005 non-null  float64\n 38  rougher.input.feed_sol                              14071 non-null  float64\n 39  rougher.input.feed_au                               14149 non-null  float64\n 40  rougher.input.floatbank10_sulfate                   14120 non-null  float64\n 41  rougher.input.floatbank10_xanthate                  14141 non-null  float64\n 42  rougher.input.floatbank11_sulfate                   14113 non-null  float64\n 43  rougher.input.floatbank11_xanthate                  13721 non-null  float64\n 44  rougher.output.concentrate_ag                       14149 non-null  float64\n 45  rougher.output.concentrate_pb                       14149 non-null  float64\n 46  rougher.output.concentrate_sol                      14127 non-null  float64\n 47  rougher.output.concentrate_au                       14149 non-null  float64\n 48  rougher.output.recovery                             14149 non-null  float64\n 49  rougher.output.tail_ag                              14148 non-null  float64\n 50  rougher.output.tail_pb                              14149 non-null  float64\n 51  rougher.output.tail_sol                             14149 non-null  float64\n 52  rougher.output.tail_au                              14149 non-null  float64\n 53  rougher.state.floatbank10_a_air                     14148 non-null  float64\n 54  rougher.state.floatbank10_a_level                   14148 non-null  float64\n 55  rougher.state.floatbank10_b_air                     14148 non-null  float64\n 56  rougher.state.floatbank10_b_level                   14148 non-null  float64\n 57  rougher.state.floatbank10_c_air                     14148 non-null  float64\n 58  rougher.state.floatbank10_c_level                   14148 non-null  float64\n 59  rougher.state.floatbank10_d_air                     14149 non-null  float64\n 60  rougher.state.floatbank10_d_level                   14149 non-null  float64\n 61  rougher.state.floatbank10_e_air                     13713 non-null  float64\n 62  rougher.state.floatbank10_e_level                   14149 non-null  float64\n 63  rougher.state.floatbank10_f_air                     14149 non-null  float64\n 64  rougher.state.floatbank10_f_level                   14149 non-null  float64\n 65  secondary_cleaner.output.tail_ag                    14147 non-null  float64\n 66  secondary_cleaner.output.tail_pb                    14139 non-null  float64\n 67  secondary_cleaner.output.tail_sol                   12544 non-null  float64\n 68  secondary_cleaner.output.tail_au                    14149 non-null  float64\n 69  secondary_cleaner.state.floatbank2_a_air            13932 non-null  float64\n 70  secondary_cleaner.state.floatbank2_a_level          14148 non-null  float64\n 71  secondary_cleaner.state.floatbank2_b_air            14128 non-null  float64\n 72  secondary_cleaner.state.floatbank2_b_level          14148 non-null  float64\n 73  secondary_cleaner.state.floatbank3_a_air            14145 non-null  float64\n 74  secondary_cleaner.state.floatbank3_a_level          14148 non-null  float64\n 75  secondary_cleaner.state.floatbank3_b_air            14148 non-null  float64\n 76  secondary_cleaner.state.floatbank3_b_level          14148 non-null  float64\n 77  secondary_cleaner.state.floatbank4_a_air            14143 non-null  float64\n 78  secondary_cleaner.state.floatbank4_a_level          14148 non-null  float64\n 79  secondary_cleaner.state.floatbank4_b_air            14148 non-null  float64\n 80  secondary_cleaner.state.floatbank4_b_level          14148 non-null  float64\n 81  secondary_cleaner.state.floatbank5_a_air            14148 non-null  float64\n 82  secondary_cleaner.state.floatbank5_a_level          14148 non-null  float64\n 83  secondary_cleaner.state.floatbank5_b_air            14148 non-null  float64\n 84  secondary_cleaner.state.floatbank5_b_level          14148 non-null  float64\n 85  secondary_cleaner.state.floatbank6_a_air            14147 non-null  float64\n 86  secondary_cleaner.state.floatbank6_a_level          14148 non-null  float64\ndtypes: float64(86), object(1)\nmemory usage: 9.4+ MB\n"
        }
      ],
      "source": [
        "data_train.info()"
      ]
    },
    {
      "cell_type": "code",
      "execution_count": null,
      "metadata": {
        "trusted": true,
        "id": "2Td80dInIPZf",
        "outputId": "2a924c8c-3415-44a7-aa66-c77c5e9a4d3e"
      },
      "outputs": [
        {
          "name": "stdout",
          "output_type": "stream",
          "text": "<class 'pandas.core.frame.DataFrame'>\nRangeIndex: 5290 entries, 0 to 5289\nData columns (total 53 columns):\n #   Column                                      Non-Null Count  Dtype  \n---  ------                                      --------------  -----  \n 0   date                                        5290 non-null   object \n 1   primary_cleaner.input.sulfate               5286 non-null   float64\n 2   primary_cleaner.input.depressant            5285 non-null   float64\n 3   primary_cleaner.input.feed_size             5290 non-null   float64\n 4   primary_cleaner.input.xanthate              5286 non-null   float64\n 5   primary_cleaner.state.floatbank8_a_air      5290 non-null   float64\n 6   primary_cleaner.state.floatbank8_a_level    5290 non-null   float64\n 7   primary_cleaner.state.floatbank8_b_air      5290 non-null   float64\n 8   primary_cleaner.state.floatbank8_b_level    5290 non-null   float64\n 9   primary_cleaner.state.floatbank8_c_air      5290 non-null   float64\n 10  primary_cleaner.state.floatbank8_c_level    5290 non-null   float64\n 11  primary_cleaner.state.floatbank8_d_air      5290 non-null   float64\n 12  primary_cleaner.state.floatbank8_d_level    5290 non-null   float64\n 13  rougher.input.feed_ag                       5290 non-null   float64\n 14  rougher.input.feed_pb                       5290 non-null   float64\n 15  rougher.input.feed_rate                     5287 non-null   float64\n 16  rougher.input.feed_size                     5289 non-null   float64\n 17  rougher.input.feed_sol                      5269 non-null   float64\n 18  rougher.input.feed_au                       5290 non-null   float64\n 19  rougher.input.floatbank10_sulfate           5285 non-null   float64\n 20  rougher.input.floatbank10_xanthate          5290 non-null   float64\n 21  rougher.input.floatbank11_sulfate           5282 non-null   float64\n 22  rougher.input.floatbank11_xanthate          5265 non-null   float64\n 23  rougher.state.floatbank10_a_air             5290 non-null   float64\n 24  rougher.state.floatbank10_a_level           5290 non-null   float64\n 25  rougher.state.floatbank10_b_air             5290 non-null   float64\n 26  rougher.state.floatbank10_b_level           5290 non-null   float64\n 27  rougher.state.floatbank10_c_air             5290 non-null   float64\n 28  rougher.state.floatbank10_c_level           5290 non-null   float64\n 29  rougher.state.floatbank10_d_air             5290 non-null   float64\n 30  rougher.state.floatbank10_d_level           5290 non-null   float64\n 31  rougher.state.floatbank10_e_air             5290 non-null   float64\n 32  rougher.state.floatbank10_e_level           5290 non-null   float64\n 33  rougher.state.floatbank10_f_air             5290 non-null   float64\n 34  rougher.state.floatbank10_f_level           5290 non-null   float64\n 35  secondary_cleaner.state.floatbank2_a_air    5287 non-null   float64\n 36  secondary_cleaner.state.floatbank2_a_level  5290 non-null   float64\n 37  secondary_cleaner.state.floatbank2_b_air    5288 non-null   float64\n 38  secondary_cleaner.state.floatbank2_b_level  5290 non-null   float64\n 39  secondary_cleaner.state.floatbank3_a_air    5281 non-null   float64\n 40  secondary_cleaner.state.floatbank3_a_level  5290 non-null   float64\n 41  secondary_cleaner.state.floatbank3_b_air    5290 non-null   float64\n 42  secondary_cleaner.state.floatbank3_b_level  5290 non-null   float64\n 43  secondary_cleaner.state.floatbank4_a_air    5290 non-null   float64\n 44  secondary_cleaner.state.floatbank4_a_level  5290 non-null   float64\n 45  secondary_cleaner.state.floatbank4_b_air    5290 non-null   float64\n 46  secondary_cleaner.state.floatbank4_b_level  5290 non-null   float64\n 47  secondary_cleaner.state.floatbank5_a_air    5290 non-null   float64\n 48  secondary_cleaner.state.floatbank5_a_level  5290 non-null   float64\n 49  secondary_cleaner.state.floatbank5_b_air    5290 non-null   float64\n 50  secondary_cleaner.state.floatbank5_b_level  5290 non-null   float64\n 51  secondary_cleaner.state.floatbank6_a_air    5290 non-null   float64\n 52  secondary_cleaner.state.floatbank6_a_level  5290 non-null   float64\ndtypes: float64(52), object(1)\nmemory usage: 2.1+ MB\n"
        }
      ],
      "source": [
        "data_test.info()"
      ]
    },
    {
      "cell_type": "code",
      "execution_count": null,
      "metadata": {
        "trusted": true,
        "id": "3eqtOV5zIPZg",
        "outputId": "86dd0ca8-e92f-4eab-a409-656eeac64734"
      },
      "outputs": [
        {
          "data": {
            "text/html": "<div>\n<style scoped>\n    .dataframe tbody tr th:only-of-type {\n        vertical-align: middle;\n    }\n\n    .dataframe tbody tr th {\n        vertical-align: top;\n    }\n\n    .dataframe thead th {\n        text-align: right;\n    }\n</style>\n<table border=\"1\" class=\"dataframe\">\n  <thead>\n    <tr style=\"text-align: right;\">\n      <th></th>\n      <th>final.output.concentrate_ag</th>\n      <th>final.output.concentrate_pb</th>\n      <th>final.output.concentrate_sol</th>\n      <th>final.output.concentrate_au</th>\n      <th>final.output.recovery</th>\n      <th>final.output.tail_ag</th>\n      <th>final.output.tail_pb</th>\n      <th>final.output.tail_sol</th>\n      <th>final.output.tail_au</th>\n      <th>primary_cleaner.input.sulfate</th>\n      <th>...</th>\n      <th>secondary_cleaner.state.floatbank4_a_air</th>\n      <th>secondary_cleaner.state.floatbank4_a_level</th>\n      <th>secondary_cleaner.state.floatbank4_b_air</th>\n      <th>secondary_cleaner.state.floatbank4_b_level</th>\n      <th>secondary_cleaner.state.floatbank5_a_air</th>\n      <th>secondary_cleaner.state.floatbank5_a_level</th>\n      <th>secondary_cleaner.state.floatbank5_b_air</th>\n      <th>secondary_cleaner.state.floatbank5_b_level</th>\n      <th>secondary_cleaner.state.floatbank6_a_air</th>\n      <th>secondary_cleaner.state.floatbank6_a_level</th>\n    </tr>\n  </thead>\n  <tbody>\n    <tr>\n      <th>count</th>\n      <td>19438.000000</td>\n      <td>19438.000000</td>\n      <td>19228.000000</td>\n      <td>19439.000000</td>\n      <td>19439.000000</td>\n      <td>19438.000000</td>\n      <td>19338.000000</td>\n      <td>19433.000000</td>\n      <td>19439.000000</td>\n      <td>19415.000000</td>\n      <td>...</td>\n      <td>19433.000000</td>\n      <td>19438.000000</td>\n      <td>19438.000000</td>\n      <td>19438.000000</td>\n      <td>19438.000000</td>\n      <td>19438.000000</td>\n      <td>19438.000000</td>\n      <td>19438.000000</td>\n      <td>19437.000000</td>\n      <td>19438.000000</td>\n    </tr>\n    <tr>\n      <th>mean</th>\n      <td>5.168470</td>\n      <td>9.978895</td>\n      <td>9.501224</td>\n      <td>44.076513</td>\n      <td>67.050208</td>\n      <td>9.688589</td>\n      <td>2.705795</td>\n      <td>10.583728</td>\n      <td>3.042467</td>\n      <td>144.624774</td>\n      <td>...</td>\n      <td>18.987674</td>\n      <td>-485.894516</td>\n      <td>15.010366</td>\n      <td>-461.078636</td>\n      <td>15.694452</td>\n      <td>-488.684065</td>\n      <td>12.198224</td>\n      <td>-487.149827</td>\n      <td>18.959024</td>\n      <td>-505.436305</td>\n    </tr>\n    <tr>\n      <th>std</th>\n      <td>1.372348</td>\n      <td>1.669240</td>\n      <td>2.787537</td>\n      <td>5.129784</td>\n      <td>10.125840</td>\n      <td>2.328642</td>\n      <td>0.949077</td>\n      <td>2.868782</td>\n      <td>0.922808</td>\n      <td>44.464071</td>\n      <td>...</td>\n      <td>5.411058</td>\n      <td>47.758570</td>\n      <td>4.890228</td>\n      <td>67.405524</td>\n      <td>5.510974</td>\n      <td>34.533396</td>\n      <td>5.333024</td>\n      <td>38.347312</td>\n      <td>5.550498</td>\n      <td>37.689057</td>\n    </tr>\n    <tr>\n      <th>min</th>\n      <td>0.000000</td>\n      <td>0.000000</td>\n      <td>0.000000</td>\n      <td>0.000000</td>\n      <td>0.000000</td>\n      <td>0.000000</td>\n      <td>0.000000</td>\n      <td>0.000000</td>\n      <td>0.000000</td>\n      <td>0.003112</td>\n      <td>...</td>\n      <td>0.000000</td>\n      <td>-799.798523</td>\n      <td>0.000000</td>\n      <td>-800.836914</td>\n      <td>-0.372054</td>\n      <td>-797.323986</td>\n      <td>0.528083</td>\n      <td>-800.220337</td>\n      <td>-0.079426</td>\n      <td>-809.741464</td>\n    </tr>\n    <tr>\n      <th>25%</th>\n      <td>4.251240</td>\n      <td>9.137262</td>\n      <td>7.722820</td>\n      <td>43.402215</td>\n      <td>63.299712</td>\n      <td>8.062878</td>\n      <td>2.040119</td>\n      <td>8.938947</td>\n      <td>2.461138</td>\n      <td>114.107029</td>\n      <td>...</td>\n      <td>14.975734</td>\n      <td>-500.704892</td>\n      <td>11.940294</td>\n      <td>-500.187742</td>\n      <td>10.988606</td>\n      <td>-500.458467</td>\n      <td>8.971105</td>\n      <td>-500.129462</td>\n      <td>14.983037</td>\n      <td>-500.728067</td>\n    </tr>\n    <tr>\n      <th>50%</th>\n      <td>5.066094</td>\n      <td>10.102433</td>\n      <td>9.218961</td>\n      <td>45.011244</td>\n      <td>68.172738</td>\n      <td>9.743623</td>\n      <td>2.748730</td>\n      <td>10.622456</td>\n      <td>2.984909</td>\n      <td>143.232103</td>\n      <td>...</td>\n      <td>18.017481</td>\n      <td>-499.837793</td>\n      <td>14.971014</td>\n      <td>-499.459786</td>\n      <td>15.000036</td>\n      <td>-499.802605</td>\n      <td>11.019433</td>\n      <td>-499.935317</td>\n      <td>19.960541</td>\n      <td>-500.048400</td>\n    </tr>\n    <tr>\n      <th>75%</th>\n      <td>5.895527</td>\n      <td>11.035769</td>\n      <td>10.947813</td>\n      <td>46.275313</td>\n      <td>72.686642</td>\n      <td>11.134294</td>\n      <td>3.333216</td>\n      <td>12.104271</td>\n      <td>3.571351</td>\n      <td>175.075656</td>\n      <td>...</td>\n      <td>23.012470</td>\n      <td>-498.249730</td>\n      <td>19.034162</td>\n      <td>-400.118106</td>\n      <td>18.026190</td>\n      <td>-498.384187</td>\n      <td>14.019088</td>\n      <td>-499.436708</td>\n      <td>24.003170</td>\n      <td>-499.495378</td>\n    </tr>\n    <tr>\n      <th>max</th>\n      <td>16.001945</td>\n      <td>17.031899</td>\n      <td>19.615720</td>\n      <td>52.756638</td>\n      <td>100.000000</td>\n      <td>19.552149</td>\n      <td>5.804178</td>\n      <td>22.317730</td>\n      <td>8.245022</td>\n      <td>265.983123</td>\n      <td>...</td>\n      <td>30.115735</td>\n      <td>-245.239184</td>\n      <td>31.269706</td>\n      <td>-6.506986</td>\n      <td>43.709931</td>\n      <td>-244.483566</td>\n      <td>27.926001</td>\n      <td>-137.740004</td>\n      <td>32.188906</td>\n      <td>-104.427459</td>\n    </tr>\n  </tbody>\n</table>\n<p>8 rows × 86 columns</p>\n</div>",
            "text/plain": "       final.output.concentrate_ag  final.output.concentrate_pb  \\\ncount                 19438.000000                 19438.000000   \nmean                      5.168470                     9.978895   \nstd                       1.372348                     1.669240   \nmin                       0.000000                     0.000000   \n25%                       4.251240                     9.137262   \n50%                       5.066094                    10.102433   \n75%                       5.895527                    11.035769   \nmax                      16.001945                    17.031899   \n\n       final.output.concentrate_sol  final.output.concentrate_au  \\\ncount                  19228.000000                 19439.000000   \nmean                       9.501224                    44.076513   \nstd                        2.787537                     5.129784   \nmin                        0.000000                     0.000000   \n25%                        7.722820                    43.402215   \n50%                        9.218961                    45.011244   \n75%                       10.947813                    46.275313   \nmax                       19.615720                    52.756638   \n\n       final.output.recovery  final.output.tail_ag  final.output.tail_pb  \\\ncount           19439.000000          19438.000000          19338.000000   \nmean               67.050208              9.688589              2.705795   \nstd                10.125840              2.328642              0.949077   \nmin                 0.000000              0.000000              0.000000   \n25%                63.299712              8.062878              2.040119   \n50%                68.172738              9.743623              2.748730   \n75%                72.686642             11.134294              3.333216   \nmax               100.000000             19.552149              5.804178   \n\n       final.output.tail_sol  final.output.tail_au  \\\ncount           19433.000000          19439.000000   \nmean               10.583728              3.042467   \nstd                 2.868782              0.922808   \nmin                 0.000000              0.000000   \n25%                 8.938947              2.461138   \n50%                10.622456              2.984909   \n75%                12.104271              3.571351   \nmax                22.317730              8.245022   \n\n       primary_cleaner.input.sulfate  ...  \\\ncount                   19415.000000  ...   \nmean                      144.624774  ...   \nstd                        44.464071  ...   \nmin                         0.003112  ...   \n25%                       114.107029  ...   \n50%                       143.232103  ...   \n75%                       175.075656  ...   \nmax                       265.983123  ...   \n\n       secondary_cleaner.state.floatbank4_a_air  \\\ncount                              19433.000000   \nmean                                  18.987674   \nstd                                    5.411058   \nmin                                    0.000000   \n25%                                   14.975734   \n50%                                   18.017481   \n75%                                   23.012470   \nmax                                   30.115735   \n\n       secondary_cleaner.state.floatbank4_a_level  \\\ncount                                19438.000000   \nmean                                  -485.894516   \nstd                                     47.758570   \nmin                                   -799.798523   \n25%                                   -500.704892   \n50%                                   -499.837793   \n75%                                   -498.249730   \nmax                                   -245.239184   \n\n       secondary_cleaner.state.floatbank4_b_air  \\\ncount                              19438.000000   \nmean                                  15.010366   \nstd                                    4.890228   \nmin                                    0.000000   \n25%                                   11.940294   \n50%                                   14.971014   \n75%                                   19.034162   \nmax                                   31.269706   \n\n       secondary_cleaner.state.floatbank4_b_level  \\\ncount                                19438.000000   \nmean                                  -461.078636   \nstd                                     67.405524   \nmin                                   -800.836914   \n25%                                   -500.187742   \n50%                                   -499.459786   \n75%                                   -400.118106   \nmax                                     -6.506986   \n\n       secondary_cleaner.state.floatbank5_a_air  \\\ncount                              19438.000000   \nmean                                  15.694452   \nstd                                    5.510974   \nmin                                   -0.372054   \n25%                                   10.988606   \n50%                                   15.000036   \n75%                                   18.026190   \nmax                                   43.709931   \n\n       secondary_cleaner.state.floatbank5_a_level  \\\ncount                                19438.000000   \nmean                                  -488.684065   \nstd                                     34.533396   \nmin                                   -797.323986   \n25%                                   -500.458467   \n50%                                   -499.802605   \n75%                                   -498.384187   \nmax                                   -244.483566   \n\n       secondary_cleaner.state.floatbank5_b_air  \\\ncount                              19438.000000   \nmean                                  12.198224   \nstd                                    5.333024   \nmin                                    0.528083   \n25%                                    8.971105   \n50%                                   11.019433   \n75%                                   14.019088   \nmax                                   27.926001   \n\n       secondary_cleaner.state.floatbank5_b_level  \\\ncount                                19438.000000   \nmean                                  -487.149827   \nstd                                     38.347312   \nmin                                   -800.220337   \n25%                                   -500.129462   \n50%                                   -499.935317   \n75%                                   -499.436708   \nmax                                   -137.740004   \n\n       secondary_cleaner.state.floatbank6_a_air  \\\ncount                              19437.000000   \nmean                                  18.959024   \nstd                                    5.550498   \nmin                                   -0.079426   \n25%                                   14.983037   \n50%                                   19.960541   \n75%                                   24.003170   \nmax                                   32.188906   \n\n       secondary_cleaner.state.floatbank6_a_level  \ncount                                19438.000000  \nmean                                  -505.436305  \nstd                                     37.689057  \nmin                                   -809.741464  \n25%                                   -500.728067  \n50%                                   -500.048400  \n75%                                   -499.495378  \nmax                                   -104.427459  \n\n[8 rows x 86 columns]"
          },
          "execution_count": 8,
          "metadata": {},
          "output_type": "execute_result"
        }
      ],
      "source": [
        "data_full.describe()"
      ]
    },
    {
      "cell_type": "code",
      "execution_count": null,
      "metadata": {
        "trusted": true,
        "id": "HDonKzfVIPZg",
        "outputId": "c614e5d9-416c-48b1-f046-29cdedaeceb7"
      },
      "outputs": [
        {
          "data": {
            "text/html": "<div>\n<style scoped>\n    .dataframe tbody tr th:only-of-type {\n        vertical-align: middle;\n    }\n\n    .dataframe tbody tr th {\n        vertical-align: top;\n    }\n\n    .dataframe thead th {\n        text-align: right;\n    }\n</style>\n<table border=\"1\" class=\"dataframe\">\n  <thead>\n    <tr style=\"text-align: right;\">\n      <th></th>\n      <th>final.output.concentrate_ag</th>\n      <th>final.output.concentrate_pb</th>\n      <th>final.output.concentrate_sol</th>\n      <th>final.output.concentrate_au</th>\n      <th>final.output.recovery</th>\n      <th>final.output.tail_ag</th>\n      <th>final.output.tail_pb</th>\n      <th>final.output.tail_sol</th>\n      <th>final.output.tail_au</th>\n      <th>primary_cleaner.input.sulfate</th>\n      <th>...</th>\n      <th>secondary_cleaner.state.floatbank4_a_air</th>\n      <th>secondary_cleaner.state.floatbank4_a_level</th>\n      <th>secondary_cleaner.state.floatbank4_b_air</th>\n      <th>secondary_cleaner.state.floatbank4_b_level</th>\n      <th>secondary_cleaner.state.floatbank5_a_air</th>\n      <th>secondary_cleaner.state.floatbank5_a_level</th>\n      <th>secondary_cleaner.state.floatbank5_b_air</th>\n      <th>secondary_cleaner.state.floatbank5_b_level</th>\n      <th>secondary_cleaner.state.floatbank6_a_air</th>\n      <th>secondary_cleaner.state.floatbank6_a_level</th>\n    </tr>\n  </thead>\n  <tbody>\n    <tr>\n      <th>count</th>\n      <td>14148.000000</td>\n      <td>14148.000000</td>\n      <td>13938.000000</td>\n      <td>14149.000000</td>\n      <td>14149.000000</td>\n      <td>14149.000000</td>\n      <td>14049.000000</td>\n      <td>14144.000000</td>\n      <td>14149.000000</td>\n      <td>14129.000000</td>\n      <td>...</td>\n      <td>14143.000000</td>\n      <td>14148.000000</td>\n      <td>14148.000000</td>\n      <td>14148.000000</td>\n      <td>14148.000000</td>\n      <td>14148.000000</td>\n      <td>14148.000000</td>\n      <td>14148.000000</td>\n      <td>14147.000000</td>\n      <td>14148.000000</td>\n    </tr>\n    <tr>\n      <th>mean</th>\n      <td>5.142034</td>\n      <td>10.132960</td>\n      <td>9.202849</td>\n      <td>44.003792</td>\n      <td>66.518832</td>\n      <td>9.607035</td>\n      <td>2.597298</td>\n      <td>10.512122</td>\n      <td>2.918421</td>\n      <td>133.320659</td>\n      <td>...</td>\n      <td>19.985454</td>\n      <td>-478.696836</td>\n      <td>15.487065</td>\n      <td>-460.229416</td>\n      <td>16.775136</td>\n      <td>-483.956022</td>\n      <td>13.064590</td>\n      <td>-483.966564</td>\n      <td>19.577539</td>\n      <td>-506.798480</td>\n    </tr>\n    <tr>\n      <th>std</th>\n      <td>1.369586</td>\n      <td>1.654930</td>\n      <td>2.790516</td>\n      <td>4.905261</td>\n      <td>10.295402</td>\n      <td>2.319069</td>\n      <td>0.971843</td>\n      <td>3.003617</td>\n      <td>0.903712</td>\n      <td>39.431659</td>\n      <td>...</td>\n      <td>5.657723</td>\n      <td>50.736021</td>\n      <td>5.255655</td>\n      <td>58.843586</td>\n      <td>5.831906</td>\n      <td>37.892788</td>\n      <td>5.765617</td>\n      <td>39.207913</td>\n      <td>5.764417</td>\n      <td>37.079249</td>\n    </tr>\n    <tr>\n      <th>min</th>\n      <td>0.000000</td>\n      <td>0.000000</td>\n      <td>0.000000</td>\n      <td>0.000000</td>\n      <td>0.000000</td>\n      <td>0.000000</td>\n      <td>0.000000</td>\n      <td>0.000000</td>\n      <td>0.000000</td>\n      <td>0.003112</td>\n      <td>...</td>\n      <td>0.000000</td>\n      <td>-799.709069</td>\n      <td>0.000000</td>\n      <td>-799.889113</td>\n      <td>-0.372054</td>\n      <td>-797.142475</td>\n      <td>0.646208</td>\n      <td>-800.006180</td>\n      <td>0.195324</td>\n      <td>-809.398668</td>\n    </tr>\n    <tr>\n      <th>25%</th>\n      <td>4.211620</td>\n      <td>9.297355</td>\n      <td>7.484645</td>\n      <td>43.276111</td>\n      <td>62.545817</td>\n      <td>7.997429</td>\n      <td>1.905973</td>\n      <td>8.811324</td>\n      <td>2.368607</td>\n      <td>107.006651</td>\n      <td>...</td>\n      <td>14.990775</td>\n      <td>-500.628656</td>\n      <td>11.894558</td>\n      <td>-500.149000</td>\n      <td>11.083980</td>\n      <td>-500.363177</td>\n      <td>8.994405</td>\n      <td>-500.105994</td>\n      <td>14.989304</td>\n      <td>-500.745104</td>\n    </tr>\n    <tr>\n      <th>50%</th>\n      <td>4.994652</td>\n      <td>10.297144</td>\n      <td>8.845462</td>\n      <td>44.872436</td>\n      <td>67.432775</td>\n      <td>9.480270</td>\n      <td>2.592022</td>\n      <td>10.514621</td>\n      <td>2.851025</td>\n      <td>133.018328</td>\n      <td>...</td>\n      <td>20.001789</td>\n      <td>-499.681450</td>\n      <td>14.975536</td>\n      <td>-499.388738</td>\n      <td>17.932223</td>\n      <td>-499.702452</td>\n      <td>11.997547</td>\n      <td>-499.914556</td>\n      <td>19.984175</td>\n      <td>-500.061431</td>\n    </tr>\n    <tr>\n      <th>75%</th>\n      <td>5.859540</td>\n      <td>11.170603</td>\n      <td>10.487508</td>\n      <td>46.166425</td>\n      <td>72.346428</td>\n      <td>11.003707</td>\n      <td>3.241723</td>\n      <td>11.933009</td>\n      <td>3.434764</td>\n      <td>159.825396</td>\n      <td>...</td>\n      <td>24.990826</td>\n      <td>-477.472413</td>\n      <td>20.059375</td>\n      <td>-400.039008</td>\n      <td>21.346550</td>\n      <td>-487.712108</td>\n      <td>17.982903</td>\n      <td>-453.186936</td>\n      <td>24.991623</td>\n      <td>-499.536466</td>\n    </tr>\n    <tr>\n      <th>max</th>\n      <td>16.001945</td>\n      <td>17.031899</td>\n      <td>18.124851</td>\n      <td>52.756638</td>\n      <td>100.000000</td>\n      <td>19.552149</td>\n      <td>5.639565</td>\n      <td>22.317730</td>\n      <td>8.197408</td>\n      <td>250.127834</td>\n      <td>...</td>\n      <td>30.115735</td>\n      <td>-245.239184</td>\n      <td>24.007913</td>\n      <td>-145.071088</td>\n      <td>43.709931</td>\n      <td>-275.073125</td>\n      <td>27.926001</td>\n      <td>-157.396071</td>\n      <td>32.188906</td>\n      <td>-104.427459</td>\n    </tr>\n  </tbody>\n</table>\n<p>8 rows × 86 columns</p>\n</div>",
            "text/plain": "       final.output.concentrate_ag  final.output.concentrate_pb  \\\ncount                 14148.000000                 14148.000000   \nmean                      5.142034                    10.132960   \nstd                       1.369586                     1.654930   \nmin                       0.000000                     0.000000   \n25%                       4.211620                     9.297355   \n50%                       4.994652                    10.297144   \n75%                       5.859540                    11.170603   \nmax                      16.001945                    17.031899   \n\n       final.output.concentrate_sol  final.output.concentrate_au  \\\ncount                  13938.000000                 14149.000000   \nmean                       9.202849                    44.003792   \nstd                        2.790516                     4.905261   \nmin                        0.000000                     0.000000   \n25%                        7.484645                    43.276111   \n50%                        8.845462                    44.872436   \n75%                       10.487508                    46.166425   \nmax                       18.124851                    52.756638   \n\n       final.output.recovery  final.output.tail_ag  final.output.tail_pb  \\\ncount           14149.000000          14149.000000          14049.000000   \nmean               66.518832              9.607035              2.597298   \nstd                10.295402              2.319069              0.971843   \nmin                 0.000000              0.000000              0.000000   \n25%                62.545817              7.997429              1.905973   \n50%                67.432775              9.480270              2.592022   \n75%                72.346428             11.003707              3.241723   \nmax               100.000000             19.552149              5.639565   \n\n       final.output.tail_sol  final.output.tail_au  \\\ncount           14144.000000          14149.000000   \nmean               10.512122              2.918421   \nstd                 3.003617              0.903712   \nmin                 0.000000              0.000000   \n25%                 8.811324              2.368607   \n50%                10.514621              2.851025   \n75%                11.933009              3.434764   \nmax                22.317730              8.197408   \n\n       primary_cleaner.input.sulfate  ...  \\\ncount                   14129.000000  ...   \nmean                      133.320659  ...   \nstd                        39.431659  ...   \nmin                         0.003112  ...   \n25%                       107.006651  ...   \n50%                       133.018328  ...   \n75%                       159.825396  ...   \nmax                       250.127834  ...   \n\n       secondary_cleaner.state.floatbank4_a_air  \\\ncount                              14143.000000   \nmean                                  19.985454   \nstd                                    5.657723   \nmin                                    0.000000   \n25%                                   14.990775   \n50%                                   20.001789   \n75%                                   24.990826   \nmax                                   30.115735   \n\n       secondary_cleaner.state.floatbank4_a_level  \\\ncount                                14148.000000   \nmean                                  -478.696836   \nstd                                     50.736021   \nmin                                   -799.709069   \n25%                                   -500.628656   \n50%                                   -499.681450   \n75%                                   -477.472413   \nmax                                   -245.239184   \n\n       secondary_cleaner.state.floatbank4_b_air  \\\ncount                              14148.000000   \nmean                                  15.487065   \nstd                                    5.255655   \nmin                                    0.000000   \n25%                                   11.894558   \n50%                                   14.975536   \n75%                                   20.059375   \nmax                                   24.007913   \n\n       secondary_cleaner.state.floatbank4_b_level  \\\ncount                                14148.000000   \nmean                                  -460.229416   \nstd                                     58.843586   \nmin                                   -799.889113   \n25%                                   -500.149000   \n50%                                   -499.388738   \n75%                                   -400.039008   \nmax                                   -145.071088   \n\n       secondary_cleaner.state.floatbank5_a_air  \\\ncount                              14148.000000   \nmean                                  16.775136   \nstd                                    5.831906   \nmin                                   -0.372054   \n25%                                   11.083980   \n50%                                   17.932223   \n75%                                   21.346550   \nmax                                   43.709931   \n\n       secondary_cleaner.state.floatbank5_a_level  \\\ncount                                14148.000000   \nmean                                  -483.956022   \nstd                                     37.892788   \nmin                                   -797.142475   \n25%                                   -500.363177   \n50%                                   -499.702452   \n75%                                   -487.712108   \nmax                                   -275.073125   \n\n       secondary_cleaner.state.floatbank5_b_air  \\\ncount                              14148.000000   \nmean                                  13.064590   \nstd                                    5.765617   \nmin                                    0.646208   \n25%                                    8.994405   \n50%                                   11.997547   \n75%                                   17.982903   \nmax                                   27.926001   \n\n       secondary_cleaner.state.floatbank5_b_level  \\\ncount                                14148.000000   \nmean                                  -483.966564   \nstd                                     39.207913   \nmin                                   -800.006180   \n25%                                   -500.105994   \n50%                                   -499.914556   \n75%                                   -453.186936   \nmax                                   -157.396071   \n\n       secondary_cleaner.state.floatbank6_a_air  \\\ncount                              14147.000000   \nmean                                  19.577539   \nstd                                    5.764417   \nmin                                    0.195324   \n25%                                   14.989304   \n50%                                   19.984175   \n75%                                   24.991623   \nmax                                   32.188906   \n\n       secondary_cleaner.state.floatbank6_a_level  \ncount                                14148.000000  \nmean                                  -506.798480  \nstd                                     37.079249  \nmin                                   -809.398668  \n25%                                   -500.745104  \n50%                                   -500.061431  \n75%                                   -499.536466  \nmax                                   -104.427459  \n\n[8 rows x 86 columns]"
          },
          "execution_count": 9,
          "metadata": {},
          "output_type": "execute_result"
        }
      ],
      "source": [
        "data_train.describe()"
      ]
    },
    {
      "cell_type": "code",
      "execution_count": null,
      "metadata": {
        "trusted": true,
        "id": "yjlhM0HjIPZh",
        "outputId": "3eaecbaa-482d-4887-e70a-c5180170d127"
      },
      "outputs": [
        {
          "data": {
            "text/html": "<div>\n<style scoped>\n    .dataframe tbody tr th:only-of-type {\n        vertical-align: middle;\n    }\n\n    .dataframe tbody tr th {\n        vertical-align: top;\n    }\n\n    .dataframe thead th {\n        text-align: right;\n    }\n</style>\n<table border=\"1\" class=\"dataframe\">\n  <thead>\n    <tr style=\"text-align: right;\">\n      <th></th>\n      <th>primary_cleaner.input.sulfate</th>\n      <th>primary_cleaner.input.depressant</th>\n      <th>primary_cleaner.input.feed_size</th>\n      <th>primary_cleaner.input.xanthate</th>\n      <th>primary_cleaner.state.floatbank8_a_air</th>\n      <th>primary_cleaner.state.floatbank8_a_level</th>\n      <th>primary_cleaner.state.floatbank8_b_air</th>\n      <th>primary_cleaner.state.floatbank8_b_level</th>\n      <th>primary_cleaner.state.floatbank8_c_air</th>\n      <th>primary_cleaner.state.floatbank8_c_level</th>\n      <th>...</th>\n      <th>secondary_cleaner.state.floatbank4_a_air</th>\n      <th>secondary_cleaner.state.floatbank4_a_level</th>\n      <th>secondary_cleaner.state.floatbank4_b_air</th>\n      <th>secondary_cleaner.state.floatbank4_b_level</th>\n      <th>secondary_cleaner.state.floatbank5_a_air</th>\n      <th>secondary_cleaner.state.floatbank5_a_level</th>\n      <th>secondary_cleaner.state.floatbank5_b_air</th>\n      <th>secondary_cleaner.state.floatbank5_b_level</th>\n      <th>secondary_cleaner.state.floatbank6_a_air</th>\n      <th>secondary_cleaner.state.floatbank6_a_level</th>\n    </tr>\n  </thead>\n  <tbody>\n    <tr>\n      <th>count</th>\n      <td>5286.000000</td>\n      <td>5285.000000</td>\n      <td>5290.000000</td>\n      <td>5286.000000</td>\n      <td>5.290000e+03</td>\n      <td>5290.000000</td>\n      <td>5.290000e+03</td>\n      <td>5290.000000</td>\n      <td>5.290000e+03</td>\n      <td>5290.000000</td>\n      <td>...</td>\n      <td>5.290000e+03</td>\n      <td>5290.000000</td>\n      <td>5.290000e+03</td>\n      <td>5290.000000</td>\n      <td>5290.000000</td>\n      <td>5290.000000</td>\n      <td>5290.000000</td>\n      <td>5290.000000</td>\n      <td>5290.000000</td>\n      <td>5290.000000</td>\n    </tr>\n    <tr>\n      <th>mean</th>\n      <td>174.839652</td>\n      <td>8.683596</td>\n      <td>7.266339</td>\n      <td>1.383803</td>\n      <td>1.539494e+03</td>\n      <td>-497.665883</td>\n      <td>1.545174e+03</td>\n      <td>-500.273098</td>\n      <td>1.527272e+03</td>\n      <td>-498.330680</td>\n      <td>...</td>\n      <td>1.632007e+01</td>\n      <td>-505.144570</td>\n      <td>1.373544e+01</td>\n      <td>-463.349858</td>\n      <td>12.804186</td>\n      <td>-501.329122</td>\n      <td>9.881145</td>\n      <td>-495.663398</td>\n      <td>17.304935</td>\n      <td>-501.793193</td>\n    </tr>\n    <tr>\n      <th>std</th>\n      <td>43.027080</td>\n      <td>3.072050</td>\n      <td>0.610219</td>\n      <td>0.643474</td>\n      <td>1.167979e+02</td>\n      <td>19.952431</td>\n      <td>1.222246e+02</td>\n      <td>32.968307</td>\n      <td>1.225380e+02</td>\n      <td>21.964876</td>\n      <td>...</td>\n      <td>3.493583e+00</td>\n      <td>31.427337</td>\n      <td>3.430484e+00</td>\n      <td>86.189107</td>\n      <td>3.026591</td>\n      <td>17.951495</td>\n      <td>2.868205</td>\n      <td>34.535007</td>\n      <td>4.536544</td>\n      <td>39.044215</td>\n    </tr>\n    <tr>\n      <th>min</th>\n      <td>2.566156</td>\n      <td>0.003839</td>\n      <td>5.650000</td>\n      <td>0.004984</td>\n      <td>5.445860e-32</td>\n      <td>-795.316337</td>\n      <td>6.647490e-32</td>\n      <td>-799.997015</td>\n      <td>4.033736e-32</td>\n      <td>-799.960571</td>\n      <td>...</td>\n      <td>1.079872e-16</td>\n      <td>-799.798523</td>\n      <td>2.489718e-17</td>\n      <td>-800.836914</td>\n      <td>0.069227</td>\n      <td>-797.323986</td>\n      <td>0.528083</td>\n      <td>-800.220337</td>\n      <td>-0.079426</td>\n      <td>-809.741464</td>\n    </tr>\n    <tr>\n      <th>25%</th>\n      <td>147.121401</td>\n      <td>6.489555</td>\n      <td>6.890000</td>\n      <td>0.907623</td>\n      <td>1.498936e+03</td>\n      <td>-500.357298</td>\n      <td>1.498971e+03</td>\n      <td>-500.703002</td>\n      <td>1.473230e+03</td>\n      <td>-501.018117</td>\n      <td>...</td>\n      <td>1.403618e+01</td>\n      <td>-500.868258</td>\n      <td>1.202862e+01</td>\n      <td>-500.323028</td>\n      <td>10.914838</td>\n      <td>-500.726841</td>\n      <td>8.036719</td>\n      <td>-500.194668</td>\n      <td>13.997317</td>\n      <td>-500.690984</td>\n    </tr>\n    <tr>\n      <th>50%</th>\n      <td>177.828489</td>\n      <td>8.052207</td>\n      <td>7.250000</td>\n      <td>1.197610</td>\n      <td>1.585129e+03</td>\n      <td>-499.969164</td>\n      <td>1.595622e+03</td>\n      <td>-500.028514</td>\n      <td>1.549595e+03</td>\n      <td>-500.017711</td>\n      <td>...</td>\n      <td>1.700847e+01</td>\n      <td>-500.115727</td>\n      <td>1.496486e+01</td>\n      <td>-499.576513</td>\n      <td>12.954182</td>\n      <td>-499.990332</td>\n      <td>10.004301</td>\n      <td>-499.990535</td>\n      <td>16.014935</td>\n      <td>-500.007126</td>\n    </tr>\n    <tr>\n      <th>75%</th>\n      <td>208.125438</td>\n      <td>10.027764</td>\n      <td>7.600000</td>\n      <td>1.797819</td>\n      <td>1.602077e+03</td>\n      <td>-499.568951</td>\n      <td>1.602324e+03</td>\n      <td>-499.293257</td>\n      <td>1.601144e+03</td>\n      <td>-498.994130</td>\n      <td>...</td>\n      <td>1.803862e+01</td>\n      <td>-499.404224</td>\n      <td>1.596213e+01</td>\n      <td>-400.933805</td>\n      <td>15.097528</td>\n      <td>-499.283191</td>\n      <td>11.997467</td>\n      <td>-499.719913</td>\n      <td>21.020013</td>\n      <td>-499.373018</td>\n    </tr>\n    <tr>\n      <th>max</th>\n      <td>265.983123</td>\n      <td>40.000000</td>\n      <td>15.500000</td>\n      <td>4.102454</td>\n      <td>2.103104e+03</td>\n      <td>-57.195404</td>\n      <td>1.813084e+03</td>\n      <td>-142.527229</td>\n      <td>1.715054e+03</td>\n      <td>-150.937035</td>\n      <td>...</td>\n      <td>3.005180e+01</td>\n      <td>-401.565212</td>\n      <td>3.126971e+01</td>\n      <td>-6.506986</td>\n      <td>25.258848</td>\n      <td>-244.483566</td>\n      <td>14.086866</td>\n      <td>-137.740004</td>\n      <td>26.705889</td>\n      <td>-123.307487</td>\n    </tr>\n  </tbody>\n</table>\n<p>8 rows × 52 columns</p>\n</div>",
            "text/plain": "       primary_cleaner.input.sulfate  primary_cleaner.input.depressant  \\\ncount                    5286.000000                       5285.000000   \nmean                      174.839652                          8.683596   \nstd                        43.027080                          3.072050   \nmin                         2.566156                          0.003839   \n25%                       147.121401                          6.489555   \n50%                       177.828489                          8.052207   \n75%                       208.125438                         10.027764   \nmax                       265.983123                         40.000000   \n\n       primary_cleaner.input.feed_size  primary_cleaner.input.xanthate  \\\ncount                      5290.000000                     5286.000000   \nmean                          7.266339                        1.383803   \nstd                           0.610219                        0.643474   \nmin                           5.650000                        0.004984   \n25%                           6.890000                        0.907623   \n50%                           7.250000                        1.197610   \n75%                           7.600000                        1.797819   \nmax                          15.500000                        4.102454   \n\n       primary_cleaner.state.floatbank8_a_air  \\\ncount                            5.290000e+03   \nmean                             1.539494e+03   \nstd                              1.167979e+02   \nmin                              5.445860e-32   \n25%                              1.498936e+03   \n50%                              1.585129e+03   \n75%                              1.602077e+03   \nmax                              2.103104e+03   \n\n       primary_cleaner.state.floatbank8_a_level  \\\ncount                               5290.000000   \nmean                                -497.665883   \nstd                                   19.952431   \nmin                                 -795.316337   \n25%                                 -500.357298   \n50%                                 -499.969164   \n75%                                 -499.568951   \nmax                                  -57.195404   \n\n       primary_cleaner.state.floatbank8_b_air  \\\ncount                            5.290000e+03   \nmean                             1.545174e+03   \nstd                              1.222246e+02   \nmin                              6.647490e-32   \n25%                              1.498971e+03   \n50%                              1.595622e+03   \n75%                              1.602324e+03   \nmax                              1.813084e+03   \n\n       primary_cleaner.state.floatbank8_b_level  \\\ncount                               5290.000000   \nmean                                -500.273098   \nstd                                   32.968307   \nmin                                 -799.997015   \n25%                                 -500.703002   \n50%                                 -500.028514   \n75%                                 -499.293257   \nmax                                 -142.527229   \n\n       primary_cleaner.state.floatbank8_c_air  \\\ncount                            5.290000e+03   \nmean                             1.527272e+03   \nstd                              1.225380e+02   \nmin                              4.033736e-32   \n25%                              1.473230e+03   \n50%                              1.549595e+03   \n75%                              1.601144e+03   \nmax                              1.715054e+03   \n\n       primary_cleaner.state.floatbank8_c_level  ...  \\\ncount                               5290.000000  ...   \nmean                                -498.330680  ...   \nstd                                   21.964876  ...   \nmin                                 -799.960571  ...   \n25%                                 -501.018117  ...   \n50%                                 -500.017711  ...   \n75%                                 -498.994130  ...   \nmax                                 -150.937035  ...   \n\n       secondary_cleaner.state.floatbank4_a_air  \\\ncount                              5.290000e+03   \nmean                               1.632007e+01   \nstd                                3.493583e+00   \nmin                                1.079872e-16   \n25%                                1.403618e+01   \n50%                                1.700847e+01   \n75%                                1.803862e+01   \nmax                                3.005180e+01   \n\n       secondary_cleaner.state.floatbank4_a_level  \\\ncount                                 5290.000000   \nmean                                  -505.144570   \nstd                                     31.427337   \nmin                                   -799.798523   \n25%                                   -500.868258   \n50%                                   -500.115727   \n75%                                   -499.404224   \nmax                                   -401.565212   \n\n       secondary_cleaner.state.floatbank4_b_air  \\\ncount                              5.290000e+03   \nmean                               1.373544e+01   \nstd                                3.430484e+00   \nmin                                2.489718e-17   \n25%                                1.202862e+01   \n50%                                1.496486e+01   \n75%                                1.596213e+01   \nmax                                3.126971e+01   \n\n       secondary_cleaner.state.floatbank4_b_level  \\\ncount                                 5290.000000   \nmean                                  -463.349858   \nstd                                     86.189107   \nmin                                   -800.836914   \n25%                                   -500.323028   \n50%                                   -499.576513   \n75%                                   -400.933805   \nmax                                     -6.506986   \n\n       secondary_cleaner.state.floatbank5_a_air  \\\ncount                               5290.000000   \nmean                                  12.804186   \nstd                                    3.026591   \nmin                                    0.069227   \n25%                                   10.914838   \n50%                                   12.954182   \n75%                                   15.097528   \nmax                                   25.258848   \n\n       secondary_cleaner.state.floatbank5_a_level  \\\ncount                                 5290.000000   \nmean                                  -501.329122   \nstd                                     17.951495   \nmin                                   -797.323986   \n25%                                   -500.726841   \n50%                                   -499.990332   \n75%                                   -499.283191   \nmax                                   -244.483566   \n\n       secondary_cleaner.state.floatbank5_b_air  \\\ncount                               5290.000000   \nmean                                   9.881145   \nstd                                    2.868205   \nmin                                    0.528083   \n25%                                    8.036719   \n50%                                   10.004301   \n75%                                   11.997467   \nmax                                   14.086866   \n\n       secondary_cleaner.state.floatbank5_b_level  \\\ncount                                 5290.000000   \nmean                                  -495.663398   \nstd                                     34.535007   \nmin                                   -800.220337   \n25%                                   -500.194668   \n50%                                   -499.990535   \n75%                                   -499.719913   \nmax                                   -137.740004   \n\n       secondary_cleaner.state.floatbank6_a_air  \\\ncount                               5290.000000   \nmean                                  17.304935   \nstd                                    4.536544   \nmin                                   -0.079426   \n25%                                   13.997317   \n50%                                   16.014935   \n75%                                   21.020013   \nmax                                   26.705889   \n\n       secondary_cleaner.state.floatbank6_a_level  \ncount                                 5290.000000  \nmean                                  -501.793193  \nstd                                     39.044215  \nmin                                   -809.741464  \n25%                                   -500.690984  \n50%                                   -500.007126  \n75%                                   -499.373018  \nmax                                   -123.307487  \n\n[8 rows x 52 columns]"
          },
          "execution_count": 10,
          "metadata": {},
          "output_type": "execute_result"
        }
      ],
      "source": [
        "data_test.describe()"
      ]
    },
    {
      "cell_type": "markdown",
      "metadata": {
        "id": "LFfKqUUHIPZi"
      },
      "source": [
        "Было изучено три датасета: исходные данные, обучающая выборка и тестовая выборка. Таблица с исходными данными содержит 87 колонок и 19439 строк."
      ]
    },
    {
      "cell_type": "markdown",
      "metadata": {
        "id": "RXvK0YMFIPZj"
      },
      "source": [
        "### Проверка расчётов эффективности обогащения"
      ]
    },
    {
      "cell_type": "markdown",
      "metadata": {
        "id": "FMCdJheiIPZj"
      },
      "source": [
        "Проверим, правильно ли рассчитана эффективность обогащения. Вычислим её на обучающей выборке для признака rougher.output.recovery. Найдем MAE между нашими расчётами и значением признака."
      ]
    },
    {
      "cell_type": "code",
      "execution_count": null,
      "metadata": {
        "trusted": true,
        "id": "kfT_HewgIPZj",
        "outputId": "2baebd26-0a17-47df-ecdb-4e9c21af45ed"
      },
      "outputs": [
        {
          "data": {
            "text/plain": "0        87.107763\n1        86.843261\n2        86.842308\n3        87.226430\n4        86.688794\n           ...    \n14144    89.574376\n14145    87.724007\n14146    88.890579\n14147    89.858126\n14148    89.514960\nLength: 14149, dtype: float64"
          },
          "execution_count": 11,
          "metadata": {},
          "output_type": "execute_result"
        }
      ],
      "source": [
        "C = data_train['rougher.output.concentrate_au'] # доля золота в концентрате после флотации/очистки\n",
        "F = data_train['rougher.input.feed_au'] # доля золота в сырье/концентрате до флотации/очистки\n",
        "T = data_train['rougher.output.tail_au'] # доля золота в отвальных хвостах после флотации/очистки\n",
        "\n",
        "recovery = ((C*(F-T))/(F*(C-T)))*100\n",
        "recovery"
      ]
    },
    {
      "cell_type": "code",
      "execution_count": null,
      "metadata": {
        "scrolled": true,
        "trusted": true,
        "id": "zm2VjKAxIPZl",
        "outputId": "378c56fe-4532-4e24-aebe-58845ce27ac1"
      },
      "outputs": [
        {
          "name": "stdout",
          "output_type": "stream",
          "text": "Средняя абсолютная ошибка: 0.00000000000000974\n"
        }
      ],
      "source": [
        "mae = mean_absolute_error(recovery, data_train['rougher.output.recovery'])\n",
        "print('Средняя абсолютная ошибка: {:.17f}'.format(mae))"
      ]
    },
    {
      "cell_type": "markdown",
      "metadata": {
        "id": "MSxP5ZS8IPZm"
      },
      "source": [
        "Средняя абсолютная ошибка стремится к нулю. Из этого можно сделать вывод, что значение rougher.output.recovery в данных рассчитано корректно."
      ]
    },
    {
      "cell_type": "markdown",
      "metadata": {
        "id": "Qn7ynJ7hIPZm"
      },
      "source": [
        "### Анализ признаков, недоступных в тестовой выборке"
      ]
    },
    {
      "cell_type": "markdown",
      "metadata": {
        "id": "6KFw1GZmIPZm"
      },
      "source": [
        " Проанализируем признаки, недоступные в тестовой выборке."
      ]
    },
    {
      "cell_type": "code",
      "execution_count": null,
      "metadata": {
        "trusted": true,
        "id": "jGEhQjelIPZn",
        "outputId": "4ff05cda-8358-4fed-f79a-76bb1f54425f"
      },
      "outputs": [
        {
          "data": {
            "text/plain": "((14149, 87), (5290, 53))"
          },
          "execution_count": 13,
          "metadata": {},
          "output_type": "execute_result"
        }
      ],
      "source": [
        "data_train.shape, data_test.shape"
      ]
    },
    {
      "cell_type": "markdown",
      "metadata": {
        "id": "HvA9geFHIPZn"
      },
      "source": [
        "Количество колонок в обучающей выборке 87, количество колонок в тестовой выборке 53. Проверим, какие данные отстутствуют в тестовой выборке."
      ]
    },
    {
      "cell_type": "code",
      "execution_count": null,
      "metadata": {
        "trusted": true,
        "id": "qh8ZWkz4IPZo",
        "outputId": "f14797f2-692f-49de-9da4-022f4a229527"
      },
      "outputs": [
        {
          "data": {
            "text/plain": "{'final.output.concentrate_ag',\n 'final.output.concentrate_au',\n 'final.output.concentrate_pb',\n 'final.output.concentrate_sol',\n 'final.output.recovery',\n 'final.output.tail_ag',\n 'final.output.tail_au',\n 'final.output.tail_pb',\n 'final.output.tail_sol',\n 'primary_cleaner.output.concentrate_ag',\n 'primary_cleaner.output.concentrate_au',\n 'primary_cleaner.output.concentrate_pb',\n 'primary_cleaner.output.concentrate_sol',\n 'primary_cleaner.output.tail_ag',\n 'primary_cleaner.output.tail_au',\n 'primary_cleaner.output.tail_pb',\n 'primary_cleaner.output.tail_sol',\n 'rougher.calculation.au_pb_ratio',\n 'rougher.calculation.floatbank10_sulfate_to_au_feed',\n 'rougher.calculation.floatbank11_sulfate_to_au_feed',\n 'rougher.calculation.sulfate_to_au_concentrate',\n 'rougher.output.concentrate_ag',\n 'rougher.output.concentrate_au',\n 'rougher.output.concentrate_pb',\n 'rougher.output.concentrate_sol',\n 'rougher.output.recovery',\n 'rougher.output.tail_ag',\n 'rougher.output.tail_au',\n 'rougher.output.tail_pb',\n 'rougher.output.tail_sol',\n 'secondary_cleaner.output.tail_ag',\n 'secondary_cleaner.output.tail_au',\n 'secondary_cleaner.output.tail_pb',\n 'secondary_cleaner.output.tail_sol'}"
          },
          "execution_count": 14,
          "metadata": {},
          "output_type": "execute_result"
        }
      ],
      "source": [
        "set(data_train.columns) - set(data_test.columns)"
      ]
    },
    {
      "cell_type": "markdown",
      "metadata": {
        "id": "RHcXZyfHIPZp"
      },
      "source": [
        "В тестовой выборке отсутствуют целевые признаки:    \n",
        "- rougher.output.recovery - эффективность обогащения чернового концентрата;   \n",
        "- final.output.recovery - эффективность обогащения финального концентрата.  \n",
        "\n",
        "Некоторые параметры недоступны, потому что замеряются и/или рассчитываются значительно позже. Из-за этого в тестовой выборке отсутствуют данные из блоков:   \n",
        "- output - параметры продукта;\n",
        "- calculation - расчётные характеристики.    \n",
        "\n",
        "При формировании признакового пространства для модели учтем данный факт."
      ]
    },
    {
      "cell_type": "markdown",
      "metadata": {
        "id": "xuUt-3xpIPZp"
      },
      "source": [
        "### Предобработка данных"
      ]
    },
    {
      "cell_type": "markdown",
      "metadata": {
        "id": "-YpYICBaIPZq"
      },
      "source": [
        "Проверим наличие пропусков в датасетах data_train и data_test."
      ]
    },
    {
      "cell_type": "code",
      "execution_count": null,
      "metadata": {
        "trusted": true,
        "id": "YJ4q0hVBIPZq",
        "outputId": "7a69eff8-261d-4912-e85f-f691bac1926e"
      },
      "outputs": [
        {
          "data": {
            "text/plain": "date                                            0\nfinal.output.concentrate_ag                     1\nfinal.output.concentrate_pb                     1\nfinal.output.concentrate_sol                  211\nfinal.output.concentrate_au                     0\n                                             ... \nsecondary_cleaner.state.floatbank5_a_level      1\nsecondary_cleaner.state.floatbank5_b_air        1\nsecondary_cleaner.state.floatbank5_b_level      1\nsecondary_cleaner.state.floatbank6_a_air        2\nsecondary_cleaner.state.floatbank6_a_level      1\nLength: 87, dtype: int64"
          },
          "execution_count": 15,
          "metadata": {},
          "output_type": "execute_result"
        }
      ],
      "source": [
        "data_train.isna().sum()"
      ]
    },
    {
      "cell_type": "code",
      "execution_count": null,
      "metadata": {
        "trusted": true,
        "id": "I6I8HGPVIPZr",
        "outputId": "b9b13b7f-d165-4aea-b96e-d09a4cc753f6"
      },
      "outputs": [
        {
          "data": {
            "text/plain": "date                                           0\nprimary_cleaner.input.sulfate                  4\nprimary_cleaner.input.depressant               5\nprimary_cleaner.input.feed_size                0\nprimary_cleaner.input.xanthate                 4\nprimary_cleaner.state.floatbank8_a_air         0\nprimary_cleaner.state.floatbank8_a_level       0\nprimary_cleaner.state.floatbank8_b_air         0\nprimary_cleaner.state.floatbank8_b_level       0\nprimary_cleaner.state.floatbank8_c_air         0\nprimary_cleaner.state.floatbank8_c_level       0\nprimary_cleaner.state.floatbank8_d_air         0\nprimary_cleaner.state.floatbank8_d_level       0\nrougher.input.feed_ag                          0\nrougher.input.feed_pb                          0\nrougher.input.feed_rate                        3\nrougher.input.feed_size                        1\nrougher.input.feed_sol                        21\nrougher.input.feed_au                          0\nrougher.input.floatbank10_sulfate              5\nrougher.input.floatbank10_xanthate             0\nrougher.input.floatbank11_sulfate              8\nrougher.input.floatbank11_xanthate            25\nrougher.state.floatbank10_a_air                0\nrougher.state.floatbank10_a_level              0\nrougher.state.floatbank10_b_air                0\nrougher.state.floatbank10_b_level              0\nrougher.state.floatbank10_c_air                0\nrougher.state.floatbank10_c_level              0\nrougher.state.floatbank10_d_air                0\nrougher.state.floatbank10_d_level              0\nrougher.state.floatbank10_e_air                0\nrougher.state.floatbank10_e_level              0\nrougher.state.floatbank10_f_air                0\nrougher.state.floatbank10_f_level              0\nsecondary_cleaner.state.floatbank2_a_air       3\nsecondary_cleaner.state.floatbank2_a_level     0\nsecondary_cleaner.state.floatbank2_b_air       2\nsecondary_cleaner.state.floatbank2_b_level     0\nsecondary_cleaner.state.floatbank3_a_air       9\nsecondary_cleaner.state.floatbank3_a_level     0\nsecondary_cleaner.state.floatbank3_b_air       0\nsecondary_cleaner.state.floatbank3_b_level     0\nsecondary_cleaner.state.floatbank4_a_air       0\nsecondary_cleaner.state.floatbank4_a_level     0\nsecondary_cleaner.state.floatbank4_b_air       0\nsecondary_cleaner.state.floatbank4_b_level     0\nsecondary_cleaner.state.floatbank5_a_air       0\nsecondary_cleaner.state.floatbank5_a_level     0\nsecondary_cleaner.state.floatbank5_b_air       0\nsecondary_cleaner.state.floatbank5_b_level     0\nsecondary_cleaner.state.floatbank6_a_air       0\nsecondary_cleaner.state.floatbank6_a_level     0\ndtype: int64"
          },
          "execution_count": 16,
          "metadata": {},
          "output_type": "execute_result"
        }
      ],
      "source": [
        "data_test.isna().sum()"
      ]
    },
    {
      "cell_type": "markdown",
      "metadata": {
        "id": "5vrTth4tIPZr"
      },
      "source": [
        "Оба датасета имеют пропуски в данных. Для заполнения пропусков используем интерполяцию, которая реализована в методе interpolate()."
      ]
    },
    {
      "cell_type": "code",
      "execution_count": null,
      "metadata": {
        "trusted": true,
        "id": "-7a5WLytIPZ8",
        "outputId": "e9018cbc-0046-4468-e117-ceb9fff7971e"
      },
      "outputs": [
        {
          "data": {
            "text/plain": "date                                          0\nfinal.output.concentrate_ag                   0\nfinal.output.concentrate_pb                   0\nfinal.output.concentrate_sol                  0\nfinal.output.concentrate_au                   0\n                                             ..\nsecondary_cleaner.state.floatbank5_a_level    0\nsecondary_cleaner.state.floatbank5_b_air      0\nsecondary_cleaner.state.floatbank5_b_level    0\nsecondary_cleaner.state.floatbank6_a_air      0\nsecondary_cleaner.state.floatbank6_a_level    0\nLength: 87, dtype: int64"
          },
          "execution_count": 17,
          "metadata": {},
          "output_type": "execute_result"
        }
      ],
      "source": [
        "data_train = data_train.interpolate()\n",
        "data_train.isna().sum()"
      ]
    },
    {
      "cell_type": "code",
      "execution_count": null,
      "metadata": {
        "trusted": true,
        "id": "PYi3pjNHIPZ8",
        "outputId": "97a3ff8d-a3e3-4888-a2eb-897f3ff8ac85"
      },
      "outputs": [
        {
          "data": {
            "text/plain": "date                                          0\nprimary_cleaner.input.sulfate                 0\nprimary_cleaner.input.depressant              0\nprimary_cleaner.input.feed_size               0\nprimary_cleaner.input.xanthate                0\nprimary_cleaner.state.floatbank8_a_air        0\nprimary_cleaner.state.floatbank8_a_level      0\nprimary_cleaner.state.floatbank8_b_air        0\nprimary_cleaner.state.floatbank8_b_level      0\nprimary_cleaner.state.floatbank8_c_air        0\nprimary_cleaner.state.floatbank8_c_level      0\nprimary_cleaner.state.floatbank8_d_air        0\nprimary_cleaner.state.floatbank8_d_level      0\nrougher.input.feed_ag                         0\nrougher.input.feed_pb                         0\nrougher.input.feed_rate                       0\nrougher.input.feed_size                       0\nrougher.input.feed_sol                        0\nrougher.input.feed_au                         0\nrougher.input.floatbank10_sulfate             0\nrougher.input.floatbank10_xanthate            0\nrougher.input.floatbank11_sulfate             0\nrougher.input.floatbank11_xanthate            0\nrougher.state.floatbank10_a_air               0\nrougher.state.floatbank10_a_level             0\nrougher.state.floatbank10_b_air               0\nrougher.state.floatbank10_b_level             0\nrougher.state.floatbank10_c_air               0\nrougher.state.floatbank10_c_level             0\nrougher.state.floatbank10_d_air               0\nrougher.state.floatbank10_d_level             0\nrougher.state.floatbank10_e_air               0\nrougher.state.floatbank10_e_level             0\nrougher.state.floatbank10_f_air               0\nrougher.state.floatbank10_f_level             0\nsecondary_cleaner.state.floatbank2_a_air      0\nsecondary_cleaner.state.floatbank2_a_level    0\nsecondary_cleaner.state.floatbank2_b_air      0\nsecondary_cleaner.state.floatbank2_b_level    0\nsecondary_cleaner.state.floatbank3_a_air      0\nsecondary_cleaner.state.floatbank3_a_level    0\nsecondary_cleaner.state.floatbank3_b_air      0\nsecondary_cleaner.state.floatbank3_b_level    0\nsecondary_cleaner.state.floatbank4_a_air      0\nsecondary_cleaner.state.floatbank4_a_level    0\nsecondary_cleaner.state.floatbank4_b_air      0\nsecondary_cleaner.state.floatbank4_b_level    0\nsecondary_cleaner.state.floatbank5_a_air      0\nsecondary_cleaner.state.floatbank5_a_level    0\nsecondary_cleaner.state.floatbank5_b_air      0\nsecondary_cleaner.state.floatbank5_b_level    0\nsecondary_cleaner.state.floatbank6_a_air      0\nsecondary_cleaner.state.floatbank6_a_level    0\ndtype: int64"
          },
          "execution_count": 18,
          "metadata": {},
          "output_type": "execute_result"
        }
      ],
      "source": [
        "data_test = data_test.interpolate()\n",
        "data_test.isna().sum()"
      ]
    },
    {
      "cell_type": "markdown",
      "metadata": {
        "id": "FI26_1RaIPZ-"
      },
      "source": [
        "Проверим дубликаты в датасетах data_train и data_test."
      ]
    },
    {
      "cell_type": "code",
      "execution_count": null,
      "metadata": {
        "trusted": true,
        "id": "1hSPizJPIPZ-",
        "outputId": "dcfb067c-8241-42d6-8a6d-d6d8a07f6f19"
      },
      "outputs": [
        {
          "data": {
            "text/plain": "0"
          },
          "execution_count": 19,
          "metadata": {},
          "output_type": "execute_result"
        }
      ],
      "source": [
        "data_train.duplicated().sum()"
      ]
    },
    {
      "cell_type": "code",
      "execution_count": null,
      "metadata": {
        "trusted": true,
        "id": "RGc3pkGVIPZ_",
        "outputId": "ed27dc92-28b2-44b0-ff6b-86edaa5e6d35"
      },
      "outputs": [
        {
          "data": {
            "text/plain": "0"
          },
          "execution_count": 20,
          "metadata": {},
          "output_type": "execute_result"
        }
      ],
      "source": [
        "data_test.duplicated().sum()"
      ]
    },
    {
      "cell_type": "markdown",
      "metadata": {
        "id": "CKK-bIrEIPZ_"
      },
      "source": [
        "Дубликатов не выявлено."
      ]
    },
    {
      "cell_type": "markdown",
      "metadata": {
        "id": "emHc8GeaIPZ_"
      },
      "source": [
        "## Анализ данных"
      ]
    },
    {
      "cell_type": "markdown",
      "metadata": {
        "id": "U7NdZb4gIPaA"
      },
      "source": [
        "### Изучение концентрации металлов (Au, Ag, Pb) на различных этапах очистки"
      ]
    },
    {
      "cell_type": "markdown",
      "metadata": {
        "id": "KYrD0qY7IPaA"
      },
      "source": [
        "Посмотрим, как меняется концентрация металлов (Au, Ag, Pb) на различных этапах очистки."
      ]
    },
    {
      "cell_type": "code",
      "execution_count": null,
      "metadata": {
        "trusted": true,
        "id": "NzhyT_beIPaB"
      },
      "outputs": [],
      "source": [
        "# cоздадим датафреймы, которые будем использовать для исследования изменений концентрации металлов\n",
        "au_concentr = data_train[['rougher.input.feed_au', 'rougher.output.concentrate_au','primary_cleaner.output.concentrate_au', 'final.output.concentrate_au']]\n",
        "ag_concentr = data_train[['rougher.input.feed_ag', 'rougher.output.concentrate_ag','primary_cleaner.output.concentrate_ag', 'final.output.concentrate_ag']]\n",
        "pb_concentr = data_train[['rougher.input.feed_pb', 'rougher.output.concentrate_pb','primary_cleaner.output.concentrate_pb', 'final.output.concentrate_pb']]"
      ]
    },
    {
      "cell_type": "code",
      "execution_count": null,
      "metadata": {
        "trusted": true,
        "id": "_pFchpGDIPaB"
      },
      "outputs": [],
      "source": [
        "# напишем функцию для построения графика изменений концентрации металлов\n",
        "def concentr(df, name):\n",
        "    fig = sns.catplot(data=df, height = 7)\n",
        "    fig.set_axis_labels(name)\n",
        "    fig.set_xticklabels(['Первоначальная концентрация', 'Флотация', 'Первичная очистка', 'Вторичная очистка'])"
      ]
    },
    {
      "cell_type": "markdown",
      "metadata": {
        "id": "WybT9WHtIPaB"
      },
      "source": [
        "Посмотрим на концентрацию золота на различных этапах очистки."
      ]
    },
    {
      "cell_type": "code",
      "execution_count": null,
      "metadata": {
        "trusted": true,
        "id": "_cz1UkzlIPaC",
        "outputId": "60a0ed88-b4ea-40be-da61-1786e24f713f"
      },
      "outputs": [
        {
          "data": {
            "image/png": "[encoded data removed]",
            "text/plain": "<Figure size 504x504 with 1 Axes>"
          },
          "metadata": {
            "needs_background": "light"
          },
          "output_type": "display_data"
        }
      ],
      "source": [
        "concentr(au_concentr, 'Концентрация золота')"
      ]
    },
    {
      "cell_type": "markdown",
      "metadata": {
        "id": "m5CgrgjUIPaC"
      },
      "source": [
        "Концентрация содержания золота повышается по мере очистки и достигает максимальных значений в конце технологического процесса, что полностью соответствует назначению процесса."
      ]
    },
    {
      "cell_type": "markdown",
      "metadata": {
        "id": "vMbREvKbIPaD"
      },
      "source": [
        "Посмотрим на концентрацию серебра на различных этапах очистки."
      ]
    },
    {
      "cell_type": "code",
      "execution_count": null,
      "metadata": {
        "trusted": true,
        "id": "pB485JX_IPaD",
        "outputId": "56cdcacd-f30d-4a16-bcea-3dfdbd9ce81f"
      },
      "outputs": [
        {
          "data": {
            "image/png": "[encoded data removed]",
            "text/plain": "<Figure size 504x504 with 1 Axes>"
          },
          "metadata": {
            "needs_background": "light"
          },
          "output_type": "display_data"
        }
      ],
      "source": [
        "concentr(ag_concentr, 'Концентрация серебра')"
      ]
    },
    {
      "cell_type": "markdown",
      "metadata": {
        "id": "OiSohXqNIPaE"
      },
      "source": [
        "Максимальная концентрация серебра наблюдается на этапе флотации, после чего начинает постепенно снижаться."
      ]
    },
    {
      "cell_type": "markdown",
      "metadata": {
        "id": "zNDl2F4eIPaE"
      },
      "source": [
        "Посмотрим на концентрацию свинца на различных этапах очистки."
      ]
    },
    {
      "cell_type": "code",
      "execution_count": null,
      "metadata": {
        "trusted": true,
        "id": "l-L7XWDfIPaF",
        "outputId": "3628a3dd-ef26-4320-89bf-3108fa9e671a"
      },
      "outputs": [
        {
          "data": {
            "image/png": "[encoded data removed]",
            "text/plain": "<Figure size 504x504 with 1 Axes>"
          },
          "metadata": {
            "needs_background": "light"
          },
          "output_type": "display_data"
        }
      ],
      "source": [
        "concentr(pb_concentr, 'Концентрация свинца')"
      ]
    },
    {
      "cell_type": "markdown",
      "metadata": {
        "id": "-84ZgZAVIPaJ"
      },
      "source": [
        "Концентрация свинца постепенно увеличивается, после завершения первичной очистки начинает снижаться."
      ]
    },
    {
      "cell_type": "markdown",
      "metadata": {
        "id": "cvkWFkOPIPaK"
      },
      "source": [
        "### Изучение распределения размеров гранул сырья"
      ]
    },
    {
      "cell_type": "markdown",
      "metadata": {
        "id": "hARlQroPIPaK"
      },
      "source": [
        "Сравним распределения размеров гранул сырья на обучающей и тестовой выборках. Если распределения сильно отличаются друг от друга, оценка модели будет неправильной."
      ]
    },
    {
      "cell_type": "code",
      "execution_count": null,
      "metadata": {
        "trusted": true,
        "id": "6OGvJyzzIPaK",
        "outputId": "9d3bbba1-ad61-40cb-d01d-92f4882ea525"
      },
      "outputs": [
        {
          "data": {
            "text/plain": "<matplotlib.legend.Legend at 0x7feea2da2e50>"
          },
          "execution_count": 26,
          "metadata": {},
          "output_type": "execute_result"
        },
        {
          "data": {
            "image/png": "[encoded data removed]",
            "text/plain": "<Figure size 720x504 with 1 Axes>"
          },
          "metadata": {
            "needs_background": "light"
          },
          "output_type": "display_data"
        }
      ],
      "source": [
        "plt.figure(figsize=(10,7))\n",
        "sns.kdeplot(data=data_train['rougher.input.feed_size'], label='train', shade=True)\n",
        "sns.kdeplot(data=data_test['rougher.input.feed_size'], label='test', shade=True)\n",
        "plt.title('Распределения размеров гранул сырья на обучающей и тестовой выборках')\n",
        "plt.legend()"
      ]
    },
    {
      "cell_type": "markdown",
      "metadata": {
        "id": "K1MnynrZIPaL"
      },
      "source": [
        "График демонстрирует, что распределения размеров гранул сырья отличаются не значительно и соответственно в дальнейшем не повлияют на оценку модели."
      ]
    },
    {
      "cell_type": "markdown",
      "metadata": {
        "id": "zXKZ18KQIPaM"
      },
      "source": [
        "### Изучение суммарной концентрации всех веществ"
      ]
    },
    {
      "cell_type": "markdown",
      "metadata": {
        "id": "BDfyrxxcIPaM"
      },
      "source": [
        "Исследуем суммарную концентрацию всех веществ на разных стадиях: в сырье, в черновом и финальном концентратах.    \n",
        "\n",
        "Посмотрим на концентрацию веществ на стадии сырья."
      ]
    },
    {
      "cell_type": "code",
      "execution_count": null,
      "metadata": {
        "trusted": true,
        "id": "kMGdxT9CIPaM",
        "outputId": "d697c53d-b41a-4cd6-b422-b18690a306b4"
      },
      "outputs": [
        {
          "data": {
            "text/plain": "<AxesSubplot:ylabel='Count'>"
          },
          "execution_count": 27,
          "metadata": {},
          "output_type": "execute_result"
        },
        {
          "data": {
            "image/png": "[encoded data removed]",
            "text/plain": "<Figure size 720x432 with 1 Axes>"
          },
          "metadata": {
            "needs_background": "light"
          },
          "output_type": "display_data"
        }
      ],
      "source": [
        "# концентрация веществ на стадии сырья\n",
        "total_concentr_rougher_input = data_train['rougher.input.feed_ag'] + data_train['rougher.input.feed_pb'] +\\\n",
        "data_train['rougher.input.feed_sol'] + data_train['rougher.input.feed_au']\n",
        "\n",
        "fig_dims = (10, 6)\n",
        "fig1, ax1 = plt.subplots(figsize=fig_dims)\n",
        "sns.histplot(data=total_concentr_rougher_input)"
      ]
    },
    {
      "cell_type": "markdown",
      "metadata": {
        "id": "iIaQB_k6IPaN"
      },
      "source": [
        "Посмотрим на концентрацию веществ на стадии чернового концентрата."
      ]
    },
    {
      "cell_type": "code",
      "execution_count": null,
      "metadata": {
        "trusted": true,
        "id": "bCNN7fQEIPaN",
        "outputId": "ad2f04e5-450a-4360-8988-06e14c063d56"
      },
      "outputs": [
        {
          "data": {
            "text/plain": "<AxesSubplot:ylabel='Count'>"
          },
          "execution_count": 28,
          "metadata": {},
          "output_type": "execute_result"
        },
        {
          "data": {
            "image/png": "[encoded data removed]",
            "text/plain": "<Figure size 720x432 with 1 Axes>"
          },
          "metadata": {
            "needs_background": "light"
          },
          "output_type": "display_data"
        }
      ],
      "source": [
        "# концентрация веществ на стадии чернового концентрата\n",
        "total_concentr_rougher_output = data_train['rougher.output.concentrate_ag'] + data_train['rougher.output.concentrate_pb'] +\\\n",
        "data_train['rougher.output.concentrate_sol'] + data_train['rougher.output.concentrate_au']\n",
        "\n",
        "fig_dims = (10, 6)\n",
        "fig1, ax1 = plt.subplots(figsize=fig_dims)\n",
        "sns.histplot(data=total_concentr_rougher_output)"
      ]
    },
    {
      "cell_type": "markdown",
      "metadata": {
        "id": "zA3bQRmYIPaO"
      },
      "source": [
        "Посмотрим на концентрацию веществ после первичной очистки."
      ]
    },
    {
      "cell_type": "code",
      "execution_count": null,
      "metadata": {
        "trusted": true,
        "id": "XdadFsrnIPaO",
        "outputId": "1201767c-aa4d-4f0d-b264-eb9bd18a8c74"
      },
      "outputs": [
        {
          "data": {
            "text/plain": "<AxesSubplot:ylabel='Count'>"
          },
          "execution_count": 29,
          "metadata": {},
          "output_type": "execute_result"
        },
        {
          "data": {
            "image/png": "[encoded data removed]",
            "text/plain": "<Figure size 720x432 with 1 Axes>"
          },
          "metadata": {
            "needs_background": "light"
          },
          "output_type": "display_data"
        }
      ],
      "source": [
        "# концентрация веществ после первичной очистки\n",
        "total_concentr_primary_cleaner = data_train['primary_cleaner.output.concentrate_ag'] + data_train['primary_cleaner.output.concentrate_pb'] +\\\n",
        "data_train['primary_cleaner.output.concentrate_sol'] + data_train['primary_cleaner.output.concentrate_au']\n",
        "\n",
        "fig_dims = (10, 6)\n",
        "fig1, ax1 = plt.subplots(figsize=fig_dims)\n",
        "sns.histplot(data=total_concentr_primary_cleaner)"
      ]
    },
    {
      "cell_type": "markdown",
      "metadata": {
        "id": "eTdpRVtCIPaP"
      },
      "source": [
        "Посмотрим на финальную концентрацию веществ после всех этапов очистки."
      ]
    },
    {
      "cell_type": "code",
      "execution_count": null,
      "metadata": {
        "trusted": true,
        "id": "uRL7WjoYIPaP",
        "outputId": "1cbe9e8a-9e3c-46c8-8ec8-409fcae74e85"
      },
      "outputs": [
        {
          "data": {
            "text/plain": "<AxesSubplot:ylabel='Count'>"
          },
          "execution_count": 30,
          "metadata": {},
          "output_type": "execute_result"
        },
        {
          "data": {
            "image/png": "[encoded data removed]",
            "text/plain": "<Figure size 720x432 with 1 Axes>"
          },
          "metadata": {
            "needs_background": "light"
          },
          "output_type": "display_data"
        }
      ],
      "source": [
        "# финальная концентрация веществ\n",
        "total_concentr_final_output = data_train['final.output.concentrate_ag'] + data_train['final.output.concentrate_pb'] +\\\n",
        "data_train['final.output.concentrate_sol'] + data_train['final.output.concentrate_au']\n",
        "\n",
        "fig_dims = (10, 6)\n",
        "fig1, ax1 = plt.subplots(figsize=fig_dims)\n",
        "sns.histplot(data=total_concentr_final_output)"
      ]
    },
    {
      "cell_type": "markdown",
      "metadata": {
        "id": "TSHRw3S6IPaQ"
      },
      "source": [
        "Графики продемонстрировали, что присутствует очень много значений суммарной концентрации около 0. Эти данные явно являются выбросами.    "
      ]
    },
    {
      "cell_type": "markdown",
      "metadata": {
        "id": "2erA7AlTIPaQ"
      },
      "source": [
        "Для обнаружения аномалий используем метод Isolation Forest. Удалим найденные им выбросы."
      ]
    },
    {
      "cell_type": "code",
      "execution_count": null,
      "metadata": {
        "trusted": true,
        "id": "1EGYdmzUIPaQ"
      },
      "outputs": [],
      "source": [
        "train_anomalies = data_train[['rougher.input.feed_ag', 'rougher.input.feed_pb', 'rougher.input.feed_sol', \\\n",
        "                              'rougher.input.feed_au', 'rougher.output.concentrate_ag', 'rougher.output.concentrate_pb', \\\n",
        "                              'rougher.output.concentrate_sol', 'rougher.output.concentrate_au', 'primary_cleaner.output.concentrate_ag', \\\n",
        "                              'primary_cleaner.output.concentrate_pb', 'primary_cleaner.output.concentrate_sol', \\\n",
        "                              'primary_cleaner.output.concentrate_au', 'final.output.concentrate_ag', 'final.output.concentrate_pb', \\\n",
        "                              'final.output.concentrate_sol', 'final.output.concentrate_au']]"
      ]
    },
    {
      "cell_type": "code",
      "execution_count": null,
      "metadata": {
        "trusted": true,
        "id": "fR-jHYJhIPaR"
      },
      "outputs": [],
      "source": [
        "for_train_model = train_anomalies.columns\n",
        "\n",
        "isolation_forest = IsolationForest(n_estimators=50, random_state=12345)\n",
        "isolation_forest.fit(data_train[for_train_model])\n",
        "predict = isolation_forest.predict(data_train[for_train_model])\n",
        "data_train['anomalies'] = predict\n",
        "data_train = data_train.loc[data_train['anomalies']==1]\n",
        "data_train = data_train.drop(['anomalies'], axis=1)\n",
        "data_train.reset_index(inplace=True, drop = True)"
      ]
    },
    {
      "cell_type": "markdown",
      "metadata": {
        "id": "PEqvPEGyIPaS"
      },
      "source": [
        "**Вывод**   \n",
        "Графики изменения концентрации металлов (Au, Ag, Pb) на различных этапах очистки показали:   \n",
        "- концентрация содержания золота повышается по мере очистки и достигает максимальных значений в конце технологического процесса;    \n",
        "- максимальная концентрация серебра наблюдается на этапе флотации, после чего начинает постепенно снижаться;    \n",
        "- концентрация свинца постепенно увеличивается, после завершения первичной очистки начинает снижаться.   \n",
        "\n",
        "Графики распределения размеров гранул сырья на обучающей и тестовой выборках показали, что распределения размеров гранул сырья отличаются не значительно и соответственно в дальнейшем не повлияют на оценку модели.   \n",
        "\n",
        "Графики суммарной концентрации всех веществ на разных стадиях (в сырье, в черновом и финальном концентратах) продемонстрировали, что присутствует очень много значений суммарной концентрации около 0. Обнаруженные выбросы были удалены.    "
      ]
    },
    {
      "cell_type": "markdown",
      "metadata": {
        "id": "RLfbp48wIPaT"
      },
      "source": [
        "## Модель"
      ]
    },
    {
      "cell_type": "markdown",
      "metadata": {
        "id": "NXMlUmWhIPaT"
      },
      "source": [
        "### Подготовка обучающей и тестовой выборок"
      ]
    },
    {
      "cell_type": "markdown",
      "metadata": {
        "id": "H1dqfCH_IPaT"
      },
      "source": [
        "Добавим в тестовую выборку целевые признаки rougher.output.recovery и final.output.recovery из исходных данных. Данные индексируются датой и временем получения информации (признак date), и соседние по времени параметры часто похожи. Установим столбец date в качестве индекса для обоих датасетов, так как данный признак не имеет ценности для дальнейшего обучения модели."
      ]
    },
    {
      "cell_type": "code",
      "execution_count": null,
      "metadata": {
        "trusted": true,
        "id": "1As35lOTIPaT"
      },
      "outputs": [],
      "source": [
        "# установливаем столбец date в качестве индекса\n",
        "data_full = data_full.set_index('date')\n",
        "data_test = data_test.set_index('date')"
      ]
    },
    {
      "cell_type": "code",
      "execution_count": null,
      "metadata": {
        "trusted": true,
        "id": "Be00cwUmIPaU",
        "outputId": "111fa742-e0fd-4748-98ae-66f399cb4164"
      },
      "outputs": [
        {
          "name": "stdout",
          "output_type": "stream",
          "text": "<class 'pandas.core.frame.DataFrame'>\nIndex: 5290 entries, 2016-09-01 00:59:59 to 2017-12-31 23:59:59\nData columns (total 54 columns):\n #   Column                                      Non-Null Count  Dtype  \n---  ------                                      --------------  -----  \n 0   primary_cleaner.input.sulfate               5290 non-null   float64\n 1   primary_cleaner.input.depressant            5290 non-null   float64\n 2   primary_cleaner.input.feed_size             5290 non-null   float64\n 3   primary_cleaner.input.xanthate              5290 non-null   float64\n 4   primary_cleaner.state.floatbank8_a_air      5290 non-null   float64\n 5   primary_cleaner.state.floatbank8_a_level    5290 non-null   float64\n 6   primary_cleaner.state.floatbank8_b_air      5290 non-null   float64\n 7   primary_cleaner.state.floatbank8_b_level    5290 non-null   float64\n 8   primary_cleaner.state.floatbank8_c_air      5290 non-null   float64\n 9   primary_cleaner.state.floatbank8_c_level    5290 non-null   float64\n 10  primary_cleaner.state.floatbank8_d_air      5290 non-null   float64\n 11  primary_cleaner.state.floatbank8_d_level    5290 non-null   float64\n 12  rougher.input.feed_ag                       5290 non-null   float64\n 13  rougher.input.feed_pb                       5290 non-null   float64\n 14  rougher.input.feed_rate                     5290 non-null   float64\n 15  rougher.input.feed_size                     5290 non-null   float64\n 16  rougher.input.feed_sol                      5290 non-null   float64\n 17  rougher.input.feed_au                       5290 non-null   float64\n 18  rougher.input.floatbank10_sulfate           5290 non-null   float64\n 19  rougher.input.floatbank10_xanthate          5290 non-null   float64\n 20  rougher.input.floatbank11_sulfate           5290 non-null   float64\n 21  rougher.input.floatbank11_xanthate          5290 non-null   float64\n 22  rougher.state.floatbank10_a_air             5290 non-null   float64\n 23  rougher.state.floatbank10_a_level           5290 non-null   float64\n 24  rougher.state.floatbank10_b_air             5290 non-null   float64\n 25  rougher.state.floatbank10_b_level           5290 non-null   float64\n 26  rougher.state.floatbank10_c_air             5290 non-null   float64\n 27  rougher.state.floatbank10_c_level           5290 non-null   float64\n 28  rougher.state.floatbank10_d_air             5290 non-null   float64\n 29  rougher.state.floatbank10_d_level           5290 non-null   float64\n 30  rougher.state.floatbank10_e_air             5290 non-null   float64\n 31  rougher.state.floatbank10_e_level           5290 non-null   float64\n 32  rougher.state.floatbank10_f_air             5290 non-null   float64\n 33  rougher.state.floatbank10_f_level           5290 non-null   float64\n 34  secondary_cleaner.state.floatbank2_a_air    5290 non-null   float64\n 35  secondary_cleaner.state.floatbank2_a_level  5290 non-null   float64\n 36  secondary_cleaner.state.floatbank2_b_air    5290 non-null   float64\n 37  secondary_cleaner.state.floatbank2_b_level  5290 non-null   float64\n 38  secondary_cleaner.state.floatbank3_a_air    5290 non-null   float64\n 39  secondary_cleaner.state.floatbank3_a_level  5290 non-null   float64\n 40  secondary_cleaner.state.floatbank3_b_air    5290 non-null   float64\n 41  secondary_cleaner.state.floatbank3_b_level  5290 non-null   float64\n 42  secondary_cleaner.state.floatbank4_a_air    5290 non-null   float64\n 43  secondary_cleaner.state.floatbank4_a_level  5290 non-null   float64\n 44  secondary_cleaner.state.floatbank4_b_air    5290 non-null   float64\n 45  secondary_cleaner.state.floatbank4_b_level  5290 non-null   float64\n 46  secondary_cleaner.state.floatbank5_a_air    5290 non-null   float64\n 47  secondary_cleaner.state.floatbank5_a_level  5290 non-null   float64\n 48  secondary_cleaner.state.floatbank5_b_air    5290 non-null   float64\n 49  secondary_cleaner.state.floatbank5_b_level  5290 non-null   float64\n 50  secondary_cleaner.state.floatbank6_a_air    5290 non-null   float64\n 51  secondary_cleaner.state.floatbank6_a_level  5290 non-null   float64\n 52  rougher.output.recovery                     5290 non-null   float64\n 53  final.output.recovery                       5290 non-null   float64\ndtypes: float64(54)\nmemory usage: 2.3+ MB\n"
        }
      ],
      "source": [
        "# добавляем столбцы\n",
        "columns = ['rougher.output.recovery', 'final.output.recovery']\n",
        "data_test = data_test.join(data_full[columns])\n",
        "data_test.info()"
      ]
    },
    {
      "cell_type": "markdown",
      "metadata": {
        "id": "Cjv7tTDdIPaV"
      },
      "source": [
        "Приведем обучающую выборку в соответствие с тестовой, удалив из data_train отсутствующие в data_test колонки."
      ]
    },
    {
      "cell_type": "code",
      "execution_count": null,
      "metadata": {
        "collapsed": true,
        "trusted": true,
        "id": "1FtDyOmtIPaV",
        "outputId": "ed5f66ab-ee8e-4c46-8981-950eec36ee68"
      },
      "outputs": [
        {
          "name": "stdout",
          "output_type": "stream",
          "text": "<class 'pandas.core.frame.DataFrame'>\nRangeIndex: 12612 entries, 0 to 12611\nData columns (total 54 columns):\n #   Column                                      Non-Null Count  Dtype  \n---  ------                                      --------------  -----  \n 0   final.output.recovery                       12612 non-null  float64\n 1   primary_cleaner.input.sulfate               12612 non-null  float64\n 2   primary_cleaner.input.depressant            12612 non-null  float64\n 3   primary_cleaner.input.feed_size             12612 non-null  float64\n 4   primary_cleaner.input.xanthate              12612 non-null  float64\n 5   primary_cleaner.state.floatbank8_a_air      12612 non-null  float64\n 6   primary_cleaner.state.floatbank8_a_level    12612 non-null  float64\n 7   primary_cleaner.state.floatbank8_b_air      12612 non-null  float64\n 8   primary_cleaner.state.floatbank8_b_level    12612 non-null  float64\n 9   primary_cleaner.state.floatbank8_c_air      12612 non-null  float64\n 10  primary_cleaner.state.floatbank8_c_level    12612 non-null  float64\n 11  primary_cleaner.state.floatbank8_d_air      12612 non-null  float64\n 12  primary_cleaner.state.floatbank8_d_level    12612 non-null  float64\n 13  rougher.input.feed_ag                       12612 non-null  float64\n 14  rougher.input.feed_pb                       12612 non-null  float64\n 15  rougher.input.feed_rate                     12612 non-null  float64\n 16  rougher.input.feed_size                     12612 non-null  float64\n 17  rougher.input.feed_sol                      12612 non-null  float64\n 18  rougher.input.feed_au                       12612 non-null  float64\n 19  rougher.input.floatbank10_sulfate           12612 non-null  float64\n 20  rougher.input.floatbank10_xanthate          12612 non-null  float64\n 21  rougher.input.floatbank11_sulfate           12612 non-null  float64\n 22  rougher.input.floatbank11_xanthate          12612 non-null  float64\n 23  rougher.output.recovery                     12612 non-null  float64\n 24  rougher.state.floatbank10_a_air             12612 non-null  float64\n 25  rougher.state.floatbank10_a_level           12612 non-null  float64\n 26  rougher.state.floatbank10_b_air             12612 non-null  float64\n 27  rougher.state.floatbank10_b_level           12612 non-null  float64\n 28  rougher.state.floatbank10_c_air             12612 non-null  float64\n 29  rougher.state.floatbank10_c_level           12612 non-null  float64\n 30  rougher.state.floatbank10_d_air             12612 non-null  float64\n 31  rougher.state.floatbank10_d_level           12612 non-null  float64\n 32  rougher.state.floatbank10_e_air             12612 non-null  float64\n 33  rougher.state.floatbank10_e_level           12612 non-null  float64\n 34  rougher.state.floatbank10_f_air             12612 non-null  float64\n 35  rougher.state.floatbank10_f_level           12612 non-null  float64\n 36  secondary_cleaner.state.floatbank2_a_air    12612 non-null  float64\n 37  secondary_cleaner.state.floatbank2_a_level  12612 non-null  float64\n 38  secondary_cleaner.state.floatbank2_b_air    12612 non-null  float64\n 39  secondary_cleaner.state.floatbank2_b_level  12612 non-null  float64\n 40  secondary_cleaner.state.floatbank3_a_air    12612 non-null  float64\n 41  secondary_cleaner.state.floatbank3_a_level  12612 non-null  float64\n 42  secondary_cleaner.state.floatbank3_b_air    12612 non-null  float64\n 43  secondary_cleaner.state.floatbank3_b_level  12612 non-null  float64\n 44  secondary_cleaner.state.floatbank4_a_air    12612 non-null  float64\n 45  secondary_cleaner.state.floatbank4_a_level  12612 non-null  float64\n 46  secondary_cleaner.state.floatbank4_b_air    12612 non-null  float64\n 47  secondary_cleaner.state.floatbank4_b_level  12612 non-null  float64\n 48  secondary_cleaner.state.floatbank5_a_air    12612 non-null  float64\n 49  secondary_cleaner.state.floatbank5_a_level  12612 non-null  float64\n 50  secondary_cleaner.state.floatbank5_b_air    12612 non-null  float64\n 51  secondary_cleaner.state.floatbank5_b_level  12612 non-null  float64\n 52  secondary_cleaner.state.floatbank6_a_air    12612 non-null  float64\n 53  secondary_cleaner.state.floatbank6_a_level  12612 non-null  float64\ndtypes: float64(54)\nmemory usage: 5.2 MB\n"
        }
      ],
      "source": [
        "data_train = data_train[data_train.columns.intersection(data_test.columns)]\n",
        "data_train.info()"
      ]
    },
    {
      "cell_type": "markdown",
      "metadata": {
        "id": "2RaSETLhIPaV"
      },
      "source": [
        "Разделим обучающий и тестовый датасеты на фичи и целевые признаки."
      ]
    },
    {
      "cell_type": "code",
      "execution_count": null,
      "metadata": {
        "trusted": true,
        "id": "6lWYkglFIPaX"
      },
      "outputs": [],
      "source": [
        "features_train = data_train.drop(['rougher.output.recovery', 'final.output.recovery'], axis=1)\n",
        "target_train = data_train[['rougher.output.recovery', 'final.output.recovery']]\n",
        "\n",
        "features_test = data_test.drop(['rougher.output.recovery', 'final.output.recovery'], axis=1)\n",
        "target_test = data_test[['rougher.output.recovery', 'final.output.recovery']]"
      ]
    },
    {
      "cell_type": "markdown",
      "metadata": {
        "id": "Qh-IYdtxIPaY"
      },
      "source": [
        "Масштабируем признаки."
      ]
    },
    {
      "cell_type": "code",
      "execution_count": null,
      "metadata": {
        "trusted": true,
        "id": "-QciMuq-IPaY"
      },
      "outputs": [],
      "source": [
        "scaler = StandardScaler()\n",
        "scaler.fit(features_train)\n",
        "features_train = scaler.transform(features_train)\n",
        "features_test = scaler.transform(features_test)\n",
        "pd.options.mode.chained_assignment = None"
      ]
    },
    {
      "cell_type": "markdown",
      "metadata": {
        "id": "J7d1TJ4KIPaa"
      },
      "source": [
        "**Вывод**   \n",
        "В тестовую выборку из исходных данных были добавлены отсутствующие в ней целевые признаки rougher.output.recovery и final.output.recovery. Также обучающая выборка была приведена в соответствие с тестовой: из data_train были удалены отсутствующие в data_test колонки.    \n",
        "При помощи метода StandardScaler признаки были масштабированы."
      ]
    },
    {
      "cell_type": "markdown",
      "metadata": {
        "id": "voezG0YOIPaa"
      },
      "source": [
        "### Функция для вычисления итоговой sMAPE"
      ]
    },
    {
      "cell_type": "markdown",
      "metadata": {
        "id": "EUAFFbMyIPab"
      },
      "source": [
        "Напишем функцию для вычисления итоговой sMAPE."
      ]
    },
    {
      "cell_type": "code",
      "execution_count": null,
      "metadata": {
        "trusted": true,
        "id": "MeQ9FkOsIPab"
      },
      "outputs": [],
      "source": [
        "def smape(x, y):\n",
        "    x.reset_index(inplace=True, drop = True)\n",
        "    y = pd.DataFrame(y).reset_index(drop = True)\n",
        "    smape_rougher = 100/len(x[\"rougher.output.recovery\"]) * np.sum(2 * np.abs(y[0] - x[\"rougher.output.recovery\"]) / (np.abs(x[\"rougher.output.recovery\"]) + np.abs(y[0])))\n",
        "    smape_final = 100/len(x[\"final.output.recovery\"]) * np.sum(2 * np.abs(y[1] - x[\"final.output.recovery\"]) / (np.abs(x[\"final.output.recovery\"]) + np.abs(y[1])))\n",
        "    smape = 0.25 * smape_rougher + 0.75 * smape_final\n",
        "    return smape"
      ]
    },
    {
      "cell_type": "code",
      "execution_count": null,
      "metadata": {
        "trusted": true,
        "id": "BHLEXV2IIPac"
      },
      "outputs": [],
      "source": [
        "score_smape = make_scorer(smape, greater_is_better=False )"
      ]
    },
    {
      "cell_type": "markdown",
      "metadata": {
        "id": "cqK7DFvoIPad"
      },
      "source": [
        "### Обучение моделей"
      ]
    },
    {
      "cell_type": "markdown",
      "metadata": {
        "id": "zDPphyTQIPad"
      },
      "source": [
        "Обучим модель линейной регрессии."
      ]
    },
    {
      "cell_type": "code",
      "execution_count": null,
      "metadata": {
        "scrolled": true,
        "trusted": true,
        "id": "4uzIW2W-IPae",
        "outputId": "3b82885d-a923-4b48-f3d6-8ca630a8f145"
      },
      "outputs": [
        {
          "data": {
            "text/plain": "9.382396457981958"
          },
          "execution_count": 45,
          "metadata": {},
          "output_type": "execute_result"
        }
      ],
      "source": [
        "model = LinearRegression()\n",
        "lin_reg = cross_val_score(model, features_train, target_train, cv=5, scoring=score_smape)\n",
        "-lin_reg.mean()"
      ]
    },
    {
      "cell_type": "markdown",
      "metadata": {
        "id": "Bh_24hHRIPaf"
      },
      "source": [
        "Обучим модель дерева принятия решений. Использеум функцию GridSearchCV для подбора оптимальных параметров модели."
      ]
    },
    {
      "cell_type": "code",
      "execution_count": null,
      "metadata": {
        "trusted": true,
        "id": "PpbcGtU2IPaf",
        "outputId": "62aa937c-55f7-43d7-de40-d86031d91d91"
      },
      "outputs": [
        {
          "data": {
            "text/plain": "8.30607240640313"
          },
          "execution_count": 41,
          "metadata": {},
          "output_type": "execute_result"
        }
      ],
      "source": [
        "parameters = {'max_depth': [depth for depth in range(1, 20)],\n",
        "           'min_samples_split': [2, 5, 10],\n",
        "           'min_samples_leaf': [1, 2, 4]}\n",
        "dtr = GridSearchCV(DecisionTreeRegressor(random_state=12345),\n",
        "              param_grid=parameters,\n",
        "              scoring=score_smape, cv=5, refit=True, n_jobs=-1)\n",
        "dtr.fit(features_train, target_train)\n",
        "-dtr.best_score_"
      ]
    },
    {
      "cell_type": "markdown",
      "metadata": {
        "id": "86JueHlPIPag"
      },
      "source": [
        "Обучим модель случайного леса. Используем функцию RandomizedSearchCV для подбора оптимальных параметров модели."
      ]
    },
    {
      "cell_type": "code",
      "execution_count": null,
      "metadata": {
        "trusted": true,
        "id": "umfGPSxxIPah",
        "outputId": "2e7e1f2e-a28a-4502-fa2a-ee20ec222a13"
      },
      "outputs": [
        {
          "data": {
            "text/plain": "8.121274013987257"
          },
          "execution_count": 42,
          "metadata": {},
          "output_type": "execute_result"
        }
      ],
      "source": [
        "parameters =  {'n_estimators': [est for est in range(1, 50)],\n",
        "           'max_depth': [depth for depth in range(1, 20)],\n",
        "           'min_samples_split': [2, 5, 10],\n",
        "           'min_samples_leaf': [1, 2, 4]}\n",
        "rfr = RandomizedSearchCV(RandomForestRegressor(random_state=12345),\n",
        "              param_distributions=parameters,\n",
        "              scoring=score_smape, cv=5, refit=True, n_jobs=-1)\n",
        "rfr.fit(features_train, target_train)\n",
        "-rfr.best_score_"
      ]
    },
    {
      "cell_type": "markdown",
      "metadata": {
        "id": "37O3OKMrIPah"
      },
      "source": [
        "**Вывод**  \n",
        "Были обучены три модели:  линейная регрессия, модель дерева принятия решений и модель случайного леса. Лучший результат sMAPE показала модель случайного леса."
      ]
    },
    {
      "cell_type": "markdown",
      "metadata": {
        "id": "x_eA8CF0IPai"
      },
      "source": [
        "### Тестирование модели"
      ]
    },
    {
      "cell_type": "markdown",
      "metadata": {
        "id": "odsoiBTBIPai"
      },
      "source": [
        "Лучший результат показала модель случайного леса. Протестируем ее на тестовой выборке."
      ]
    },
    {
      "cell_type": "code",
      "execution_count": null,
      "metadata": {
        "trusted": true,
        "id": "TyLBRtq4IPaj",
        "outputId": "7cf14454-193b-45f1-da53-3229c2de3d3f"
      },
      "outputs": [
        {
          "name": "stdout",
          "output_type": "stream",
          "text": "sMAPE = 9.6818\n"
        }
      ],
      "source": [
        "predictions_test = rfr.predict(features_test)\n",
        "print('sMAPE =','{:.4f}'.format(smape(target_test, predictions_test)))"
      ]
    },
    {
      "cell_type": "markdown",
      "metadata": {
        "id": "rBzNY1wbIPal"
      },
      "source": [
        "## Вывод"
      ]
    },
    {
      "cell_type": "markdown",
      "metadata": {
        "id": "GE3JOjaCIPal"
      },
      "source": [
        "При построении модели, предсказывающей коэффициент восстановления золота из золотосодержащей руды, первоначально были изучены отдельные параметры добычи и очистки.  \n",
        "\n",
        "Проверка правильности рассчета эффективности обогащения показала, что данное значение рассчитано корректно (средняя абсолютная ошибка стремится к нулю).   \n",
        "\n",
        "Изучение концентрации металлов (Au, Ag, Pb) на различных этапах очистки показало:   \n",
        "•\tконцентрация содержания золота повышается по мере очистки и достигает максимальных значений в конце технологического процесса;   \n",
        "•\tмаксимальная концентрация серебра наблюдается на этапе флотации, после чего начинает постепенно снижаться;    \n",
        "•\tконцентрация свинца постепенно увеличивается, после завершения первичной очистки начинает снижаться.   \n",
        "\n",
        "Построенные графики распределения размеров гранул сырья на обучающей и тестовой выборках показали, что распределения размеров гранул сырья отличаются не значительно и соответственно в дальнейшем не повлияют на оценку модели.   \n",
        "\n",
        "Графики суммарной концентрации всех веществ на разных стадиях (в сырье, в черновом и финальном концентратах) продемонстрировали, что присутствует очень много значений суммарной концентрации около 0. Обнаруженные аномалии были удалены.\n",
        "\n",
        "В тестовую выборку из исходных данных были добавлены отсутствующие в ней целевые признаки rougher.output.recovery и final.output.recovery. Также обучающая выборка была приведена в соответствие с тестовой: из data_train были удалены отсутствующие в data_test колонки.    \n",
        "\n",
        "Обучены три модели: линейная регрессия, модель дерева принятия решений и модель случайного леса. Для оценки качества моделей была использована метрика sMAPE. Лучший результат оказался у модели случайного леса.   \n"
      ]
    }
  ],
  "metadata": {
    "ExecuteTimeLog": [
      {
        "duration": 405,
        "start_time": "2023-02-07T14:46:41.811Z"
      },
      {
        "duration": 77,
        "start_time": "2023-02-07T14:48:53.924Z"
      },
      {
        "duration": 73,
        "start_time": "2023-02-07T14:49:10.316Z"
      },
      {
        "duration": 87,
        "start_time": "2023-02-07T14:49:33.976Z"
      },
      {
        "duration": 1220,
        "start_time": "2023-02-07T14:49:41.085Z"
      },
      {
        "duration": 283,
        "start_time": "2023-02-07T14:52:00.574Z"
      },
      {
        "duration": 150,
        "start_time": "2023-02-07T14:54:51.821Z"
      },
      {
        "duration": 150,
        "start_time": "2023-02-07T14:55:38.776Z"
      },
      {
        "duration": 105,
        "start_time": "2023-02-07T14:55:42.887Z"
      },
      {
        "duration": 517,
        "start_time": "2023-02-07T14:55:50.749Z"
      },
      {
        "duration": 23,
        "start_time": "2023-02-07T14:59:43.525Z"
      },
      {
        "duration": 9,
        "start_time": "2023-02-07T15:00:12.555Z"
      },
      {
        "duration": 16,
        "start_time": "2023-02-07T15:00:17.008Z"
      },
      {
        "duration": 21,
        "start_time": "2023-02-07T15:00:59.320Z"
      },
      {
        "duration": 3,
        "start_time": "2023-02-07T15:15:29.860Z"
      },
      {
        "duration": 4,
        "start_time": "2023-02-07T15:15:52.768Z"
      },
      {
        "duration": 3,
        "start_time": "2023-02-07T15:16:03.130Z"
      },
      {
        "duration": 225,
        "start_time": "2023-02-07T15:17:14.205Z"
      },
      {
        "duration": 226,
        "start_time": "2023-02-07T15:17:39.562Z"
      },
      {
        "duration": 112,
        "start_time": "2023-02-07T15:18:04.666Z"
      },
      {
        "duration": 76,
        "start_time": "2023-02-07T15:19:12.768Z"
      },
      {
        "duration": 7,
        "start_time": "2023-02-07T15:19:17.299Z"
      },
      {
        "duration": 4,
        "start_time": "2023-02-07T15:19:27.356Z"
      },
      {
        "duration": 4,
        "start_time": "2023-02-07T15:22:34.687Z"
      },
      {
        "duration": 4,
        "start_time": "2023-02-07T15:22:52.696Z"
      },
      {
        "duration": 7,
        "start_time": "2023-02-07T15:53:08.327Z"
      },
      {
        "duration": 7,
        "start_time": "2023-02-07T15:54:10.324Z"
      },
      {
        "duration": 7,
        "start_time": "2023-02-07T15:56:25.670Z"
      },
      {
        "duration": 3,
        "start_time": "2023-02-07T15:59:10.098Z"
      },
      {
        "duration": 392,
        "start_time": "2023-02-07T15:59:10.105Z"
      },
      {
        "duration": 271,
        "start_time": "2023-02-07T15:59:10.499Z"
      },
      {
        "duration": 80,
        "start_time": "2023-02-07T15:59:10.772Z"
      },
      {
        "duration": 17,
        "start_time": "2023-02-07T15:59:10.853Z"
      },
      {
        "duration": 16,
        "start_time": "2023-02-07T15:59:10.873Z"
      },
      {
        "duration": 30,
        "start_time": "2023-02-07T15:59:10.890Z"
      },
      {
        "duration": 245,
        "start_time": "2023-02-07T15:59:10.922Z"
      },
      {
        "duration": 209,
        "start_time": "2023-02-07T15:59:11.168Z"
      },
      {
        "duration": 115,
        "start_time": "2023-02-07T15:59:11.379Z"
      },
      {
        "duration": 4,
        "start_time": "2023-02-07T15:59:11.495Z"
      },
      {
        "duration": 4,
        "start_time": "2023-02-07T15:59:11.510Z"
      },
      {
        "duration": 25,
        "start_time": "2023-02-07T15:59:11.515Z"
      },
      {
        "duration": 8,
        "start_time": "2023-02-07T15:59:11.541Z"
      },
      {
        "duration": 17,
        "start_time": "2023-02-07T15:59:56.194Z"
      },
      {
        "duration": 37,
        "start_time": "2023-02-07T16:06:10.949Z"
      },
      {
        "duration": 9,
        "start_time": "2023-02-07T16:08:25.949Z"
      },
      {
        "duration": 28,
        "start_time": "2023-02-07T16:08:28.769Z"
      },
      {
        "duration": 13,
        "start_time": "2023-02-07T16:15:31.212Z"
      },
      {
        "duration": 20,
        "start_time": "2023-02-07T16:16:11.760Z"
      },
      {
        "duration": 19,
        "start_time": "2023-02-07T16:16:22.738Z"
      },
      {
        "duration": 16,
        "start_time": "2023-02-07T16:17:50.965Z"
      },
      {
        "duration": 6,
        "start_time": "2023-02-07T16:18:02.419Z"
      },
      {
        "duration": 432,
        "start_time": "2023-02-07T16:18:02.427Z"
      },
      {
        "duration": 322,
        "start_time": "2023-02-07T16:18:02.861Z"
      },
      {
        "duration": 86,
        "start_time": "2023-02-07T16:18:03.185Z"
      },
      {
        "duration": 23,
        "start_time": "2023-02-07T16:18:03.273Z"
      },
      {
        "duration": 29,
        "start_time": "2023-02-07T16:18:03.309Z"
      },
      {
        "duration": 23,
        "start_time": "2023-02-07T16:18:03.340Z"
      },
      {
        "duration": 239,
        "start_time": "2023-02-07T16:18:03.365Z"
      },
      {
        "duration": 220,
        "start_time": "2023-02-07T16:18:03.609Z"
      },
      {
        "duration": 125,
        "start_time": "2023-02-07T16:18:03.831Z"
      },
      {
        "duration": 4,
        "start_time": "2023-02-07T16:18:03.958Z"
      },
      {
        "duration": 6,
        "start_time": "2023-02-07T16:18:03.964Z"
      },
      {
        "duration": 14,
        "start_time": "2023-02-07T16:18:03.971Z"
      },
      {
        "duration": 34,
        "start_time": "2023-02-07T16:18:03.986Z"
      },
      {
        "duration": 39,
        "start_time": "2023-02-07T16:18:04.022Z"
      },
      {
        "duration": 19,
        "start_time": "2023-02-07T16:20:27.339Z"
      },
      {
        "duration": 11,
        "start_time": "2023-02-07T16:20:35.435Z"
      },
      {
        "duration": 3,
        "start_time": "2023-02-07T16:20:43.378Z"
      },
      {
        "duration": 440,
        "start_time": "2023-02-07T16:20:43.385Z"
      },
      {
        "duration": 287,
        "start_time": "2023-02-07T16:20:43.827Z"
      },
      {
        "duration": 85,
        "start_time": "2023-02-07T16:20:44.116Z"
      },
      {
        "duration": 23,
        "start_time": "2023-02-07T16:20:44.203Z"
      },
      {
        "duration": 15,
        "start_time": "2023-02-07T16:20:44.229Z"
      },
      {
        "duration": 11,
        "start_time": "2023-02-07T16:20:44.246Z"
      },
      {
        "duration": 272,
        "start_time": "2023-02-07T16:20:44.259Z"
      },
      {
        "duration": 205,
        "start_time": "2023-02-07T16:20:44.533Z"
      },
      {
        "duration": 123,
        "start_time": "2023-02-07T16:20:44.739Z"
      },
      {
        "duration": 4,
        "start_time": "2023-02-07T16:20:44.864Z"
      },
      {
        "duration": 6,
        "start_time": "2023-02-07T16:20:44.870Z"
      },
      {
        "duration": 12,
        "start_time": "2023-02-07T16:20:44.878Z"
      },
      {
        "duration": 17,
        "start_time": "2023-02-07T16:20:44.910Z"
      },
      {
        "duration": 16,
        "start_time": "2023-02-07T16:20:44.930Z"
      },
      {
        "duration": 13,
        "start_time": "2023-02-07T16:21:41.342Z"
      },
      {
        "duration": 7,
        "start_time": "2023-02-07T16:21:50.474Z"
      },
      {
        "duration": 3,
        "start_time": "2023-02-07T16:21:58.564Z"
      },
      {
        "duration": 359,
        "start_time": "2023-02-07T16:21:58.568Z"
      },
      {
        "duration": 274,
        "start_time": "2023-02-07T16:21:58.928Z"
      },
      {
        "duration": 99,
        "start_time": "2023-02-07T16:21:59.204Z"
      },
      {
        "duration": 22,
        "start_time": "2023-02-07T16:21:59.305Z"
      },
      {
        "duration": 26,
        "start_time": "2023-02-07T16:21:59.329Z"
      },
      {
        "duration": 16,
        "start_time": "2023-02-07T16:21:59.357Z"
      },
      {
        "duration": 263,
        "start_time": "2023-02-07T16:21:59.375Z"
      },
      {
        "duration": 250,
        "start_time": "2023-02-07T16:21:59.639Z"
      },
      {
        "duration": 120,
        "start_time": "2023-02-07T16:21:59.891Z"
      },
      {
        "duration": 5,
        "start_time": "2023-02-07T16:22:00.013Z"
      },
      {
        "duration": 27,
        "start_time": "2023-02-07T16:22:00.019Z"
      },
      {
        "duration": 12,
        "start_time": "2023-02-07T16:22:00.047Z"
      },
      {
        "duration": 28,
        "start_time": "2023-02-07T16:22:00.060Z"
      },
      {
        "duration": 16,
        "start_time": "2023-02-07T16:22:00.090Z"
      },
      {
        "duration": 7,
        "start_time": "2023-02-07T16:24:20.892Z"
      },
      {
        "duration": 7,
        "start_time": "2023-02-07T16:25:00.685Z"
      },
      {
        "duration": 1360,
        "start_time": "2023-02-07T16:55:01.437Z"
      },
      {
        "duration": 2,
        "start_time": "2023-02-07T16:55:27.091Z"
      },
      {
        "duration": 369,
        "start_time": "2023-02-07T16:55:27.098Z"
      },
      {
        "duration": 262,
        "start_time": "2023-02-07T16:55:27.469Z"
      },
      {
        "duration": 81,
        "start_time": "2023-02-07T16:55:27.732Z"
      },
      {
        "duration": 18,
        "start_time": "2023-02-07T16:55:27.815Z"
      },
      {
        "duration": 15,
        "start_time": "2023-02-07T16:55:27.835Z"
      },
      {
        "duration": 11,
        "start_time": "2023-02-07T16:55:27.852Z"
      },
      {
        "duration": 239,
        "start_time": "2023-02-07T16:55:27.864Z"
      },
      {
        "duration": 204,
        "start_time": "2023-02-07T16:55:28.105Z"
      },
      {
        "duration": 113,
        "start_time": "2023-02-07T16:55:28.310Z"
      },
      {
        "duration": 7,
        "start_time": "2023-02-07T16:55:28.426Z"
      },
      {
        "duration": 5,
        "start_time": "2023-02-07T16:55:28.435Z"
      },
      {
        "duration": 6,
        "start_time": "2023-02-07T16:55:28.441Z"
      },
      {
        "duration": 11,
        "start_time": "2023-02-07T16:55:28.449Z"
      },
      {
        "duration": 19,
        "start_time": "2023-02-07T16:55:28.463Z"
      },
      {
        "duration": 37,
        "start_time": "2023-02-07T16:55:28.484Z"
      },
      {
        "duration": 7,
        "start_time": "2023-02-07T16:55:28.523Z"
      },
      {
        "duration": 7,
        "start_time": "2023-02-07T16:55:28.531Z"
      },
      {
        "duration": 1134,
        "start_time": "2023-02-07T16:57:00.771Z"
      },
      {
        "duration": 3,
        "start_time": "2023-02-07T16:57:07.580Z"
      },
      {
        "duration": 365,
        "start_time": "2023-02-07T16:57:07.585Z"
      },
      {
        "duration": 259,
        "start_time": "2023-02-07T16:57:07.952Z"
      },
      {
        "duration": 78,
        "start_time": "2023-02-07T16:57:08.212Z"
      },
      {
        "duration": 19,
        "start_time": "2023-02-07T16:57:08.292Z"
      },
      {
        "duration": 16,
        "start_time": "2023-02-07T16:57:08.313Z"
      },
      {
        "duration": 11,
        "start_time": "2023-02-07T16:57:08.331Z"
      },
      {
        "duration": 236,
        "start_time": "2023-02-07T16:57:08.344Z"
      },
      {
        "duration": 211,
        "start_time": "2023-02-07T16:57:08.581Z"
      },
      {
        "duration": 111,
        "start_time": "2023-02-07T16:57:08.793Z"
      },
      {
        "duration": 6,
        "start_time": "2023-02-07T16:57:08.907Z"
      },
      {
        "duration": 8,
        "start_time": "2023-02-07T16:57:08.915Z"
      },
      {
        "duration": 9,
        "start_time": "2023-02-07T16:57:08.925Z"
      },
      {
        "duration": 18,
        "start_time": "2023-02-07T16:57:08.936Z"
      },
      {
        "duration": 19,
        "start_time": "2023-02-07T16:57:08.955Z"
      },
      {
        "duration": 14,
        "start_time": "2023-02-07T16:57:08.975Z"
      },
      {
        "duration": 21,
        "start_time": "2023-02-07T16:57:08.991Z"
      },
      {
        "duration": 6,
        "start_time": "2023-02-07T16:57:09.014Z"
      },
      {
        "duration": 7,
        "start_time": "2023-02-07T17:13:14.699Z"
      },
      {
        "duration": 706,
        "start_time": "2023-02-07T17:13:19.182Z"
      },
      {
        "duration": 339,
        "start_time": "2023-02-07T17:13:19.890Z"
      },
      {
        "duration": 244,
        "start_time": "2023-02-07T17:13:20.231Z"
      },
      {
        "duration": 78,
        "start_time": "2023-02-07T17:13:20.476Z"
      },
      {
        "duration": 18,
        "start_time": "2023-02-07T17:13:20.555Z"
      },
      {
        "duration": 17,
        "start_time": "2023-02-07T17:13:20.574Z"
      },
      {
        "duration": 26,
        "start_time": "2023-02-07T17:13:20.593Z"
      },
      {
        "duration": 226,
        "start_time": "2023-02-07T17:13:20.620Z"
      },
      {
        "duration": 200,
        "start_time": "2023-02-07T17:13:20.847Z"
      },
      {
        "duration": 118,
        "start_time": "2023-02-07T17:13:21.050Z"
      },
      {
        "duration": 7,
        "start_time": "2023-02-07T17:13:21.169Z"
      },
      {
        "duration": 51,
        "start_time": "2023-02-07T17:13:21.178Z"
      },
      {
        "duration": 0,
        "start_time": "2023-02-07T17:13:21.231Z"
      },
      {
        "duration": 0,
        "start_time": "2023-02-07T17:13:21.232Z"
      },
      {
        "duration": 0,
        "start_time": "2023-02-07T17:13:21.233Z"
      },
      {
        "duration": 0,
        "start_time": "2023-02-07T17:13:21.234Z"
      },
      {
        "duration": 0,
        "start_time": "2023-02-07T17:13:21.236Z"
      },
      {
        "duration": 0,
        "start_time": "2023-02-07T17:13:21.237Z"
      },
      {
        "duration": 0,
        "start_time": "2023-02-07T17:13:21.238Z"
      },
      {
        "duration": 3,
        "start_time": "2023-02-07T17:14:09.475Z"
      },
      {
        "duration": 5,
        "start_time": "2023-02-07T17:14:19.291Z"
      },
      {
        "duration": 4,
        "start_time": "2023-02-07T17:16:00.559Z"
      },
      {
        "duration": 71,
        "start_time": "2023-02-07T17:21:11.581Z"
      },
      {
        "duration": 9,
        "start_time": "2023-02-07T17:21:17.924Z"
      },
      {
        "duration": 5,
        "start_time": "2023-02-07T17:21:28.014Z"
      },
      {
        "duration": 5,
        "start_time": "2023-02-07T17:21:38.639Z"
      },
      {
        "duration": 11,
        "start_time": "2023-02-07T17:30:05.298Z"
      },
      {
        "duration": 5,
        "start_time": "2023-02-07T17:30:12.732Z"
      },
      {
        "duration": 79,
        "start_time": "2023-02-07T17:30:34.555Z"
      },
      {
        "duration": 72,
        "start_time": "2023-02-07T17:31:00.266Z"
      },
      {
        "duration": 4,
        "start_time": "2023-02-07T17:31:28.293Z"
      },
      {
        "duration": 3,
        "start_time": "2023-02-07T17:39:35.985Z"
      },
      {
        "duration": 6,
        "start_time": "2023-02-07T17:41:26.805Z"
      },
      {
        "duration": 7,
        "start_time": "2023-02-07T17:41:31.878Z"
      },
      {
        "duration": 19,
        "start_time": "2023-02-07T17:41:34.384Z"
      },
      {
        "duration": 15,
        "start_time": "2023-02-07T17:41:42.187Z"
      },
      {
        "duration": 2,
        "start_time": "2023-02-07T17:41:52.529Z"
      },
      {
        "duration": 341,
        "start_time": "2023-02-07T17:41:52.533Z"
      },
      {
        "duration": 278,
        "start_time": "2023-02-07T17:41:52.876Z"
      },
      {
        "duration": 75,
        "start_time": "2023-02-07T17:41:53.156Z"
      },
      {
        "duration": 16,
        "start_time": "2023-02-07T17:41:53.232Z"
      },
      {
        "duration": 15,
        "start_time": "2023-02-07T17:41:53.249Z"
      },
      {
        "duration": 12,
        "start_time": "2023-02-07T17:41:53.265Z"
      },
      {
        "duration": 236,
        "start_time": "2023-02-07T17:41:53.279Z"
      },
      {
        "duration": 196,
        "start_time": "2023-02-07T17:41:53.518Z"
      },
      {
        "duration": 107,
        "start_time": "2023-02-07T17:41:53.716Z"
      },
      {
        "duration": 7,
        "start_time": "2023-02-07T17:41:53.825Z"
      },
      {
        "duration": 7,
        "start_time": "2023-02-07T17:41:53.834Z"
      },
      {
        "duration": 7,
        "start_time": "2023-02-07T17:41:53.842Z"
      },
      {
        "duration": 5,
        "start_time": "2023-02-07T17:41:53.850Z"
      },
      {
        "duration": 9,
        "start_time": "2023-02-07T17:41:53.857Z"
      },
      {
        "duration": 47,
        "start_time": "2023-02-07T17:41:53.867Z"
      },
      {
        "duration": 14,
        "start_time": "2023-02-07T17:41:53.915Z"
      },
      {
        "duration": 7,
        "start_time": "2023-02-07T17:41:53.930Z"
      },
      {
        "duration": 5,
        "start_time": "2023-02-07T17:41:53.938Z"
      },
      {
        "duration": 1054,
        "start_time": "2023-02-08T17:05:50.117Z"
      },
      {
        "duration": 1916,
        "start_time": "2023-02-08T17:05:51.173Z"
      },
      {
        "duration": 843,
        "start_time": "2023-02-08T17:05:53.090Z"
      },
      {
        "duration": 387,
        "start_time": "2023-02-08T17:05:53.935Z"
      },
      {
        "duration": 18,
        "start_time": "2023-02-08T17:05:54.324Z"
      },
      {
        "duration": 16,
        "start_time": "2023-02-08T17:05:54.344Z"
      },
      {
        "duration": 21,
        "start_time": "2023-02-08T17:05:54.362Z"
      },
      {
        "duration": 259,
        "start_time": "2023-02-08T17:05:54.384Z"
      },
      {
        "duration": 234,
        "start_time": "2023-02-08T17:05:54.645Z"
      },
      {
        "duration": 128,
        "start_time": "2023-02-08T17:05:54.881Z"
      },
      {
        "duration": 9,
        "start_time": "2023-02-08T17:05:55.010Z"
      },
      {
        "duration": 18,
        "start_time": "2023-02-08T17:05:55.021Z"
      },
      {
        "duration": 15,
        "start_time": "2023-02-08T17:05:55.040Z"
      },
      {
        "duration": 30,
        "start_time": "2023-02-08T17:05:55.057Z"
      },
      {
        "duration": 27,
        "start_time": "2023-02-08T17:05:55.089Z"
      },
      {
        "duration": 35,
        "start_time": "2023-02-08T17:05:55.117Z"
      },
      {
        "duration": 18,
        "start_time": "2023-02-08T17:05:55.154Z"
      },
      {
        "duration": 27,
        "start_time": "2023-02-08T17:05:55.174Z"
      },
      {
        "duration": 16,
        "start_time": "2023-02-08T17:05:55.203Z"
      },
      {
        "duration": 51,
        "start_time": "2023-02-08T17:13:03.616Z"
      },
      {
        "duration": 35,
        "start_time": "2023-02-08T17:13:25.073Z"
      },
      {
        "duration": 42,
        "start_time": "2023-02-08T17:18:17.548Z"
      },
      {
        "duration": 13,
        "start_time": "2023-02-08T17:18:53.386Z"
      },
      {
        "duration": 76,
        "start_time": "2023-02-08T17:25:40.546Z"
      },
      {
        "duration": 37,
        "start_time": "2023-02-08T17:25:59.439Z"
      },
      {
        "duration": 4,
        "start_time": "2023-02-08T17:40:15.408Z"
      },
      {
        "duration": 147,
        "start_time": "2023-02-08T17:41:54.319Z"
      },
      {
        "duration": 196,
        "start_time": "2023-02-08T17:46:36.231Z"
      },
      {
        "duration": 125,
        "start_time": "2023-02-08T17:47:29.016Z"
      },
      {
        "duration": 537,
        "start_time": "2023-02-08T17:48:00.581Z"
      },
      {
        "duration": 3,
        "start_time": "2023-02-08T17:48:12.677Z"
      },
      {
        "duration": 25,
        "start_time": "2023-02-08T17:48:18.950Z"
      },
      {
        "duration": 68,
        "start_time": "2023-02-08T17:48:48.099Z"
      },
      {
        "duration": 22,
        "start_time": "2023-02-08T17:48:54.547Z"
      },
      {
        "duration": 19186,
        "start_time": "2023-02-08T17:49:09.131Z"
      },
      {
        "duration": 3960,
        "start_time": "2023-02-08T17:55:04.811Z"
      },
      {
        "duration": 3,
        "start_time": "2023-02-08T17:57:01.868Z"
      },
      {
        "duration": 137,
        "start_time": "2023-02-08T17:57:10.224Z"
      },
      {
        "duration": 135,
        "start_time": "2023-02-08T18:06:12.824Z"
      },
      {
        "duration": 205,
        "start_time": "2023-02-08T18:06:27.541Z"
      },
      {
        "duration": 4500,
        "start_time": "2023-02-08T18:06:35.940Z"
      },
      {
        "duration": 4600,
        "start_time": "2023-02-08T18:07:31.676Z"
      },
      {
        "duration": 4471,
        "start_time": "2023-02-08T18:09:29.949Z"
      },
      {
        "duration": 18603,
        "start_time": "2023-02-08T18:10:37.460Z"
      },
      {
        "duration": 1459,
        "start_time": "2023-02-09T14:24:04.542Z"
      },
      {
        "duration": 534,
        "start_time": "2023-02-09T14:24:06.003Z"
      },
      {
        "duration": 1276,
        "start_time": "2023-02-09T14:24:06.538Z"
      },
      {
        "duration": 170,
        "start_time": "2023-02-09T14:24:07.816Z"
      },
      {
        "duration": 17,
        "start_time": "2023-02-09T14:24:07.989Z"
      },
      {
        "duration": 29,
        "start_time": "2023-02-09T14:24:08.007Z"
      },
      {
        "duration": 13,
        "start_time": "2023-02-09T14:24:08.038Z"
      },
      {
        "duration": 291,
        "start_time": "2023-02-09T14:24:08.053Z"
      },
      {
        "duration": 234,
        "start_time": "2023-02-09T14:24:08.346Z"
      },
      {
        "duration": 130,
        "start_time": "2023-02-09T14:24:08.581Z"
      },
      {
        "duration": 10,
        "start_time": "2023-02-09T14:24:08.713Z"
      },
      {
        "duration": 4,
        "start_time": "2023-02-09T14:24:08.725Z"
      },
      {
        "duration": 7,
        "start_time": "2023-02-09T14:24:08.730Z"
      },
      {
        "duration": 6,
        "start_time": "2023-02-09T14:24:08.739Z"
      },
      {
        "duration": 13,
        "start_time": "2023-02-09T14:24:08.746Z"
      },
      {
        "duration": 54,
        "start_time": "2023-02-09T14:24:08.761Z"
      },
      {
        "duration": 17,
        "start_time": "2023-02-09T14:24:08.816Z"
      },
      {
        "duration": 7,
        "start_time": "2023-02-09T14:24:08.835Z"
      },
      {
        "duration": 6,
        "start_time": "2023-02-09T14:24:08.844Z"
      },
      {
        "duration": 73,
        "start_time": "2023-02-09T14:24:08.852Z"
      },
      {
        "duration": 11,
        "start_time": "2023-02-09T14:24:08.927Z"
      },
      {
        "duration": 100,
        "start_time": "2023-02-09T14:24:08.940Z"
      },
      {
        "duration": 26,
        "start_time": "2023-02-09T14:24:09.042Z"
      },
      {
        "duration": 246,
        "start_time": "2023-02-09T14:24:09.069Z"
      },
      {
        "duration": 0,
        "start_time": "2023-02-09T14:24:09.318Z"
      },
      {
        "duration": 146,
        "start_time": "2023-02-09T14:24:44.007Z"
      },
      {
        "duration": 119,
        "start_time": "2023-02-09T14:25:30.284Z"
      },
      {
        "duration": 13,
        "start_time": "2023-02-09T14:49:06.544Z"
      },
      {
        "duration": 5,
        "start_time": "2023-02-09T14:49:43.541Z"
      },
      {
        "duration": 13,
        "start_time": "2023-02-09T14:49:59.926Z"
      },
      {
        "duration": 10,
        "start_time": "2023-02-09T14:57:37.065Z"
      },
      {
        "duration": 17,
        "start_time": "2023-02-09T14:57:49.448Z"
      },
      {
        "duration": 72,
        "start_time": "2023-02-09T15:01:56.719Z"
      },
      {
        "duration": 14,
        "start_time": "2023-02-09T15:02:27.968Z"
      },
      {
        "duration": 68,
        "start_time": "2023-02-09T15:02:48.788Z"
      },
      {
        "duration": 100,
        "start_time": "2023-02-09T15:03:01.529Z"
      },
      {
        "duration": 13,
        "start_time": "2023-02-09T15:03:52.973Z"
      },
      {
        "duration": 11,
        "start_time": "2023-02-09T15:04:02.168Z"
      },
      {
        "duration": 11,
        "start_time": "2023-02-09T15:04:28.709Z"
      },
      {
        "duration": 15,
        "start_time": "2023-02-09T15:05:59.246Z"
      },
      {
        "duration": 6613,
        "start_time": "2023-02-09T15:10:00.946Z"
      },
      {
        "duration": 26,
        "start_time": "2023-02-09T15:14:50.668Z"
      },
      {
        "duration": 1125,
        "start_time": "2023-02-09T15:17:17.354Z"
      },
      {
        "duration": 5,
        "start_time": "2023-02-09T15:21:57.355Z"
      },
      {
        "duration": 5,
        "start_time": "2023-02-09T15:22:07.093Z"
      },
      {
        "duration": 9,
        "start_time": "2023-02-09T15:22:22.710Z"
      },
      {
        "duration": 8,
        "start_time": "2023-02-09T15:23:09.084Z"
      },
      {
        "duration": 19,
        "start_time": "2023-02-09T15:24:19.951Z"
      },
      {
        "duration": 17,
        "start_time": "2023-02-09T15:29:57.648Z"
      },
      {
        "duration": 14,
        "start_time": "2023-02-09T15:43:07.671Z"
      },
      {
        "duration": 17,
        "start_time": "2023-02-09T15:44:26.099Z"
      },
      {
        "duration": 4,
        "start_time": "2023-02-09T15:46:31.456Z"
      },
      {
        "duration": 13,
        "start_time": "2023-02-09T15:46:38.089Z"
      },
      {
        "duration": 18,
        "start_time": "2023-02-09T15:46:53.880Z"
      },
      {
        "duration": 13,
        "start_time": "2023-02-09T15:47:01.478Z"
      },
      {
        "duration": 104,
        "start_time": "2023-02-09T15:48:14.000Z"
      },
      {
        "duration": 671,
        "start_time": "2023-02-09T15:48:19.528Z"
      },
      {
        "duration": 92,
        "start_time": "2023-02-09T15:55:34.413Z"
      },
      {
        "duration": 94,
        "start_time": "2023-02-09T15:56:22.623Z"
      },
      {
        "duration": 95,
        "start_time": "2023-02-09T15:56:31.269Z"
      },
      {
        "duration": 77,
        "start_time": "2023-02-09T15:57:50.966Z"
      },
      {
        "duration": 75,
        "start_time": "2023-02-09T15:58:55.186Z"
      },
      {
        "duration": 26,
        "start_time": "2023-02-09T16:04:20.066Z"
      },
      {
        "duration": 25,
        "start_time": "2023-02-09T16:04:26.168Z"
      },
      {
        "duration": 23,
        "start_time": "2023-02-09T16:07:31.183Z"
      },
      {
        "duration": 20,
        "start_time": "2023-02-09T16:08:38.280Z"
      },
      {
        "duration": 21,
        "start_time": "2023-02-09T16:09:19.079Z"
      },
      {
        "duration": 293,
        "start_time": "2023-02-09T16:09:29.880Z"
      },
      {
        "duration": 23,
        "start_time": "2023-02-09T16:10:53.534Z"
      },
      {
        "duration": 3,
        "start_time": "2023-02-09T16:11:00.279Z"
      },
      {
        "duration": 386,
        "start_time": "2023-02-09T16:11:00.284Z"
      },
      {
        "duration": 276,
        "start_time": "2023-02-09T16:11:00.671Z"
      },
      {
        "duration": 88,
        "start_time": "2023-02-09T16:11:00.948Z"
      },
      {
        "duration": 16,
        "start_time": "2023-02-09T16:11:01.038Z"
      },
      {
        "duration": 18,
        "start_time": "2023-02-09T16:11:01.055Z"
      },
      {
        "duration": 27,
        "start_time": "2023-02-09T16:11:01.075Z"
      },
      {
        "duration": 262,
        "start_time": "2023-02-09T16:11:01.104Z"
      },
      {
        "duration": 218,
        "start_time": "2023-02-09T16:11:01.368Z"
      },
      {
        "duration": 122,
        "start_time": "2023-02-09T16:11:01.588Z"
      },
      {
        "duration": 8,
        "start_time": "2023-02-09T16:11:01.711Z"
      },
      {
        "duration": 21,
        "start_time": "2023-02-09T16:11:01.720Z"
      },
      {
        "duration": 17,
        "start_time": "2023-02-09T16:11:01.742Z"
      },
      {
        "duration": 25,
        "start_time": "2023-02-09T16:11:01.762Z"
      },
      {
        "duration": 33,
        "start_time": "2023-02-09T16:11:01.788Z"
      },
      {
        "duration": 29,
        "start_time": "2023-02-09T16:11:01.823Z"
      },
      {
        "duration": 20,
        "start_time": "2023-02-09T16:11:01.854Z"
      },
      {
        "duration": 23,
        "start_time": "2023-02-09T16:11:01.876Z"
      },
      {
        "duration": 30,
        "start_time": "2023-02-09T16:11:01.900Z"
      },
      {
        "duration": 54,
        "start_time": "2023-02-09T16:11:01.932Z"
      },
      {
        "duration": 11,
        "start_time": "2023-02-09T16:11:01.988Z"
      },
      {
        "duration": 88,
        "start_time": "2023-02-09T16:11:02.001Z"
      },
      {
        "duration": 23,
        "start_time": "2023-02-09T16:11:02.091Z"
      },
      {
        "duration": 20,
        "start_time": "2023-02-09T16:11:02.115Z"
      },
      {
        "duration": 0,
        "start_time": "2023-02-09T16:11:02.136Z"
      },
      {
        "duration": 0,
        "start_time": "2023-02-09T16:11:02.137Z"
      },
      {
        "duration": 0,
        "start_time": "2023-02-09T16:11:02.139Z"
      },
      {
        "duration": 20,
        "start_time": "2023-02-09T16:15:08.404Z"
      },
      {
        "duration": 21,
        "start_time": "2023-02-09T16:18:12.584Z"
      },
      {
        "duration": 22,
        "start_time": "2023-02-09T16:20:39.767Z"
      },
      {
        "duration": 27,
        "start_time": "2023-02-09T16:21:08.820Z"
      },
      {
        "duration": 5,
        "start_time": "2023-02-09T16:24:14.487Z"
      },
      {
        "duration": 13,
        "start_time": "2023-02-09T16:25:11.395Z"
      },
      {
        "duration": 15,
        "start_time": "2023-02-09T16:25:43.521Z"
      },
      {
        "duration": 3,
        "start_time": "2023-02-09T16:26:01.421Z"
      },
      {
        "duration": 412,
        "start_time": "2023-02-09T16:26:01.425Z"
      },
      {
        "duration": 354,
        "start_time": "2023-02-09T16:26:01.838Z"
      },
      {
        "duration": 81,
        "start_time": "2023-02-09T16:26:02.198Z"
      },
      {
        "duration": 22,
        "start_time": "2023-02-09T16:26:02.281Z"
      },
      {
        "duration": 18,
        "start_time": "2023-02-09T16:26:02.305Z"
      },
      {
        "duration": 13,
        "start_time": "2023-02-09T16:26:02.325Z"
      },
      {
        "duration": 265,
        "start_time": "2023-02-09T16:26:02.340Z"
      },
      {
        "duration": 224,
        "start_time": "2023-02-09T16:26:02.607Z"
      },
      {
        "duration": 129,
        "start_time": "2023-02-09T16:26:02.833Z"
      },
      {
        "duration": 9,
        "start_time": "2023-02-09T16:26:02.965Z"
      },
      {
        "duration": 23,
        "start_time": "2023-02-09T16:26:02.976Z"
      },
      {
        "duration": 5,
        "start_time": "2023-02-09T16:26:03.001Z"
      },
      {
        "duration": 10,
        "start_time": "2023-02-09T16:26:03.007Z"
      },
      {
        "duration": 12,
        "start_time": "2023-02-09T16:26:03.018Z"
      },
      {
        "duration": 20,
        "start_time": "2023-02-09T16:26:03.032Z"
      },
      {
        "duration": 44,
        "start_time": "2023-02-09T16:26:03.055Z"
      },
      {
        "duration": 8,
        "start_time": "2023-02-09T16:26:03.101Z"
      },
      {
        "duration": 7,
        "start_time": "2023-02-09T16:26:03.110Z"
      },
      {
        "duration": 33,
        "start_time": "2023-02-09T16:26:03.118Z"
      },
      {
        "duration": 12,
        "start_time": "2023-02-09T16:26:03.153Z"
      },
      {
        "duration": 102,
        "start_time": "2023-02-09T16:26:03.167Z"
      },
      {
        "duration": 31,
        "start_time": "2023-02-09T16:26:03.271Z"
      },
      {
        "duration": 6,
        "start_time": "2023-02-09T16:26:03.304Z"
      },
      {
        "duration": 23,
        "start_time": "2023-02-09T16:26:03.312Z"
      },
      {
        "duration": 0,
        "start_time": "2023-02-09T16:26:03.337Z"
      },
      {
        "duration": 0,
        "start_time": "2023-02-09T16:26:03.338Z"
      },
      {
        "duration": 0,
        "start_time": "2023-02-09T16:26:03.339Z"
      },
      {
        "duration": 19,
        "start_time": "2023-02-09T16:26:40.379Z"
      },
      {
        "duration": 16,
        "start_time": "2023-02-09T16:26:48.300Z"
      },
      {
        "duration": 16,
        "start_time": "2023-02-09T16:27:16.210Z"
      },
      {
        "duration": 21,
        "start_time": "2023-02-09T16:27:25.984Z"
      },
      {
        "duration": 25,
        "start_time": "2023-02-09T16:28:38.683Z"
      },
      {
        "duration": 72,
        "start_time": "2023-02-09T16:30:52.848Z"
      },
      {
        "duration": 591,
        "start_time": "2023-02-09T16:31:26.380Z"
      },
      {
        "duration": 517,
        "start_time": "2023-02-09T16:32:19.507Z"
      },
      {
        "duration": 231,
        "start_time": "2023-02-09T16:32:42.096Z"
      },
      {
        "duration": 24,
        "start_time": "2023-02-09T16:34:08.394Z"
      },
      {
        "duration": 78,
        "start_time": "2023-02-09T16:34:56.909Z"
      },
      {
        "duration": 70,
        "start_time": "2023-02-09T16:35:18.194Z"
      },
      {
        "duration": 14,
        "start_time": "2023-02-09T16:35:30.187Z"
      },
      {
        "duration": 1144,
        "start_time": "2023-02-09T16:37:27.691Z"
      },
      {
        "duration": 1153,
        "start_time": "2023-02-09T16:37:48.764Z"
      },
      {
        "duration": 295,
        "start_time": "2023-02-09T16:38:04.215Z"
      },
      {
        "duration": 33,
        "start_time": "2023-02-09T16:42:50.075Z"
      },
      {
        "duration": 17,
        "start_time": "2023-02-09T16:43:41.005Z"
      },
      {
        "duration": 22,
        "start_time": "2023-02-09T16:44:03.015Z"
      },
      {
        "duration": 16,
        "start_time": "2023-02-09T16:45:48.916Z"
      },
      {
        "duration": 22,
        "start_time": "2023-02-09T16:46:06.971Z"
      },
      {
        "duration": 13,
        "start_time": "2023-02-09T16:57:34.872Z"
      },
      {
        "duration": 6,
        "start_time": "2023-02-09T16:57:40.193Z"
      },
      {
        "duration": 21,
        "start_time": "2023-02-09T16:57:43.158Z"
      },
      {
        "duration": 836,
        "start_time": "2023-02-09T17:00:53.489Z"
      },
      {
        "duration": 374,
        "start_time": "2023-02-09T17:03:32.409Z"
      },
      {
        "duration": 75,
        "start_time": "2023-02-09T17:07:21.614Z"
      },
      {
        "duration": 25,
        "start_time": "2023-02-09T17:07:39.919Z"
      },
      {
        "duration": 25,
        "start_time": "2023-02-09T17:08:25.949Z"
      },
      {
        "duration": 88,
        "start_time": "2023-02-09T17:09:02.251Z"
      },
      {
        "duration": 14,
        "start_time": "2023-02-09T17:09:08.771Z"
      },
      {
        "duration": 5,
        "start_time": "2023-02-09T17:09:18.255Z"
      },
      {
        "duration": 600,
        "start_time": "2023-02-09T17:10:05.120Z"
      },
      {
        "duration": 661,
        "start_time": "2023-02-09T17:10:45.171Z"
      },
      {
        "duration": 673,
        "start_time": "2023-02-09T17:11:04.070Z"
      },
      {
        "duration": 626,
        "start_time": "2023-02-09T17:11:11.551Z"
      },
      {
        "duration": 598,
        "start_time": "2023-02-09T17:11:36.013Z"
      },
      {
        "duration": 743,
        "start_time": "2023-02-09T17:11:56.594Z"
      },
      {
        "duration": 641,
        "start_time": "2023-02-09T17:12:07.978Z"
      },
      {
        "duration": 13,
        "start_time": "2023-02-09T17:14:14.518Z"
      },
      {
        "duration": 16,
        "start_time": "2023-02-09T17:14:27.863Z"
      },
      {
        "duration": 7,
        "start_time": "2023-02-09T17:14:33.612Z"
      },
      {
        "duration": 4,
        "start_time": "2023-02-09T17:19:49.663Z"
      },
      {
        "duration": 438,
        "start_time": "2023-02-09T17:19:49.669Z"
      },
      {
        "duration": 289,
        "start_time": "2023-02-09T17:19:50.108Z"
      },
      {
        "duration": 87,
        "start_time": "2023-02-09T17:19:50.401Z"
      },
      {
        "duration": 27,
        "start_time": "2023-02-09T17:19:50.490Z"
      },
      {
        "duration": 19,
        "start_time": "2023-02-09T17:19:50.519Z"
      },
      {
        "duration": 15,
        "start_time": "2023-02-09T17:19:50.542Z"
      },
      {
        "duration": 309,
        "start_time": "2023-02-09T17:19:50.560Z"
      },
      {
        "duration": 275,
        "start_time": "2023-02-09T17:19:50.873Z"
      },
      {
        "duration": 179,
        "start_time": "2023-02-09T17:19:51.150Z"
      },
      {
        "duration": 11,
        "start_time": "2023-02-09T17:19:51.331Z"
      },
      {
        "duration": 7,
        "start_time": "2023-02-09T17:19:51.344Z"
      },
      {
        "duration": 15,
        "start_time": "2023-02-09T17:19:51.353Z"
      },
      {
        "duration": 13,
        "start_time": "2023-02-09T17:19:51.370Z"
      },
      {
        "duration": 11,
        "start_time": "2023-02-09T17:19:51.399Z"
      },
      {
        "duration": 16,
        "start_time": "2023-02-09T17:19:51.411Z"
      },
      {
        "duration": 71,
        "start_time": "2023-02-09T17:19:51.430Z"
      },
      {
        "duration": 17,
        "start_time": "2023-02-09T17:19:51.502Z"
      },
      {
        "duration": 149,
        "start_time": "2023-02-09T17:19:51.521Z"
      },
      {
        "duration": 40,
        "start_time": "2023-02-09T17:19:51.672Z"
      },
      {
        "duration": 9,
        "start_time": "2023-02-09T17:19:51.714Z"
      },
      {
        "duration": 732,
        "start_time": "2023-02-09T17:19:51.725Z"
      },
      {
        "duration": 40,
        "start_time": "2023-02-09T17:19:52.459Z"
      },
      {
        "duration": 0,
        "start_time": "2023-02-09T17:19:52.502Z"
      },
      {
        "duration": 0,
        "start_time": "2023-02-09T17:19:52.503Z"
      },
      {
        "duration": 0,
        "start_time": "2023-02-09T17:19:52.505Z"
      },
      {
        "duration": 0,
        "start_time": "2023-02-09T17:19:52.506Z"
      },
      {
        "duration": 5,
        "start_time": "2023-02-09T17:20:50.693Z"
      },
      {
        "duration": 497,
        "start_time": "2023-02-09T17:20:55.640Z"
      },
      {
        "duration": 20,
        "start_time": "2023-02-09T17:21:32.476Z"
      },
      {
        "duration": 5,
        "start_time": "2023-02-09T17:22:54.172Z"
      },
      {
        "duration": 126,
        "start_time": "2023-02-09T17:35:48.279Z"
      },
      {
        "duration": 5,
        "start_time": "2023-02-09T17:36:16.552Z"
      },
      {
        "duration": 176,
        "start_time": "2023-02-09T17:36:32.996Z"
      },
      {
        "duration": 34,
        "start_time": "2023-02-09T17:37:39.491Z"
      },
      {
        "duration": 5,
        "start_time": "2023-02-09T17:38:09.691Z"
      },
      {
        "duration": 25,
        "start_time": "2023-02-09T17:40:32.879Z"
      },
      {
        "duration": 5,
        "start_time": "2023-02-09T17:41:43.914Z"
      },
      {
        "duration": 169,
        "start_time": "2023-02-09T17:44:32.284Z"
      },
      {
        "duration": 157,
        "start_time": "2023-02-09T17:45:01.163Z"
      },
      {
        "duration": 145,
        "start_time": "2023-02-09T17:45:54.168Z"
      },
      {
        "duration": 166,
        "start_time": "2023-02-09T17:46:27.568Z"
      },
      {
        "duration": 18,
        "start_time": "2023-02-09T17:47:03.701Z"
      },
      {
        "duration": 127,
        "start_time": "2023-02-09T17:47:39.523Z"
      },
      {
        "duration": 145,
        "start_time": "2023-02-09T17:47:58.415Z"
      },
      {
        "duration": 22,
        "start_time": "2023-02-09T17:48:31.397Z"
      },
      {
        "duration": 114,
        "start_time": "2023-02-09T17:49:00.532Z"
      },
      {
        "duration": 21371,
        "start_time": "2023-02-09T17:49:08.462Z"
      },
      {
        "duration": 150,
        "start_time": "2023-02-09T17:50:11.972Z"
      },
      {
        "duration": 108,
        "start_time": "2023-02-09T17:50:21.520Z"
      },
      {
        "duration": 18,
        "start_time": "2023-02-09T17:50:59.457Z"
      },
      {
        "duration": 22336,
        "start_time": "2023-02-09T17:51:16.009Z"
      },
      {
        "duration": 124,
        "start_time": "2023-02-09T17:55:31.442Z"
      },
      {
        "duration": 21367,
        "start_time": "2023-02-09T17:55:54.712Z"
      },
      {
        "duration": 0,
        "start_time": "2023-02-09T17:59:58.799Z"
      },
      {
        "duration": 0,
        "start_time": "2023-02-09T17:59:58.801Z"
      },
      {
        "duration": 0,
        "start_time": "2023-02-09T17:59:58.802Z"
      },
      {
        "duration": 0,
        "start_time": "2023-02-09T17:59:58.803Z"
      },
      {
        "duration": 0,
        "start_time": "2023-02-09T17:59:58.805Z"
      },
      {
        "duration": 0,
        "start_time": "2023-02-09T17:59:58.806Z"
      },
      {
        "duration": 0,
        "start_time": "2023-02-09T17:59:58.807Z"
      },
      {
        "duration": 0,
        "start_time": "2023-02-09T17:59:58.808Z"
      },
      {
        "duration": 0,
        "start_time": "2023-02-09T17:59:58.810Z"
      },
      {
        "duration": 0,
        "start_time": "2023-02-09T17:59:58.811Z"
      },
      {
        "duration": 0,
        "start_time": "2023-02-09T17:59:58.812Z"
      },
      {
        "duration": 0,
        "start_time": "2023-02-09T17:59:58.813Z"
      },
      {
        "duration": 0,
        "start_time": "2023-02-09T17:59:58.815Z"
      },
      {
        "duration": 0,
        "start_time": "2023-02-09T17:59:58.816Z"
      },
      {
        "duration": 0,
        "start_time": "2023-02-09T17:59:58.817Z"
      },
      {
        "duration": 0,
        "start_time": "2023-02-09T17:59:58.818Z"
      },
      {
        "duration": 0,
        "start_time": "2023-02-09T17:59:58.819Z"
      },
      {
        "duration": 0,
        "start_time": "2023-02-09T17:59:58.820Z"
      },
      {
        "duration": 0,
        "start_time": "2023-02-09T17:59:58.821Z"
      },
      {
        "duration": 0,
        "start_time": "2023-02-09T17:59:58.822Z"
      },
      {
        "duration": 0,
        "start_time": "2023-02-09T17:59:58.823Z"
      },
      {
        "duration": 0,
        "start_time": "2023-02-09T17:59:58.823Z"
      },
      {
        "duration": 0,
        "start_time": "2023-02-09T17:59:58.824Z"
      },
      {
        "duration": 0,
        "start_time": "2023-02-09T17:59:58.825Z"
      },
      {
        "duration": 0,
        "start_time": "2023-02-09T17:59:58.826Z"
      },
      {
        "duration": 0,
        "start_time": "2023-02-09T17:59:58.827Z"
      },
      {
        "duration": 0,
        "start_time": "2023-02-09T17:59:58.828Z"
      },
      {
        "duration": 0,
        "start_time": "2023-02-09T17:59:58.829Z"
      },
      {
        "duration": 0,
        "start_time": "2023-02-09T17:59:58.830Z"
      },
      {
        "duration": 1291,
        "start_time": "2023-02-09T18:00:16.527Z"
      },
      {
        "duration": 361,
        "start_time": "2023-02-09T18:00:17.820Z"
      },
      {
        "duration": 275,
        "start_time": "2023-02-09T18:00:18.183Z"
      },
      {
        "duration": 92,
        "start_time": "2023-02-09T18:00:18.461Z"
      },
      {
        "duration": 18,
        "start_time": "2023-02-09T18:00:18.554Z"
      },
      {
        "duration": 31,
        "start_time": "2023-02-09T18:00:18.574Z"
      },
      {
        "duration": 13,
        "start_time": "2023-02-09T18:00:18.606Z"
      },
      {
        "duration": 263,
        "start_time": "2023-02-09T18:00:18.620Z"
      },
      {
        "duration": 218,
        "start_time": "2023-02-09T18:00:18.885Z"
      },
      {
        "duration": 125,
        "start_time": "2023-02-09T18:00:19.105Z"
      },
      {
        "duration": 8,
        "start_time": "2023-02-09T18:00:19.232Z"
      },
      {
        "duration": 14,
        "start_time": "2023-02-09T18:00:19.242Z"
      },
      {
        "duration": 16,
        "start_time": "2023-02-09T18:00:19.257Z"
      },
      {
        "duration": 10,
        "start_time": "2023-02-09T18:00:19.274Z"
      },
      {
        "duration": 20,
        "start_time": "2023-02-09T18:00:19.286Z"
      },
      {
        "duration": 22,
        "start_time": "2023-02-09T18:00:19.308Z"
      },
      {
        "duration": 51,
        "start_time": "2023-02-09T18:00:19.331Z"
      },
      {
        "duration": 11,
        "start_time": "2023-02-09T18:00:19.383Z"
      },
      {
        "duration": 122,
        "start_time": "2023-02-09T18:00:19.396Z"
      },
      {
        "duration": 22,
        "start_time": "2023-02-09T18:00:19.519Z"
      },
      {
        "duration": 5,
        "start_time": "2023-02-09T18:00:19.543Z"
      },
      {
        "duration": 555,
        "start_time": "2023-02-09T18:00:19.550Z"
      },
      {
        "duration": 119,
        "start_time": "2023-02-09T18:00:20.107Z"
      },
      {
        "duration": 0,
        "start_time": "2023-02-09T18:00:20.228Z"
      },
      {
        "duration": 0,
        "start_time": "2023-02-09T18:00:20.229Z"
      },
      {
        "duration": 0,
        "start_time": "2023-02-09T18:00:20.230Z"
      },
      {
        "duration": 0,
        "start_time": "2023-02-09T18:00:20.231Z"
      },
      {
        "duration": 0,
        "start_time": "2023-02-09T18:00:20.232Z"
      },
      {
        "duration": 0,
        "start_time": "2023-02-09T18:00:20.233Z"
      },
      {
        "duration": 126,
        "start_time": "2023-02-09T18:02:30.865Z"
      },
      {
        "duration": 108,
        "start_time": "2023-02-09T18:03:01.538Z"
      },
      {
        "duration": 129,
        "start_time": "2023-02-09T18:03:16.121Z"
      },
      {
        "duration": 21845,
        "start_time": "2023-02-09T18:03:21.880Z"
      },
      {
        "duration": 27,
        "start_time": "2023-02-09T18:11:42.321Z"
      },
      {
        "duration": 17,
        "start_time": "2023-02-09T18:14:08.498Z"
      },
      {
        "duration": 126,
        "start_time": "2023-02-09T18:14:52.688Z"
      },
      {
        "duration": 118,
        "start_time": "2023-02-09T18:18:13.688Z"
      },
      {
        "duration": 126,
        "start_time": "2023-02-09T18:18:26.506Z"
      },
      {
        "duration": 21,
        "start_time": "2023-02-09T18:23:23.942Z"
      },
      {
        "duration": 17,
        "start_time": "2023-02-09T18:24:00.115Z"
      },
      {
        "duration": 20,
        "start_time": "2023-02-09T18:25:26.088Z"
      },
      {
        "duration": 20,
        "start_time": "2023-02-09T18:25:44.800Z"
      },
      {
        "duration": 22,
        "start_time": "2023-02-09T18:26:27.633Z"
      },
      {
        "duration": 116,
        "start_time": "2023-02-09T18:28:21.896Z"
      },
      {
        "duration": 109,
        "start_time": "2023-02-09T18:28:34.218Z"
      },
      {
        "duration": 130,
        "start_time": "2023-02-09T18:28:52.350Z"
      },
      {
        "duration": 1682,
        "start_time": "2023-02-09T18:28:59.658Z"
      },
      {
        "duration": 115,
        "start_time": "2023-02-09T18:29:32.712Z"
      },
      {
        "duration": 20714,
        "start_time": "2023-02-09T18:29:49.901Z"
      },
      {
        "duration": 120,
        "start_time": "2023-02-09T18:31:41.730Z"
      },
      {
        "duration": 550,
        "start_time": "2023-02-09T18:33:57.456Z"
      },
      {
        "duration": 24,
        "start_time": "2023-02-09T18:34:26.917Z"
      },
      {
        "duration": 20,
        "start_time": "2023-02-09T18:34:37.084Z"
      },
      {
        "duration": 122,
        "start_time": "2023-02-09T18:37:51.723Z"
      },
      {
        "duration": 22911,
        "start_time": "2023-02-09T18:40:25.361Z"
      },
      {
        "duration": 109,
        "start_time": "2023-02-09T18:41:10.322Z"
      },
      {
        "duration": 52,
        "start_time": "2023-02-09T18:41:48.397Z"
      },
      {
        "duration": 16,
        "start_time": "2023-02-09T18:45:57.539Z"
      },
      {
        "duration": 19,
        "start_time": "2023-02-09T19:13:56.562Z"
      },
      {
        "duration": 14,
        "start_time": "2023-02-09T19:14:17.871Z"
      },
      {
        "duration": 545,
        "start_time": "2023-02-09T19:18:44.055Z"
      },
      {
        "duration": 499,
        "start_time": "2023-02-09T19:20:17.842Z"
      },
      {
        "duration": 554,
        "start_time": "2023-02-09T19:20:52.175Z"
      },
      {
        "duration": 535,
        "start_time": "2023-02-09T19:20:58.338Z"
      },
      {
        "duration": 11,
        "start_time": "2023-02-09T19:25:53.672Z"
      },
      {
        "duration": 1180,
        "start_time": "2023-02-09T19:26:29.421Z"
      },
      {
        "duration": 664,
        "start_time": "2023-02-09T19:26:52.743Z"
      },
      {
        "duration": 2116,
        "start_time": "2023-02-09T19:28:01.801Z"
      },
      {
        "duration": 4,
        "start_time": "2023-02-09T19:30:56.101Z"
      },
      {
        "duration": 466,
        "start_time": "2023-02-09T19:30:57.120Z"
      },
      {
        "duration": 472,
        "start_time": "2023-02-09T19:32:01.512Z"
      },
      {
        "duration": 530,
        "start_time": "2023-02-09T19:32:45.057Z"
      },
      {
        "duration": 74,
        "start_time": "2023-02-09T19:34:29.676Z"
      },
      {
        "duration": 15,
        "start_time": "2023-02-09T19:46:09.104Z"
      },
      {
        "duration": 338,
        "start_time": "2023-02-09T19:57:57.845Z"
      },
      {
        "duration": 324,
        "start_time": "2023-02-09T19:58:22.290Z"
      },
      {
        "duration": 449,
        "start_time": "2023-02-09T19:58:50.965Z"
      },
      {
        "duration": 361,
        "start_time": "2023-02-09T19:59:01.500Z"
      },
      {
        "duration": 334,
        "start_time": "2023-02-09T19:59:34.417Z"
      },
      {
        "duration": 389,
        "start_time": "2023-02-09T19:59:51.484Z"
      },
      {
        "duration": 419,
        "start_time": "2023-02-09T20:01:11.091Z"
      },
      {
        "duration": 504,
        "start_time": "2023-02-09T20:02:25.884Z"
      },
      {
        "duration": 418,
        "start_time": "2023-02-09T20:02:35.427Z"
      },
      {
        "duration": 432,
        "start_time": "2023-02-09T20:02:41.975Z"
      },
      {
        "duration": 1577,
        "start_time": "2023-02-10T14:58:07.010Z"
      },
      {
        "duration": 768,
        "start_time": "2023-02-10T14:58:08.589Z"
      },
      {
        "duration": 1322,
        "start_time": "2023-02-10T14:58:09.358Z"
      },
      {
        "duration": 263,
        "start_time": "2023-02-10T14:58:10.683Z"
      },
      {
        "duration": 17,
        "start_time": "2023-02-10T14:58:10.948Z"
      },
      {
        "duration": 80,
        "start_time": "2023-02-10T14:58:10.967Z"
      },
      {
        "duration": 12,
        "start_time": "2023-02-10T14:58:11.048Z"
      },
      {
        "duration": 507,
        "start_time": "2023-02-10T14:58:11.062Z"
      },
      {
        "duration": 426,
        "start_time": "2023-02-10T14:58:11.571Z"
      },
      {
        "duration": 128,
        "start_time": "2023-02-10T14:58:12.001Z"
      },
      {
        "duration": 12,
        "start_time": "2023-02-10T14:58:12.131Z"
      },
      {
        "duration": 5,
        "start_time": "2023-02-10T14:58:12.145Z"
      },
      {
        "duration": 5,
        "start_time": "2023-02-10T14:58:12.151Z"
      },
      {
        "duration": 5,
        "start_time": "2023-02-10T14:58:12.158Z"
      },
      {
        "duration": 9,
        "start_time": "2023-02-10T14:58:12.165Z"
      },
      {
        "duration": 5,
        "start_time": "2023-02-10T14:58:12.176Z"
      },
      {
        "duration": 79,
        "start_time": "2023-02-10T14:58:12.183Z"
      },
      {
        "duration": 10,
        "start_time": "2023-02-10T14:58:12.264Z"
      },
      {
        "duration": 126,
        "start_time": "2023-02-10T14:58:12.275Z"
      },
      {
        "duration": 44,
        "start_time": "2023-02-10T14:58:12.403Z"
      },
      {
        "duration": 8,
        "start_time": "2023-02-10T14:58:12.448Z"
      },
      {
        "duration": 14,
        "start_time": "2023-02-10T14:58:12.458Z"
      },
      {
        "duration": 688,
        "start_time": "2023-02-10T14:58:12.474Z"
      },
      {
        "duration": 806,
        "start_time": "2023-02-10T14:58:13.163Z"
      },
      {
        "duration": 515,
        "start_time": "2023-02-10T14:58:13.970Z"
      },
      {
        "duration": 111,
        "start_time": "2023-02-10T14:58:14.486Z"
      },
      {
        "duration": 0,
        "start_time": "2023-02-10T14:58:14.599Z"
      },
      {
        "duration": 380,
        "start_time": "2023-02-10T14:58:54.781Z"
      },
      {
        "duration": 31,
        "start_time": "2023-02-10T15:08:59.978Z"
      },
      {
        "duration": 15,
        "start_time": "2023-02-10T15:09:08.578Z"
      },
      {
        "duration": 1291,
        "start_time": "2023-02-10T15:14:11.572Z"
      },
      {
        "duration": 1172,
        "start_time": "2023-02-10T15:14:34.994Z"
      },
      {
        "duration": 10,
        "start_time": "2023-02-10T15:14:55.234Z"
      },
      {
        "duration": 435,
        "start_time": "2023-02-10T15:19:19.676Z"
      },
      {
        "duration": 11,
        "start_time": "2023-02-10T15:21:14.732Z"
      },
      {
        "duration": 11,
        "start_time": "2023-02-10T15:21:42.623Z"
      },
      {
        "duration": 10,
        "start_time": "2023-02-10T15:21:49.194Z"
      },
      {
        "duration": 19660,
        "start_time": "2023-02-10T15:22:46.202Z"
      },
      {
        "duration": 269,
        "start_time": "2023-02-10T15:24:17.847Z"
      },
      {
        "duration": 79,
        "start_time": "2023-02-10T15:26:18.785Z"
      },
      {
        "duration": 125,
        "start_time": "2023-02-10T15:26:26.763Z"
      },
      {
        "duration": 271,
        "start_time": "2023-02-10T15:27:04.613Z"
      },
      {
        "duration": 1238,
        "start_time": "2023-02-10T15:28:33.062Z"
      },
      {
        "duration": 322,
        "start_time": "2023-02-10T15:28:43.620Z"
      },
      {
        "duration": 330,
        "start_time": "2023-02-10T15:29:00.066Z"
      },
      {
        "duration": 15,
        "start_time": "2023-02-10T15:30:06.364Z"
      },
      {
        "duration": 103,
        "start_time": "2023-02-10T15:31:45.445Z"
      },
      {
        "duration": 1207,
        "start_time": "2023-02-10T15:33:37.296Z"
      },
      {
        "duration": 316,
        "start_time": "2023-02-10T15:33:52.862Z"
      },
      {
        "duration": 1219,
        "start_time": "2023-02-10T15:37:49.149Z"
      },
      {
        "duration": 330,
        "start_time": "2023-02-10T15:37:59.411Z"
      },
      {
        "duration": 328,
        "start_time": "2023-02-10T15:42:07.580Z"
      },
      {
        "duration": 491,
        "start_time": "2023-02-10T15:42:23.596Z"
      },
      {
        "duration": 56,
        "start_time": "2023-02-10T15:55:32.537Z"
      },
      {
        "duration": 95,
        "start_time": "2023-02-10T17:24:01.944Z"
      },
      {
        "duration": 15,
        "start_time": "2023-02-10T17:24:08.757Z"
      },
      {
        "duration": 580,
        "start_time": "2023-02-10T17:24:14.241Z"
      },
      {
        "duration": 11,
        "start_time": "2023-02-10T17:24:14.979Z"
      },
      {
        "duration": 634,
        "start_time": "2023-02-10T17:25:14.097Z"
      },
      {
        "duration": 603,
        "start_time": "2023-02-10T17:25:56.865Z"
      },
      {
        "duration": 596,
        "start_time": "2023-02-10T17:27:01.076Z"
      },
      {
        "duration": 5,
        "start_time": "2023-02-10T17:28:40.092Z"
      },
      {
        "duration": 115,
        "start_time": "2023-02-10T17:28:41.971Z"
      },
      {
        "duration": 281,
        "start_time": "2023-02-10T17:29:09.218Z"
      },
      {
        "duration": 296,
        "start_time": "2023-02-10T17:29:22.342Z"
      },
      {
        "duration": 253,
        "start_time": "2023-02-10T17:32:10.226Z"
      },
      {
        "duration": 241,
        "start_time": "2023-02-10T17:32:18.481Z"
      },
      {
        "duration": 233,
        "start_time": "2023-02-10T17:32:29.215Z"
      },
      {
        "duration": 210,
        "start_time": "2023-02-10T17:34:05.985Z"
      },
      {
        "duration": 213,
        "start_time": "2023-02-10T17:34:14.591Z"
      },
      {
        "duration": 200,
        "start_time": "2023-02-10T17:34:31.737Z"
      },
      {
        "duration": 2,
        "start_time": "2023-02-10T17:38:12.853Z"
      },
      {
        "duration": 11,
        "start_time": "2023-02-10T18:11:16.153Z"
      },
      {
        "duration": 21,
        "start_time": "2023-02-10T18:11:30.822Z"
      },
      {
        "duration": 14,
        "start_time": "2023-02-10T18:12:05.562Z"
      },
      {
        "duration": 3,
        "start_time": "2023-02-10T18:12:18.043Z"
      },
      {
        "duration": 354,
        "start_time": "2023-02-10T18:12:18.048Z"
      },
      {
        "duration": 241,
        "start_time": "2023-02-10T18:12:18.404Z"
      },
      {
        "duration": 84,
        "start_time": "2023-02-10T18:12:18.646Z"
      },
      {
        "duration": 19,
        "start_time": "2023-02-10T18:12:18.732Z"
      },
      {
        "duration": 18,
        "start_time": "2023-02-10T18:12:18.752Z"
      },
      {
        "duration": 13,
        "start_time": "2023-02-10T18:12:18.772Z"
      },
      {
        "duration": 252,
        "start_time": "2023-02-10T18:12:18.786Z"
      },
      {
        "duration": 218,
        "start_time": "2023-02-10T18:12:19.039Z"
      },
      {
        "duration": 124,
        "start_time": "2023-02-10T18:12:19.258Z"
      },
      {
        "duration": 9,
        "start_time": "2023-02-10T18:12:19.385Z"
      },
      {
        "duration": 8,
        "start_time": "2023-02-10T18:12:19.395Z"
      },
      {
        "duration": 6,
        "start_time": "2023-02-10T18:12:19.405Z"
      },
      {
        "duration": 25,
        "start_time": "2023-02-10T18:12:19.413Z"
      },
      {
        "duration": 9,
        "start_time": "2023-02-10T18:12:19.440Z"
      },
      {
        "duration": 7,
        "start_time": "2023-02-10T18:12:19.450Z"
      },
      {
        "duration": 42,
        "start_time": "2023-02-10T18:12:19.458Z"
      },
      {
        "duration": 39,
        "start_time": "2023-02-10T18:12:19.502Z"
      },
      {
        "duration": 123,
        "start_time": "2023-02-10T18:12:19.543Z"
      },
      {
        "duration": 23,
        "start_time": "2023-02-10T18:12:19.668Z"
      },
      {
        "duration": 6,
        "start_time": "2023-02-10T18:12:19.692Z"
      },
      {
        "duration": 7,
        "start_time": "2023-02-10T18:12:19.700Z"
      },
      {
        "duration": 533,
        "start_time": "2023-02-10T18:12:19.708Z"
      },
      {
        "duration": 498,
        "start_time": "2023-02-10T18:12:20.243Z"
      },
      {
        "duration": 502,
        "start_time": "2023-02-10T18:12:20.743Z"
      },
      {
        "duration": 381,
        "start_time": "2023-02-10T18:12:21.246Z"
      },
      {
        "duration": 280,
        "start_time": "2023-02-10T18:12:21.629Z"
      },
      {
        "duration": 299,
        "start_time": "2023-02-10T18:12:21.911Z"
      },
      {
        "duration": 371,
        "start_time": "2023-02-10T18:12:22.215Z"
      },
      {
        "duration": 505,
        "start_time": "2023-02-10T18:12:22.588Z"
      },
      {
        "duration": 3,
        "start_time": "2023-02-10T18:12:23.094Z"
      },
      {
        "duration": 8,
        "start_time": "2023-02-10T18:12:23.098Z"
      },
      {
        "duration": 15,
        "start_time": "2023-02-10T18:12:23.108Z"
      },
      {
        "duration": 25,
        "start_time": "2023-02-10T18:12:23.124Z"
      },
      {
        "duration": 14,
        "start_time": "2023-02-10T18:12:23.151Z"
      },
      {
        "duration": 6,
        "start_time": "2023-02-10T18:32:36.834Z"
      },
      {
        "duration": 9,
        "start_time": "2023-02-10T18:33:21.738Z"
      },
      {
        "duration": 3,
        "start_time": "2023-02-10T18:41:05.355Z"
      },
      {
        "duration": 20,
        "start_time": "2023-02-10T18:42:51.735Z"
      },
      {
        "duration": 4,
        "start_time": "2023-02-10T18:42:57.310Z"
      },
      {
        "duration": 380,
        "start_time": "2023-02-10T18:42:57.317Z"
      },
      {
        "duration": 255,
        "start_time": "2023-02-10T18:42:57.699Z"
      },
      {
        "duration": 79,
        "start_time": "2023-02-10T18:42:57.956Z"
      },
      {
        "duration": 16,
        "start_time": "2023-02-10T18:42:58.037Z"
      },
      {
        "duration": 14,
        "start_time": "2023-02-10T18:42:58.055Z"
      },
      {
        "duration": 11,
        "start_time": "2023-02-10T18:42:58.070Z"
      },
      {
        "duration": 246,
        "start_time": "2023-02-10T18:42:58.083Z"
      },
      {
        "duration": 220,
        "start_time": "2023-02-10T18:42:58.331Z"
      },
      {
        "duration": 128,
        "start_time": "2023-02-10T18:42:58.553Z"
      },
      {
        "duration": 9,
        "start_time": "2023-02-10T18:42:58.684Z"
      },
      {
        "duration": 10,
        "start_time": "2023-02-10T18:42:58.695Z"
      },
      {
        "duration": 5,
        "start_time": "2023-02-10T18:42:58.707Z"
      },
      {
        "duration": 24,
        "start_time": "2023-02-10T18:42:58.714Z"
      },
      {
        "duration": 10,
        "start_time": "2023-02-10T18:42:58.740Z"
      },
      {
        "duration": 7,
        "start_time": "2023-02-10T18:42:58.751Z"
      },
      {
        "duration": 36,
        "start_time": "2023-02-10T18:42:58.760Z"
      },
      {
        "duration": 43,
        "start_time": "2023-02-10T18:42:58.798Z"
      },
      {
        "duration": 127,
        "start_time": "2023-02-10T18:42:58.843Z"
      },
      {
        "duration": 23,
        "start_time": "2023-02-10T18:42:58.972Z"
      },
      {
        "duration": 5,
        "start_time": "2023-02-10T18:42:58.997Z"
      },
      {
        "duration": 6,
        "start_time": "2023-02-10T18:42:59.004Z"
      },
      {
        "duration": 502,
        "start_time": "2023-02-10T18:42:59.012Z"
      },
      {
        "duration": 491,
        "start_time": "2023-02-10T18:42:59.516Z"
      },
      {
        "duration": 515,
        "start_time": "2023-02-10T18:43:00.009Z"
      },
      {
        "duration": 405,
        "start_time": "2023-02-10T18:43:00.526Z"
      },
      {
        "duration": 270,
        "start_time": "2023-02-10T18:43:00.932Z"
      },
      {
        "duration": 286,
        "start_time": "2023-02-10T18:43:01.204Z"
      },
      {
        "duration": 312,
        "start_time": "2023-02-10T18:43:01.493Z"
      },
      {
        "duration": 495,
        "start_time": "2023-02-10T18:43:01.806Z"
      },
      {
        "duration": 2,
        "start_time": "2023-02-10T18:43:02.302Z"
      },
      {
        "duration": 13,
        "start_time": "2023-02-10T18:43:02.306Z"
      },
      {
        "duration": 18,
        "start_time": "2023-02-10T18:43:02.321Z"
      },
      {
        "duration": 21,
        "start_time": "2023-02-10T18:43:02.340Z"
      },
      {
        "duration": 30,
        "start_time": "2023-02-10T18:43:02.363Z"
      },
      {
        "duration": 12,
        "start_time": "2023-02-10T18:43:02.395Z"
      },
      {
        "duration": 23,
        "start_time": "2023-02-10T18:43:02.409Z"
      },
      {
        "duration": 4,
        "start_time": "2023-02-10T19:07:52.613Z"
      },
      {
        "duration": 17,
        "start_time": "2023-02-10T19:09:05.617Z"
      },
      {
        "duration": 15,
        "start_time": "2023-02-10T19:14:02.204Z"
      },
      {
        "duration": 17,
        "start_time": "2023-02-10T19:14:42.323Z"
      },
      {
        "duration": 14,
        "start_time": "2023-02-10T19:15:59.473Z"
      },
      {
        "duration": 1150,
        "start_time": "2023-02-10T19:17:47.165Z"
      },
      {
        "duration": 4,
        "start_time": "2023-02-10T19:19:02.901Z"
      },
      {
        "duration": 5,
        "start_time": "2023-02-10T19:26:53.352Z"
      },
      {
        "duration": 4,
        "start_time": "2023-02-10T19:29:38.646Z"
      },
      {
        "duration": 1626,
        "start_time": "2023-02-11T10:37:39.957Z"
      },
      {
        "duration": 570,
        "start_time": "2023-02-11T10:37:41.585Z"
      },
      {
        "duration": 1237,
        "start_time": "2023-02-11T10:37:42.156Z"
      },
      {
        "duration": 166,
        "start_time": "2023-02-11T10:37:43.395Z"
      },
      {
        "duration": 17,
        "start_time": "2023-02-11T10:37:43.563Z"
      },
      {
        "duration": 24,
        "start_time": "2023-02-11T10:37:43.582Z"
      },
      {
        "duration": 16,
        "start_time": "2023-02-11T10:37:43.608Z"
      },
      {
        "duration": 300,
        "start_time": "2023-02-11T10:37:43.625Z"
      },
      {
        "duration": 295,
        "start_time": "2023-02-11T10:37:43.926Z"
      },
      {
        "duration": 154,
        "start_time": "2023-02-11T10:37:44.225Z"
      },
      {
        "duration": 15,
        "start_time": "2023-02-11T10:37:44.381Z"
      },
      {
        "duration": 7,
        "start_time": "2023-02-11T10:37:44.398Z"
      },
      {
        "duration": 11,
        "start_time": "2023-02-11T10:37:44.407Z"
      },
      {
        "duration": 8,
        "start_time": "2023-02-11T10:37:44.419Z"
      },
      {
        "duration": 16,
        "start_time": "2023-02-11T10:37:44.429Z"
      },
      {
        "duration": 7,
        "start_time": "2023-02-11T10:37:44.447Z"
      },
      {
        "duration": 57,
        "start_time": "2023-02-11T10:37:44.456Z"
      },
      {
        "duration": 11,
        "start_time": "2023-02-11T10:37:44.515Z"
      },
      {
        "duration": 132,
        "start_time": "2023-02-11T10:37:44.528Z"
      },
      {
        "duration": 24,
        "start_time": "2023-02-11T10:37:44.661Z"
      },
      {
        "duration": 11,
        "start_time": "2023-02-11T10:37:44.686Z"
      },
      {
        "duration": 14,
        "start_time": "2023-02-11T10:37:44.698Z"
      },
      {
        "duration": 555,
        "start_time": "2023-02-11T10:37:44.713Z"
      },
      {
        "duration": 539,
        "start_time": "2023-02-11T10:37:45.269Z"
      },
      {
        "duration": 592,
        "start_time": "2023-02-11T10:37:45.810Z"
      },
      {
        "duration": 501,
        "start_time": "2023-02-11T10:37:46.404Z"
      },
      {
        "duration": 268,
        "start_time": "2023-02-11T10:37:46.907Z"
      },
      {
        "duration": 294,
        "start_time": "2023-02-11T10:37:47.179Z"
      },
      {
        "duration": 296,
        "start_time": "2023-02-11T10:37:47.475Z"
      },
      {
        "duration": 582,
        "start_time": "2023-02-11T10:37:47.773Z"
      },
      {
        "duration": 3,
        "start_time": "2023-02-11T10:37:48.358Z"
      },
      {
        "duration": 10,
        "start_time": "2023-02-11T10:37:48.363Z"
      },
      {
        "duration": 25,
        "start_time": "2023-02-11T10:37:48.375Z"
      },
      {
        "duration": 20,
        "start_time": "2023-02-11T10:37:48.402Z"
      },
      {
        "duration": 21,
        "start_time": "2023-02-11T10:37:48.424Z"
      },
      {
        "duration": 10,
        "start_time": "2023-02-11T10:37:48.447Z"
      },
      {
        "duration": 45,
        "start_time": "2023-02-11T10:37:48.459Z"
      },
      {
        "duration": 4,
        "start_time": "2023-02-11T10:37:48.506Z"
      },
      {
        "duration": 4,
        "start_time": "2023-02-11T10:41:11.207Z"
      },
      {
        "duration": 3,
        "start_time": "2023-02-11T10:44:27.783Z"
      },
      {
        "duration": 802,
        "start_time": "2023-02-11T10:51:05.999Z"
      },
      {
        "duration": 1768,
        "start_time": "2023-02-11T10:52:12.266Z"
      },
      {
        "duration": 5,
        "start_time": "2023-02-11T10:54:56.456Z"
      },
      {
        "duration": 9,
        "start_time": "2023-02-11T10:58:21.565Z"
      },
      {
        "duration": 4,
        "start_time": "2023-02-11T10:58:24.665Z"
      },
      {
        "duration": 2,
        "start_time": "2023-02-11T10:58:26.143Z"
      },
      {
        "duration": 1351,
        "start_time": "2023-02-11T10:58:28.046Z"
      },
      {
        "duration": 1126,
        "start_time": "2023-02-11T11:02:58.169Z"
      },
      {
        "duration": 1250,
        "start_time": "2023-02-11T11:05:12.645Z"
      },
      {
        "duration": 4,
        "start_time": "2023-02-11T11:06:06.352Z"
      },
      {
        "duration": 2,
        "start_time": "2023-02-11T11:06:07.057Z"
      },
      {
        "duration": 1388,
        "start_time": "2023-02-11T11:06:07.607Z"
      },
      {
        "duration": 5,
        "start_time": "2023-02-11T11:06:19.726Z"
      },
      {
        "duration": 3,
        "start_time": "2023-02-11T11:06:20.102Z"
      },
      {
        "duration": 1253,
        "start_time": "2023-02-11T11:06:20.449Z"
      },
      {
        "duration": 5,
        "start_time": "2023-02-11T11:11:14.371Z"
      },
      {
        "duration": 12,
        "start_time": "2023-02-11T11:12:33.442Z"
      },
      {
        "duration": 74,
        "start_time": "2023-02-11T11:12:48.310Z"
      },
      {
        "duration": 11,
        "start_time": "2023-02-11T11:13:25.251Z"
      },
      {
        "duration": 1636,
        "start_time": "2023-02-11T11:13:28.466Z"
      },
      {
        "duration": 9,
        "start_time": "2023-02-11T11:14:41.397Z"
      },
      {
        "duration": 5070,
        "start_time": "2023-02-11T11:14:55.163Z"
      },
      {
        "duration": 5,
        "start_time": "2023-02-11T11:20:54.750Z"
      },
      {
        "duration": 3,
        "start_time": "2023-02-11T11:20:58.978Z"
      },
      {
        "duration": 3,
        "start_time": "2023-02-11T11:21:06.106Z"
      },
      {
        "duration": 16,
        "start_time": "2023-02-11T11:21:11.399Z"
      },
      {
        "duration": 6,
        "start_time": "2023-02-11T11:21:14.004Z"
      },
      {
        "duration": 4,
        "start_time": "2023-02-11T11:21:14.375Z"
      },
      {
        "duration": 6,
        "start_time": "2023-02-11T11:21:58.764Z"
      },
      {
        "duration": 2,
        "start_time": "2023-02-11T11:21:59.241Z"
      },
      {
        "duration": 1479,
        "start_time": "2023-02-11T11:22:00.515Z"
      },
      {
        "duration": 1157,
        "start_time": "2023-02-11T11:23:54.739Z"
      },
      {
        "duration": 5312,
        "start_time": "2023-02-11T11:25:52.735Z"
      },
      {
        "duration": 5,
        "start_time": "2023-02-11T11:27:01.572Z"
      },
      {
        "duration": 2,
        "start_time": "2023-02-11T11:27:02.058Z"
      },
      {
        "duration": 1664,
        "start_time": "2023-02-11T11:27:03.139Z"
      },
      {
        "duration": 5119,
        "start_time": "2023-02-11T11:27:08.037Z"
      },
      {
        "duration": 5257,
        "start_time": "2023-02-11T11:28:58.311Z"
      },
      {
        "duration": 5211,
        "start_time": "2023-02-11T11:29:26.146Z"
      },
      {
        "duration": 11,
        "start_time": "2023-02-11T11:37:17.217Z"
      },
      {
        "duration": 4,
        "start_time": "2023-02-11T11:38:20.181Z"
      },
      {
        "duration": 41403,
        "start_time": "2023-02-11T11:38:36.373Z"
      },
      {
        "duration": 41980,
        "start_time": "2023-02-11T11:41:12.539Z"
      },
      {
        "duration": 41765,
        "start_time": "2023-02-11T11:42:35.828Z"
      },
      {
        "duration": 3,
        "start_time": "2023-02-11T11:55:50.572Z"
      },
      {
        "duration": 367,
        "start_time": "2023-02-11T11:55:50.577Z"
      },
      {
        "duration": 253,
        "start_time": "2023-02-11T11:55:50.946Z"
      },
      {
        "duration": 89,
        "start_time": "2023-02-11T11:55:51.200Z"
      },
      {
        "duration": 18,
        "start_time": "2023-02-11T11:55:51.291Z"
      },
      {
        "duration": 15,
        "start_time": "2023-02-11T11:55:51.310Z"
      },
      {
        "duration": 12,
        "start_time": "2023-02-11T11:55:51.327Z"
      },
      {
        "duration": 267,
        "start_time": "2023-02-11T11:55:51.341Z"
      },
      {
        "duration": 216,
        "start_time": "2023-02-11T11:55:51.612Z"
      },
      {
        "duration": 127,
        "start_time": "2023-02-11T11:55:51.830Z"
      },
      {
        "duration": 7,
        "start_time": "2023-02-11T11:55:51.959Z"
      },
      {
        "duration": 9,
        "start_time": "2023-02-11T11:55:51.967Z"
      },
      {
        "duration": 16,
        "start_time": "2023-02-11T11:55:51.978Z"
      },
      {
        "duration": 5,
        "start_time": "2023-02-11T11:55:51.995Z"
      },
      {
        "duration": 11,
        "start_time": "2023-02-11T11:55:52.001Z"
      },
      {
        "duration": 6,
        "start_time": "2023-02-11T11:55:52.013Z"
      },
      {
        "duration": 39,
        "start_time": "2023-02-11T11:55:52.020Z"
      },
      {
        "duration": 36,
        "start_time": "2023-02-11T11:55:52.060Z"
      },
      {
        "duration": 125,
        "start_time": "2023-02-11T11:55:52.098Z"
      },
      {
        "duration": 32,
        "start_time": "2023-02-11T11:55:52.225Z"
      },
      {
        "duration": 7,
        "start_time": "2023-02-11T11:55:52.259Z"
      },
      {
        "duration": 35,
        "start_time": "2023-02-11T11:55:52.268Z"
      },
      {
        "duration": 491,
        "start_time": "2023-02-11T11:55:52.305Z"
      },
      {
        "duration": 474,
        "start_time": "2023-02-11T11:55:52.797Z"
      },
      {
        "duration": 504,
        "start_time": "2023-02-11T11:55:53.273Z"
      },
      {
        "duration": 549,
        "start_time": "2023-02-11T11:55:53.778Z"
      },
      {
        "duration": 282,
        "start_time": "2023-02-11T11:55:54.329Z"
      },
      {
        "duration": 275,
        "start_time": "2023-02-11T11:55:54.612Z"
      },
      {
        "duration": 395,
        "start_time": "2023-02-11T11:55:54.893Z"
      },
      {
        "duration": 468,
        "start_time": "2023-02-11T11:55:55.293Z"
      },
      {
        "duration": 5,
        "start_time": "2023-02-11T11:55:55.763Z"
      },
      {
        "duration": 274,
        "start_time": "2023-02-11T11:55:55.769Z"
      },
      {
        "duration": 10,
        "start_time": "2023-02-11T11:55:56.045Z"
      },
      {
        "duration": 16,
        "start_time": "2023-02-11T11:55:56.057Z"
      },
      {
        "duration": 27,
        "start_time": "2023-02-11T11:55:56.075Z"
      },
      {
        "duration": 9,
        "start_time": "2023-02-11T11:55:56.104Z"
      },
      {
        "duration": 25,
        "start_time": "2023-02-11T11:55:56.114Z"
      },
      {
        "duration": 4,
        "start_time": "2023-02-11T11:55:56.141Z"
      },
      {
        "duration": 11,
        "start_time": "2023-02-11T11:55:56.147Z"
      },
      {
        "duration": 1240,
        "start_time": "2023-02-11T11:55:56.160Z"
      },
      {
        "duration": 29613,
        "start_time": "2023-02-11T11:55:57.402Z"
      },
      {
        "duration": 30051,
        "start_time": "2023-02-11T12:02:50.874Z"
      },
      {
        "duration": 12,
        "start_time": "2023-02-11T12:08:23.995Z"
      },
      {
        "duration": 4,
        "start_time": "2023-02-11T12:10:18.935Z"
      },
      {
        "duration": 10,
        "start_time": "2023-02-11T12:10:24.777Z"
      },
      {
        "duration": 360566,
        "start_time": "2023-02-11T12:15:30.233Z"
      },
      {
        "duration": 454527,
        "start_time": "2023-02-11T12:21:53.727Z"
      },
      {
        "duration": 1343,
        "start_time": "2023-02-11T13:06:40.598Z"
      },
      {
        "duration": 388,
        "start_time": "2023-02-11T13:06:41.943Z"
      },
      {
        "duration": 309,
        "start_time": "2023-02-11T13:06:42.333Z"
      },
      {
        "duration": 93,
        "start_time": "2023-02-11T13:06:42.644Z"
      },
      {
        "duration": 17,
        "start_time": "2023-02-11T13:06:42.739Z"
      },
      {
        "duration": 16,
        "start_time": "2023-02-11T13:06:42.757Z"
      },
      {
        "duration": 29,
        "start_time": "2023-02-11T13:06:42.775Z"
      },
      {
        "duration": 244,
        "start_time": "2023-02-11T13:06:42.805Z"
      },
      {
        "duration": 217,
        "start_time": "2023-02-11T13:06:43.051Z"
      },
      {
        "duration": 139,
        "start_time": "2023-02-11T13:06:43.271Z"
      },
      {
        "duration": 9,
        "start_time": "2023-02-11T13:06:43.412Z"
      },
      {
        "duration": 5,
        "start_time": "2023-02-11T13:06:43.422Z"
      },
      {
        "duration": 6,
        "start_time": "2023-02-11T13:06:43.429Z"
      },
      {
        "duration": 12,
        "start_time": "2023-02-11T13:06:43.436Z"
      },
      {
        "duration": 18,
        "start_time": "2023-02-11T13:06:43.450Z"
      },
      {
        "duration": 26,
        "start_time": "2023-02-11T13:06:43.469Z"
      },
      {
        "duration": 46,
        "start_time": "2023-02-11T13:06:43.497Z"
      },
      {
        "duration": 12,
        "start_time": "2023-02-11T13:06:43.545Z"
      },
      {
        "duration": 140,
        "start_time": "2023-02-11T13:06:43.558Z"
      },
      {
        "duration": 23,
        "start_time": "2023-02-11T13:06:43.699Z"
      },
      {
        "duration": 5,
        "start_time": "2023-02-11T13:06:43.724Z"
      },
      {
        "duration": 26,
        "start_time": "2023-02-11T13:06:43.731Z"
      },
      {
        "duration": 587,
        "start_time": "2023-02-11T13:06:43.760Z"
      },
      {
        "duration": 507,
        "start_time": "2023-02-11T13:06:44.349Z"
      },
      {
        "duration": 545,
        "start_time": "2023-02-11T13:06:44.858Z"
      },
      {
        "duration": 397,
        "start_time": "2023-02-11T13:06:45.404Z"
      },
      {
        "duration": 268,
        "start_time": "2023-02-11T13:06:45.803Z"
      },
      {
        "duration": 280,
        "start_time": "2023-02-11T13:06:46.075Z"
      },
      {
        "duration": 301,
        "start_time": "2023-02-11T13:06:46.357Z"
      },
      {
        "duration": 564,
        "start_time": "2023-02-11T13:06:46.660Z"
      },
      {
        "duration": 5,
        "start_time": "2023-02-11T13:06:47.226Z"
      },
      {
        "duration": 277,
        "start_time": "2023-02-11T13:06:47.232Z"
      },
      {
        "duration": 10,
        "start_time": "2023-02-11T13:06:47.511Z"
      },
      {
        "duration": 20,
        "start_time": "2023-02-11T13:06:47.523Z"
      },
      {
        "duration": 15,
        "start_time": "2023-02-11T13:06:47.544Z"
      },
      {
        "duration": 38,
        "start_time": "2023-02-11T13:06:47.560Z"
      },
      {
        "duration": 22,
        "start_time": "2023-02-11T13:06:47.599Z"
      },
      {
        "duration": 4,
        "start_time": "2023-02-11T13:06:47.623Z"
      },
      {
        "duration": 4,
        "start_time": "2023-02-11T13:06:47.629Z"
      },
      {
        "duration": 1359,
        "start_time": "2023-02-11T13:06:47.635Z"
      },
      {
        "duration": 357577,
        "start_time": "2023-02-11T13:06:48.998Z"
      },
      {
        "duration": 383994,
        "start_time": "2023-02-11T13:12:46.577Z"
      },
      {
        "duration": 132,
        "start_time": "2023-02-11T13:19:10.573Z"
      },
      {
        "duration": 24,
        "start_time": "2023-02-11T13:21:27.447Z"
      },
      {
        "duration": 1402,
        "start_time": "2023-02-11T13:28:04.056Z"
      },
      {
        "duration": 387,
        "start_time": "2023-02-11T13:28:05.460Z"
      },
      {
        "duration": 276,
        "start_time": "2023-02-11T13:28:05.849Z"
      },
      {
        "duration": 94,
        "start_time": "2023-02-11T13:28:06.127Z"
      },
      {
        "duration": 18,
        "start_time": "2023-02-11T13:28:06.223Z"
      },
      {
        "duration": 16,
        "start_time": "2023-02-11T13:28:06.242Z"
      },
      {
        "duration": 11,
        "start_time": "2023-02-11T13:28:06.260Z"
      },
      {
        "duration": 253,
        "start_time": "2023-02-11T13:28:06.293Z"
      },
      {
        "duration": 222,
        "start_time": "2023-02-11T13:28:06.547Z"
      },
      {
        "duration": 125,
        "start_time": "2023-02-11T13:28:06.771Z"
      },
      {
        "duration": 8,
        "start_time": "2023-02-11T13:28:06.898Z"
      },
      {
        "duration": 4,
        "start_time": "2023-02-11T13:28:06.908Z"
      },
      {
        "duration": 8,
        "start_time": "2023-02-11T13:28:06.914Z"
      },
      {
        "duration": 11,
        "start_time": "2023-02-11T13:28:06.923Z"
      },
      {
        "duration": 15,
        "start_time": "2023-02-11T13:28:06.935Z"
      },
      {
        "duration": 6,
        "start_time": "2023-02-11T13:28:06.951Z"
      },
      {
        "duration": 68,
        "start_time": "2023-02-11T13:28:06.959Z"
      },
      {
        "duration": 11,
        "start_time": "2023-02-11T13:28:07.029Z"
      },
      {
        "duration": 130,
        "start_time": "2023-02-11T13:28:07.041Z"
      },
      {
        "duration": 32,
        "start_time": "2023-02-11T13:28:07.173Z"
      },
      {
        "duration": 5,
        "start_time": "2023-02-11T13:28:07.206Z"
      },
      {
        "duration": 6,
        "start_time": "2023-02-11T13:28:07.213Z"
      },
      {
        "duration": 494,
        "start_time": "2023-02-11T13:28:07.220Z"
      },
      {
        "duration": 482,
        "start_time": "2023-02-11T13:28:07.716Z"
      },
      {
        "duration": 583,
        "start_time": "2023-02-11T13:28:08.200Z"
      },
      {
        "duration": 412,
        "start_time": "2023-02-11T13:28:08.792Z"
      },
      {
        "duration": 276,
        "start_time": "2023-02-11T13:28:09.206Z"
      },
      {
        "duration": 285,
        "start_time": "2023-02-11T13:28:09.485Z"
      },
      {
        "duration": 307,
        "start_time": "2023-02-11T13:28:09.772Z"
      },
      {
        "duration": 565,
        "start_time": "2023-02-11T13:28:10.081Z"
      },
      {
        "duration": 4,
        "start_time": "2023-02-11T13:28:10.648Z"
      },
      {
        "duration": 285,
        "start_time": "2023-02-11T13:28:10.653Z"
      },
      {
        "duration": 4,
        "start_time": "2023-02-11T13:28:10.939Z"
      },
      {
        "duration": 152,
        "start_time": "2023-02-11T13:28:10.944Z"
      },
      {
        "duration": 10,
        "start_time": "2023-02-11T13:28:11.097Z"
      },
      {
        "duration": 17,
        "start_time": "2023-02-11T13:28:11.109Z"
      },
      {
        "duration": 15,
        "start_time": "2023-02-11T13:28:11.128Z"
      },
      {
        "duration": 8,
        "start_time": "2023-02-11T13:28:11.145Z"
      },
      {
        "duration": 46,
        "start_time": "2023-02-11T13:28:11.154Z"
      },
      {
        "duration": 4,
        "start_time": "2023-02-11T13:28:11.202Z"
      },
      {
        "duration": 8,
        "start_time": "2023-02-11T13:28:11.207Z"
      },
      {
        "duration": 1278,
        "start_time": "2023-02-11T13:28:11.216Z"
      },
      {
        "duration": 359890,
        "start_time": "2023-02-11T13:28:12.496Z"
      },
      {
        "duration": 288690,
        "start_time": "2023-02-11T13:34:12.388Z"
      },
      {
        "duration": 32,
        "start_time": "2023-02-11T13:39:01.080Z"
      },
      {
        "duration": 106,
        "start_time": "2023-02-11T13:43:02.869Z"
      },
      {
        "duration": 4,
        "start_time": "2023-02-11T13:43:51.882Z"
      },
      {
        "duration": 9,
        "start_time": "2023-02-11T13:43:57.298Z"
      },
      {
        "duration": 31,
        "start_time": "2023-02-11T14:14:15.268Z"
      },
      {
        "duration": 4,
        "start_time": "2023-02-11T14:14:56.758Z"
      },
      {
        "duration": 31,
        "start_time": "2023-02-11T14:15:02.113Z"
      },
      {
        "duration": 4,
        "start_time": "2023-02-11T14:15:27.427Z"
      },
      {
        "duration": 4,
        "start_time": "2023-02-11T14:32:05.716Z"
      },
      {
        "duration": 10,
        "start_time": "2023-02-11T14:33:07.018Z"
      },
      {
        "duration": 1345,
        "start_time": "2023-02-11T14:33:55.528Z"
      },
      {
        "duration": 395,
        "start_time": "2023-02-11T14:33:56.875Z"
      },
      {
        "duration": 278,
        "start_time": "2023-02-11T14:33:57.272Z"
      },
      {
        "duration": 95,
        "start_time": "2023-02-11T14:33:57.551Z"
      },
      {
        "duration": 18,
        "start_time": "2023-02-11T14:33:57.648Z"
      },
      {
        "duration": 33,
        "start_time": "2023-02-11T14:33:57.668Z"
      },
      {
        "duration": 11,
        "start_time": "2023-02-11T14:33:57.703Z"
      },
      {
        "duration": 250,
        "start_time": "2023-02-11T14:33:57.716Z"
      },
      {
        "duration": 240,
        "start_time": "2023-02-11T14:33:57.967Z"
      },
      {
        "duration": 128,
        "start_time": "2023-02-11T14:33:58.208Z"
      },
      {
        "duration": 10,
        "start_time": "2023-02-11T14:33:58.338Z"
      },
      {
        "duration": 4,
        "start_time": "2023-02-11T14:33:58.349Z"
      },
      {
        "duration": 6,
        "start_time": "2023-02-11T14:33:58.355Z"
      },
      {
        "duration": 29,
        "start_time": "2023-02-11T14:33:58.364Z"
      },
      {
        "duration": 9,
        "start_time": "2023-02-11T14:33:58.395Z"
      },
      {
        "duration": 7,
        "start_time": "2023-02-11T14:33:58.405Z"
      },
      {
        "duration": 45,
        "start_time": "2023-02-11T14:33:58.413Z"
      },
      {
        "duration": 37,
        "start_time": "2023-02-11T14:33:58.460Z"
      },
      {
        "duration": 128,
        "start_time": "2023-02-11T14:33:58.499Z"
      },
      {
        "duration": 22,
        "start_time": "2023-02-11T14:33:58.629Z"
      },
      {
        "duration": 5,
        "start_time": "2023-02-11T14:33:58.653Z"
      },
      {
        "duration": 6,
        "start_time": "2023-02-11T14:33:58.659Z"
      },
      {
        "duration": 533,
        "start_time": "2023-02-11T14:33:58.666Z"
      },
      {
        "duration": 485,
        "start_time": "2023-02-11T14:33:59.201Z"
      },
      {
        "duration": 602,
        "start_time": "2023-02-11T14:33:59.693Z"
      },
      {
        "duration": 510,
        "start_time": "2023-02-11T14:34:00.297Z"
      },
      {
        "duration": 316,
        "start_time": "2023-02-11T14:34:00.809Z"
      },
      {
        "duration": 311,
        "start_time": "2023-02-11T14:34:01.127Z"
      },
      {
        "duration": 320,
        "start_time": "2023-02-11T14:34:01.440Z"
      },
      {
        "duration": 580,
        "start_time": "2023-02-11T14:34:01.762Z"
      },
      {
        "duration": 5,
        "start_time": "2023-02-11T14:34:02.344Z"
      },
      {
        "duration": 298,
        "start_time": "2023-02-11T14:34:02.350Z"
      },
      {
        "duration": 4,
        "start_time": "2023-02-11T14:34:02.649Z"
      },
      {
        "duration": 165,
        "start_time": "2023-02-11T14:34:02.654Z"
      },
      {
        "duration": 10,
        "start_time": "2023-02-11T14:34:02.821Z"
      },
      {
        "duration": 20,
        "start_time": "2023-02-11T14:34:02.833Z"
      },
      {
        "duration": 31,
        "start_time": "2023-02-11T14:34:02.855Z"
      },
      {
        "duration": 10,
        "start_time": "2023-02-11T14:34:02.888Z"
      },
      {
        "duration": 20,
        "start_time": "2023-02-11T14:34:02.899Z"
      },
      {
        "duration": 4,
        "start_time": "2023-02-11T14:34:02.921Z"
      },
      {
        "duration": 6,
        "start_time": "2023-02-11T14:34:02.928Z"
      },
      {
        "duration": 1262,
        "start_time": "2023-02-11T14:34:02.935Z"
      },
      {
        "duration": 358666,
        "start_time": "2023-02-11T14:34:04.199Z"
      },
      {
        "duration": 119,
        "start_time": "2023-02-11T14:40:02.867Z"
      },
      {
        "duration": 0,
        "start_time": "2023-02-11T14:40:02.988Z"
      },
      {
        "duration": 0,
        "start_time": "2023-02-11T14:40:02.989Z"
      },
      {
        "duration": 424287,
        "start_time": "2023-02-11T14:44:38.439Z"
      },
      {
        "duration": 10,
        "start_time": "2023-02-11T14:51:42.728Z"
      },
      {
        "duration": 12,
        "start_time": "2023-02-11T14:51:42.740Z"
      },
      {
        "duration": 4,
        "start_time": "2023-02-11T14:53:59.961Z"
      },
      {
        "duration": 413,
        "start_time": "2023-02-11T14:53:59.970Z"
      },
      {
        "duration": 277,
        "start_time": "2023-02-11T14:54:00.385Z"
      },
      {
        "duration": 98,
        "start_time": "2023-02-11T14:54:00.664Z"
      },
      {
        "duration": 17,
        "start_time": "2023-02-11T14:54:00.764Z"
      },
      {
        "duration": 44,
        "start_time": "2023-02-11T14:54:00.783Z"
      },
      {
        "duration": 16,
        "start_time": "2023-02-11T14:54:00.829Z"
      },
      {
        "duration": 264,
        "start_time": "2023-02-11T14:54:00.847Z"
      },
      {
        "duration": 219,
        "start_time": "2023-02-11T14:54:01.113Z"
      },
      {
        "duration": 131,
        "start_time": "2023-02-11T14:54:01.334Z"
      },
      {
        "duration": 8,
        "start_time": "2023-02-11T14:54:01.466Z"
      },
      {
        "duration": 13,
        "start_time": "2023-02-11T14:54:01.475Z"
      },
      {
        "duration": 8,
        "start_time": "2023-02-11T14:54:01.496Z"
      },
      {
        "duration": 19,
        "start_time": "2023-02-11T14:54:01.505Z"
      },
      {
        "duration": 10,
        "start_time": "2023-02-11T14:54:01.528Z"
      },
      {
        "duration": 7,
        "start_time": "2023-02-11T14:54:01.540Z"
      },
      {
        "duration": 61,
        "start_time": "2023-02-11T14:54:01.549Z"
      },
      {
        "duration": 13,
        "start_time": "2023-02-11T14:54:01.612Z"
      },
      {
        "duration": 130,
        "start_time": "2023-02-11T14:54:01.627Z"
      },
      {
        "duration": 23,
        "start_time": "2023-02-11T14:54:01.759Z"
      },
      {
        "duration": 11,
        "start_time": "2023-02-11T14:54:01.796Z"
      },
      {
        "duration": 24,
        "start_time": "2023-02-11T14:54:01.810Z"
      },
      {
        "duration": 591,
        "start_time": "2023-02-11T14:54:01.836Z"
      },
      {
        "duration": 505,
        "start_time": "2023-02-11T14:54:02.428Z"
      },
      {
        "duration": 527,
        "start_time": "2023-02-11T14:54:02.934Z"
      },
      {
        "duration": 568,
        "start_time": "2023-02-11T14:54:03.463Z"
      },
      {
        "duration": 393,
        "start_time": "2023-02-11T14:54:04.033Z"
      },
      {
        "duration": 313,
        "start_time": "2023-02-11T14:54:04.428Z"
      },
      {
        "duration": 462,
        "start_time": "2023-02-11T14:54:04.742Z"
      },
      {
        "duration": 502,
        "start_time": "2023-02-11T14:54:05.206Z"
      },
      {
        "duration": 5,
        "start_time": "2023-02-11T14:54:05.710Z"
      },
      {
        "duration": 291,
        "start_time": "2023-02-11T14:54:05.717Z"
      },
      {
        "duration": 4,
        "start_time": "2023-02-11T14:54:06.010Z"
      },
      {
        "duration": 158,
        "start_time": "2023-02-11T14:54:06.016Z"
      },
      {
        "duration": 9,
        "start_time": "2023-02-11T14:54:06.176Z"
      },
      {
        "duration": 24,
        "start_time": "2023-02-11T14:54:06.197Z"
      },
      {
        "duration": 15,
        "start_time": "2023-02-11T14:54:06.223Z"
      },
      {
        "duration": 8,
        "start_time": "2023-02-11T14:54:06.240Z"
      },
      {
        "duration": 20,
        "start_time": "2023-02-11T14:54:06.250Z"
      },
      {
        "duration": 32,
        "start_time": "2023-02-11T14:54:06.272Z"
      },
      {
        "duration": 29,
        "start_time": "2023-02-11T14:54:06.307Z"
      },
      {
        "duration": 1857,
        "start_time": "2023-02-11T14:54:06.340Z"
      },
      {
        "duration": 374842,
        "start_time": "2023-02-11T14:54:08.200Z"
      },
      {
        "duration": 313384,
        "start_time": "2023-02-11T15:00:23.044Z"
      },
      {
        "duration": 14,
        "start_time": "2023-02-11T15:05:36.431Z"
      },
      {
        "duration": 9,
        "start_time": "2023-02-11T15:05:36.447Z"
      },
      {
        "duration": 14,
        "start_time": "2023-02-11T15:18:16.284Z"
      },
      {
        "duration": 155,
        "start_time": "2023-02-11T15:28:55.581Z"
      },
      {
        "duration": 135,
        "start_time": "2023-02-11T15:30:08.481Z"
      },
      {
        "duration": 6,
        "start_time": "2023-02-11T15:30:22.235Z"
      },
      {
        "duration": 421,
        "start_time": "2023-02-11T15:30:22.243Z"
      },
      {
        "duration": 277,
        "start_time": "2023-02-11T15:30:22.666Z"
      },
      {
        "duration": 87,
        "start_time": "2023-02-11T15:30:22.945Z"
      },
      {
        "duration": 16,
        "start_time": "2023-02-11T15:30:23.034Z"
      },
      {
        "duration": 15,
        "start_time": "2023-02-11T15:30:23.052Z"
      },
      {
        "duration": 34,
        "start_time": "2023-02-11T15:30:23.069Z"
      },
      {
        "duration": 240,
        "start_time": "2023-02-11T15:30:23.106Z"
      },
      {
        "duration": 229,
        "start_time": "2023-02-11T15:30:23.347Z"
      },
      {
        "duration": 134,
        "start_time": "2023-02-11T15:30:23.578Z"
      },
      {
        "duration": 10,
        "start_time": "2023-02-11T15:30:23.714Z"
      },
      {
        "duration": 5,
        "start_time": "2023-02-11T15:30:23.726Z"
      },
      {
        "duration": 4,
        "start_time": "2023-02-11T15:30:23.733Z"
      },
      {
        "duration": 6,
        "start_time": "2023-02-11T15:30:23.739Z"
      },
      {
        "duration": 14,
        "start_time": "2023-02-11T15:30:23.746Z"
      },
      {
        "duration": 40,
        "start_time": "2023-02-11T15:30:23.762Z"
      },
      {
        "duration": 47,
        "start_time": "2023-02-11T15:30:23.803Z"
      },
      {
        "duration": 14,
        "start_time": "2023-02-11T15:30:23.851Z"
      },
      {
        "duration": 167,
        "start_time": "2023-02-11T15:30:23.867Z"
      },
      {
        "duration": 26,
        "start_time": "2023-02-11T15:30:24.036Z"
      },
      {
        "duration": 7,
        "start_time": "2023-02-11T15:30:24.064Z"
      },
      {
        "duration": 22,
        "start_time": "2023-02-11T15:30:24.073Z"
      },
      {
        "duration": 587,
        "start_time": "2023-02-11T15:30:24.099Z"
      },
      {
        "duration": 551,
        "start_time": "2023-02-11T15:30:24.688Z"
      },
      {
        "duration": 540,
        "start_time": "2023-02-11T15:30:25.241Z"
      },
      {
        "duration": 655,
        "start_time": "2023-02-11T15:30:25.783Z"
      },
      {
        "duration": 313,
        "start_time": "2023-02-11T15:30:26.439Z"
      },
      {
        "duration": 304,
        "start_time": "2023-02-11T15:30:26.754Z"
      },
      {
        "duration": 353,
        "start_time": "2023-02-11T15:30:27.062Z"
      },
      {
        "duration": 526,
        "start_time": "2023-02-11T15:30:27.417Z"
      },
      {
        "duration": 4,
        "start_time": "2023-02-11T15:30:27.945Z"
      },
      {
        "duration": 296,
        "start_time": "2023-02-11T15:30:27.951Z"
      },
      {
        "duration": 12,
        "start_time": "2023-02-11T15:30:28.248Z"
      },
      {
        "duration": 174,
        "start_time": "2023-02-11T15:30:28.261Z"
      },
      {
        "duration": 18,
        "start_time": "2023-02-11T15:30:28.436Z"
      },
      {
        "duration": 9,
        "start_time": "2023-02-11T15:30:28.456Z"
      },
      {
        "duration": 43,
        "start_time": "2023-02-11T15:30:28.466Z"
      },
      {
        "duration": 5,
        "start_time": "2023-02-11T15:30:28.513Z"
      },
      {
        "duration": 6,
        "start_time": "2023-02-11T15:30:28.519Z"
      },
      {
        "duration": 1577,
        "start_time": "2023-02-11T15:30:28.526Z"
      },
      {
        "duration": 377065,
        "start_time": "2023-02-11T15:30:30.105Z"
      },
      {
        "duration": 414550,
        "start_time": "2023-02-11T15:36:47.171Z"
      },
      {
        "duration": 13,
        "start_time": "2023-02-11T15:43:41.722Z"
      },
      {
        "duration": 7,
        "start_time": "2023-02-11T15:43:41.738Z"
      },
      {
        "duration": 1787,
        "start_time": "2023-02-11T16:13:49.457Z"
      },
      {
        "duration": 472,
        "start_time": "2023-02-11T16:13:51.246Z"
      },
      {
        "duration": 351,
        "start_time": "2023-02-11T16:13:51.727Z"
      },
      {
        "duration": 125,
        "start_time": "2023-02-11T16:13:52.080Z"
      },
      {
        "duration": 28,
        "start_time": "2023-02-11T16:13:52.208Z"
      },
      {
        "duration": 34,
        "start_time": "2023-02-11T16:13:52.238Z"
      },
      {
        "duration": 14,
        "start_time": "2023-02-11T16:13:52.273Z"
      },
      {
        "duration": 334,
        "start_time": "2023-02-11T16:13:52.289Z"
      },
      {
        "duration": 246,
        "start_time": "2023-02-11T16:13:52.625Z"
      },
      {
        "duration": 151,
        "start_time": "2023-02-11T16:13:52.873Z"
      },
      {
        "duration": 18,
        "start_time": "2023-02-11T16:13:53.026Z"
      },
      {
        "duration": 7,
        "start_time": "2023-02-11T16:13:53.046Z"
      },
      {
        "duration": 7,
        "start_time": "2023-02-11T16:13:53.054Z"
      },
      {
        "duration": 8,
        "start_time": "2023-02-11T16:13:53.064Z"
      },
      {
        "duration": 12,
        "start_time": "2023-02-11T16:13:53.073Z"
      },
      {
        "duration": 31,
        "start_time": "2023-02-11T16:13:53.087Z"
      },
      {
        "duration": 71,
        "start_time": "2023-02-11T16:13:53.121Z"
      },
      {
        "duration": 24,
        "start_time": "2023-02-11T16:13:53.194Z"
      },
      {
        "duration": 143,
        "start_time": "2023-02-11T16:13:53.220Z"
      },
      {
        "duration": 24,
        "start_time": "2023-02-11T16:13:53.365Z"
      },
      {
        "duration": 14,
        "start_time": "2023-02-11T16:13:53.400Z"
      },
      {
        "duration": 21,
        "start_time": "2023-02-11T16:13:53.417Z"
      },
      {
        "duration": 585,
        "start_time": "2023-02-11T16:13:53.439Z"
      },
      {
        "duration": 615,
        "start_time": "2023-02-11T16:13:54.030Z"
      },
      {
        "duration": 632,
        "start_time": "2023-02-11T16:13:54.647Z"
      },
      {
        "duration": 535,
        "start_time": "2023-02-11T16:13:55.281Z"
      },
      {
        "duration": 299,
        "start_time": "2023-02-11T16:13:55.820Z"
      },
      {
        "duration": 310,
        "start_time": "2023-02-11T16:13:56.129Z"
      },
      {
        "duration": 340,
        "start_time": "2023-02-11T16:13:56.441Z"
      },
      {
        "duration": 664,
        "start_time": "2023-02-11T16:13:56.782Z"
      },
      {
        "duration": 4,
        "start_time": "2023-02-11T16:13:57.448Z"
      },
      {
        "duration": 305,
        "start_time": "2023-02-11T16:13:57.453Z"
      },
      {
        "duration": 11,
        "start_time": "2023-02-11T16:13:57.760Z"
      },
      {
        "duration": 32,
        "start_time": "2023-02-11T16:13:57.773Z"
      },
      {
        "duration": 34,
        "start_time": "2023-02-11T16:13:57.807Z"
      },
      {
        "duration": 13,
        "start_time": "2023-02-11T16:13:57.843Z"
      },
      {
        "duration": 33,
        "start_time": "2023-02-11T16:13:57.858Z"
      },
      {
        "duration": 7,
        "start_time": "2023-02-11T16:13:57.895Z"
      },
      {
        "duration": 4,
        "start_time": "2023-02-11T16:13:57.905Z"
      },
      {
        "duration": 2611,
        "start_time": "2023-02-11T16:13:57.911Z"
      },
      {
        "duration": 392331,
        "start_time": "2023-02-11T16:14:00.533Z"
      },
      {
        "duration": 256951,
        "start_time": "2023-02-11T16:20:32.865Z"
      },
      {
        "duration": 13,
        "start_time": "2023-02-11T16:24:49.820Z"
      },
      {
        "duration": 10,
        "start_time": "2023-02-11T16:24:49.834Z"
      },
      {
        "duration": 4054,
        "start_time": "2023-02-12T07:30:16.429Z"
      },
      {
        "duration": 1951,
        "start_time": "2023-02-12T07:30:20.485Z"
      },
      {
        "duration": 904,
        "start_time": "2023-02-12T07:30:22.438Z"
      },
      {
        "duration": 411,
        "start_time": "2023-02-12T07:30:23.344Z"
      },
      {
        "duration": 19,
        "start_time": "2023-02-12T07:30:23.756Z"
      },
      {
        "duration": 18,
        "start_time": "2023-02-12T07:30:23.777Z"
      },
      {
        "duration": 21,
        "start_time": "2023-02-12T07:30:23.797Z"
      },
      {
        "duration": 285,
        "start_time": "2023-02-12T07:30:23.820Z"
      },
      {
        "duration": 236,
        "start_time": "2023-02-12T07:30:24.107Z"
      },
      {
        "duration": 131,
        "start_time": "2023-02-12T07:30:24.345Z"
      },
      {
        "duration": 8,
        "start_time": "2023-02-12T07:30:24.478Z"
      },
      {
        "duration": 4,
        "start_time": "2023-02-12T07:30:24.488Z"
      },
      {
        "duration": 8,
        "start_time": "2023-02-12T07:30:24.494Z"
      },
      {
        "duration": 8,
        "start_time": "2023-02-12T07:30:24.503Z"
      },
      {
        "duration": 18,
        "start_time": "2023-02-12T07:30:24.512Z"
      },
      {
        "duration": 6,
        "start_time": "2023-02-12T07:30:24.532Z"
      },
      {
        "duration": 65,
        "start_time": "2023-02-12T07:30:24.539Z"
      },
      {
        "duration": 11,
        "start_time": "2023-02-12T07:30:24.606Z"
      },
      {
        "duration": 138,
        "start_time": "2023-02-12T07:30:24.619Z"
      },
      {
        "duration": 37,
        "start_time": "2023-02-12T07:30:24.759Z"
      },
      {
        "duration": 8,
        "start_time": "2023-02-12T07:30:24.798Z"
      },
      {
        "duration": 14,
        "start_time": "2023-02-12T07:30:24.808Z"
      },
      {
        "duration": 607,
        "start_time": "2023-02-12T07:30:24.825Z"
      },
      {
        "duration": 537,
        "start_time": "2023-02-12T07:30:25.434Z"
      },
      {
        "duration": 629,
        "start_time": "2023-02-12T07:30:25.973Z"
      },
      {
        "duration": 492,
        "start_time": "2023-02-12T07:30:26.604Z"
      },
      {
        "duration": 309,
        "start_time": "2023-02-12T07:30:27.099Z"
      },
      {
        "duration": 314,
        "start_time": "2023-02-12T07:30:27.411Z"
      },
      {
        "duration": 331,
        "start_time": "2023-02-12T07:30:27.727Z"
      },
      {
        "duration": 607,
        "start_time": "2023-02-12T07:30:28.060Z"
      },
      {
        "duration": 4,
        "start_time": "2023-02-12T07:30:28.669Z"
      },
      {
        "duration": 312,
        "start_time": "2023-02-12T07:30:28.675Z"
      },
      {
        "duration": 11,
        "start_time": "2023-02-12T07:30:28.989Z"
      },
      {
        "duration": 23,
        "start_time": "2023-02-12T07:30:29.002Z"
      },
      {
        "duration": 45,
        "start_time": "2023-02-12T07:30:29.027Z"
      },
      {
        "duration": 9,
        "start_time": "2023-02-12T07:30:29.074Z"
      },
      {
        "duration": 42,
        "start_time": "2023-02-12T07:30:29.084Z"
      },
      {
        "duration": 19,
        "start_time": "2023-02-12T07:41:46.530Z"
      },
      {
        "duration": 5,
        "start_time": "2023-02-12T07:41:50.882Z"
      },
      {
        "duration": 3,
        "start_time": "2023-02-12T07:41:51.985Z"
      },
      {
        "duration": 1350,
        "start_time": "2023-02-12T07:41:54.019Z"
      },
      {
        "duration": 1272,
        "start_time": "2023-02-12T07:42:47.195Z"
      },
      {
        "duration": 5,
        "start_time": "2023-02-12T07:42:52.080Z"
      },
      {
        "duration": 2,
        "start_time": "2023-02-12T07:42:53.890Z"
      },
      {
        "duration": 1042,
        "start_time": "2023-02-12T07:42:55.826Z"
      }
    ],
    "kernelspec": {
      "display_name": "Python 3 (ipykernel)",
      "language": "python",
      "name": "python3"
    },
    "language_info": {
      "codemirror_mode": {
        "name": "ipython",
        "version": 3
      },
      "file_extension": ".py",
      "mimetype": "text/x-python",
      "name": "python",
      "nbconvert_exporter": "python",
      "pygments_lexer": "ipython3",
      "version": "3.9.5"
    },
    "toc": {
      "base_numbering": 1,
      "nav_menu": {},
      "number_sections": true,
      "sideBar": true,
      "skip_h1_title": true,
      "title_cell": "Содержание",
      "title_sidebar": "Contents",
      "toc_cell": true,
      "toc_position": {
        "height": "calc(100% - 180px)",
        "left": "10px",
        "top": "150px",
        "width": "255.391px"
      },
      "toc_section_display": true,
      "toc_window_display": false
    },
    "colab": {
      "provenance": []
    }
  },
  "nbformat": 4,
  "nbformat_minor": 0
}